{
 "cells": [
  {
   "cell_type": "markdown",
   "id": "857fa01c",
   "metadata": {},
   "source": [
    "## Broadcasting"
   ]
  },
  {
   "cell_type": "code",
   "execution_count": 1,
   "id": "d36e9dc4",
   "metadata": {},
   "outputs": [],
   "source": [
    "import numpy as np"
   ]
  },
  {
   "cell_type": "code",
   "execution_count": 2,
   "id": "1c774fae",
   "metadata": {},
   "outputs": [
    {
     "data": {
      "text/plain": [
       "array([1.5, 2.5, 3.5])"
      ]
     },
     "execution_count": 2,
     "metadata": {},
     "output_type": "execute_result"
    }
   ],
   "source": [
    "np.array([1,2,3]) +0.5"
   ]
  },
  {
   "cell_type": "markdown",
   "id": "7248f069",
   "metadata": {},
   "source": [
    "## Compatibility"
   ]
  },
  {
   "cell_type": "markdown",
   "id": "fa605a90",
   "metadata": {},
   "source": [
    "Not every array is compatible.<br>\n",
    "We check the last dimension of each array - a dimension is compatible if they are equal or either of them is 1.<br>\n",
    "If all of A's dimensions are compatible with B's dimensions, or vice versa they are compatible."
   ]
  },
  {
   "cell_type": "code",
   "execution_count": 4,
   "id": "3724b922",
   "metadata": {},
   "outputs": [],
   "source": [
    "np.random.seed(1234)\n",
    "A = np.random.randint(low = 1, high = 10, size = (3,4))\n",
    "B = np.random.randint(low = 1, high = 10, size = (3, 1))"
   ]
  },
  {
   "cell_type": "code",
   "execution_count": 5,
   "id": "0e124f4b",
   "metadata": {},
   "outputs": [
    {
     "name": "stdout",
     "output_type": "stream",
     "text": [
      "[[4 7 6 5]\n",
      " [9 2 8 7]\n",
      " [9 1 6 1]]\n",
      "[[7]\n",
      " [3]\n",
      " [1]]\n"
     ]
    }
   ],
   "source": [
    "print(A)\n",
    "print(B)"
   ]
  },
  {
   "cell_type": "code",
   "execution_count": 6,
   "id": "cf726723",
   "metadata": {},
   "outputs": [
    {
     "name": "stdout",
     "output_type": "stream",
     "text": [
      "(3, 4)\n",
      "(3, 1)\n"
     ]
    }
   ],
   "source": [
    "print(A.shape)\n",
    "print(B.shape)"
   ]
  },
  {
   "cell_type": "markdown",
   "id": "8c457d73",
   "metadata": {},
   "source": [
    "## np.newaxis"
   ]
  },
  {
   "cell_type": "markdown",
   "id": "dbf767ae",
   "metadata": {},
   "source": [
    "This allows us to promote the dimensionality of an array by giving it a new axis."
   ]
  },
  {
   "cell_type": "code",
   "execution_count": 9,
   "id": "fc75aedb",
   "metadata": {},
   "outputs": [],
   "source": [
    "A = np.array([3,11,4,5])\n",
    "B = np.array([5,0,3])"
   ]
  },
  {
   "cell_type": "markdown",
   "id": "64327958",
   "metadata": {},
   "source": [
    "If your goal is to build a difference matrix, i.e. substract each element of B from each element of A.<br>\n",
    "You cannot do A - B as they are not compatible shapes and even if they were NumPy would do a element wise substraction.<br>\n",
    "\n",
    "However, if A was 4x1 and B was a 1x3 array, numpy would broadcast the arrays so that A - B would produce matrix we desire."
   ]
  },
  {
   "cell_type": "code",
   "execution_count": 10,
   "id": "ac60b4cf",
   "metadata": {},
   "outputs": [
    {
     "data": {
      "text/plain": [
       "array([[ 3],\n",
       "       [11],\n",
       "       [ 4],\n",
       "       [ 5]])"
      ]
     },
     "execution_count": 10,
     "metadata": {},
     "output_type": "execute_result"
    }
   ],
   "source": [
    "# Convert A from (4, ) to (4, 1) array\n",
    "A[:, np.newaxis]"
   ]
  },
  {
   "cell_type": "code",
   "execution_count": 11,
   "id": "7fd1012b",
   "metadata": {},
   "outputs": [
    {
     "data": {
      "text/plain": [
       "array([[5, 0, 3]])"
      ]
     },
     "execution_count": 11,
     "metadata": {},
     "output_type": "execute_result"
    }
   ],
   "source": [
    "# Convert B from (3, ) to (1, 3) array\n",
    "B[np.newaxis, :]"
   ]
  },
  {
   "cell_type": "code",
   "execution_count": 12,
   "id": "b05a6c4a",
   "metadata": {},
   "outputs": [
    {
     "data": {
      "text/plain": [
       "array([[-2,  3,  0],\n",
       "       [ 6, 11,  8],\n",
       "       [-1,  4,  1],\n",
       "       [ 0,  5,  2]])"
      ]
     },
     "execution_count": 12,
     "metadata": {},
     "output_type": "execute_result"
    }
   ],
   "source": [
    "A[:, np.newaxis] - B[np.newaxis, :]"
   ]
  },
  {
   "cell_type": "markdown",
   "id": "13c48dd0",
   "metadata": {},
   "source": [
    "This can be further simplified, since broadcasting rules will make B compatible with our new A"
   ]
  },
  {
   "cell_type": "code",
   "execution_count": 13,
   "id": "978984eb",
   "metadata": {},
   "outputs": [
    {
     "data": {
      "text/plain": [
       "array([[-2,  3,  0],\n",
       "       [ 6, 11,  8],\n",
       "       [-1,  4,  1],\n",
       "       [ 0,  5,  2]])"
      ]
     },
     "execution_count": 13,
     "metadata": {},
     "output_type": "execute_result"
    }
   ],
   "source": [
    "A[:, np.newaxis] - B"
   ]
  },
  {
   "cell_type": "code",
   "execution_count": 14,
   "id": "0f936da9",
   "metadata": {},
   "outputs": [
    {
     "data": {
      "text/plain": [
       "(4, 1)"
      ]
     },
     "execution_count": 14,
     "metadata": {},
     "output_type": "execute_result"
    }
   ],
   "source": [
    "A[:, np.newaxis].shape"
   ]
  },
  {
   "cell_type": "code",
   "execution_count": 15,
   "id": "73bd03e9",
   "metadata": {},
   "outputs": [
    {
     "data": {
      "text/plain": [
       "(3,)"
      ]
     },
     "execution_count": 15,
     "metadata": {},
     "output_type": "execute_result"
    }
   ],
   "source": [
    "B.shape"
   ]
  },
  {
   "cell_type": "code",
   "execution_count": 19,
   "id": "bfa6eb91",
   "metadata": {},
   "outputs": [
    {
     "data": {
      "text/plain": [
       "matrix([[ 3,  0, 11,  0,  4,  0,  5,  0]], dtype=int16)"
      ]
     },
     "execution_count": 19,
     "metadata": {},
     "output_type": "execute_result"
    }
   ],
   "source": [
    "x = np.array([3,11,4,5])\n",
    "y = x.view(dtype=np.int16, type=np.matrix)\n",
    "y"
   ]
  },
  {
   "cell_type": "code",
   "execution_count": 21,
   "id": "29054a95",
   "metadata": {},
   "outputs": [
    {
     "data": {
      "text/plain": [
       "array([[['a', 'b'],\n",
       "        ['c', 'd'],\n",
       "        ['e', 'f']],\n",
       "\n",
       "       [['g', 'h'],\n",
       "        ['i', 'j'],\n",
       "        ['k', 'l']]], dtype='<U1')"
      ]
     },
     "execution_count": 21,
     "metadata": {},
     "output_type": "execute_result"
    }
   ],
   "source": [
    "np.array(\n",
    "    [\n",
    "    [ ['a', 'b'], ['c', 'd'], ['e', 'f'] ],\n",
    "    [ ['g', 'h'], ['i', 'j'], ['k', 'l'] ]\n",
    "]\n",
    ")"
   ]
  },
  {
   "cell_type": "code",
   "execution_count": 24,
   "id": "632b71ae",
   "metadata": {},
   "outputs": [],
   "source": [
    "a = np.array([[1], [2], [3]])"
   ]
  },
  {
   "cell_type": "code",
   "execution_count": 25,
   "id": "38d39b53",
   "metadata": {},
   "outputs": [
    {
     "data": {
      "text/plain": [
       "(3, 1)"
      ]
     },
     "execution_count": 25,
     "metadata": {},
     "output_type": "execute_result"
    }
   ],
   "source": [
    "a.shape"
   ]
  },
  {
   "cell_type": "markdown",
   "id": "54a96d17",
   "metadata": {},
   "source": [
    "## Reshape()"
   ]
  },
  {
   "cell_type": "code",
   "execution_count": 26,
   "id": "c7b6eb0f",
   "metadata": {},
   "outputs": [],
   "source": [
    "foo = np.arange(start=1, stop=9)\n",
    "# [1 2 3 4 5 6 7 8]"
   ]
  },
  {
   "cell_type": "code",
   "execution_count": 27,
   "id": "2199b9af",
   "metadata": {},
   "outputs": [],
   "source": [
    "# Change foo into 2x4 array"
   ]
  },
  {
   "cell_type": "code",
   "execution_count": 30,
   "id": "2671086f",
   "metadata": {},
   "outputs": [
    {
     "data": {
      "text/plain": [
       "array([[1, 2, 3, 4],\n",
       "       [5, 6, 7, 8]])"
      ]
     },
     "execution_count": 30,
     "metadata": {},
     "output_type": "execute_result"
    }
   ],
   "source": [
    "np.reshape(a=foo, newshape=(2,4))"
   ]
  },
  {
   "cell_type": "code",
   "execution_count": 31,
   "id": "bd3286b3",
   "metadata": {},
   "outputs": [
    {
     "data": {
      "text/plain": [
       "array([[1, 2, 3, 4],\n",
       "       [5, 6, 7, 8]])"
      ]
     },
     "execution_count": 31,
     "metadata": {},
     "output_type": "execute_result"
    }
   ],
   "source": [
    "foo.reshape(2,4)"
   ]
  },
  {
   "cell_type": "markdown",
   "id": "f7fc61ff",
   "metadata": {},
   "source": [
    "## Array Transpose"
   ]
  },
  {
   "cell_type": "code",
   "execution_count": 34,
   "id": "d22926bb",
   "metadata": {},
   "outputs": [
    {
     "name": "stdout",
     "output_type": "stream",
     "text": [
      "[[1 2 3 4]\n",
      " [5 6 7 8]]\n",
      "(2, 4)\n"
     ]
    }
   ],
   "source": [
    "bar = np.array([[1,2,3,4], [5,6,7,8]])\n",
    "\n",
    "print(bar)\n",
    "print(bar.shape)"
   ]
  },
  {
   "cell_type": "code",
   "execution_count": 35,
   "id": "c8d2f0ad",
   "metadata": {},
   "outputs": [
    {
     "name": "stdout",
     "output_type": "stream",
     "text": [
      "[[1 5]\n",
      " [2 6]\n",
      " [3 7]\n",
      " [4 8]]\n",
      "(4, 2)\n"
     ]
    }
   ],
   "source": [
    "print(bar.T)\n",
    "print(bar.T.shape)"
   ]
  },
  {
   "cell_type": "markdown",
   "id": "35209578",
   "metadata": {},
   "source": [
    "## Boolean Indexing"
   ]
  },
  {
   "cell_type": "markdown",
   "id": "e7b942de",
   "metadata": {},
   "source": [
    "With this you can subset an array A using another array B of boolean values."
   ]
  },
  {
   "cell_type": "code",
   "execution_count": 37,
   "id": "84cd1461",
   "metadata": {},
   "outputs": [],
   "source": [
    "foo = np.array([\n",
    "    [3, 9, 7],\n",
    "    [2, 0, 3],\n",
    "    [3, 3, 1]\n",
    "])"
   ]
  },
  {
   "cell_type": "code",
   "execution_count": 40,
   "id": "86ef7da7",
   "metadata": {},
   "outputs": [
    {
     "name": "stdout",
     "output_type": "stream",
     "text": [
      "[[ True False False]\n",
      " [False False  True]\n",
      " [ True  True False]]\n"
     ]
    }
   ],
   "source": [
    "mask = foo == 3\n",
    "print(mask)"
   ]
  },
  {
   "cell_type": "markdown",
   "id": "c390ea06",
   "metadata": {},
   "source": [
    "We can use mask to identify elemtns of food which are equal to 3."
   ]
  },
  {
   "cell_type": "code",
   "execution_count": 41,
   "id": "dc411795",
   "metadata": {},
   "outputs": [
    {
     "name": "stdout",
     "output_type": "stream",
     "text": [
      "[3 3 3 3]\n"
     ]
    }
   ],
   "source": [
    "print(foo[mask])"
   ]
  },
  {
   "cell_type": "markdown",
   "id": "e49579f3",
   "metadata": {},
   "source": [
    "We can use mask to convert 3s into 0s"
   ]
  },
  {
   "cell_type": "code",
   "execution_count": 42,
   "id": "689cb22b",
   "metadata": {},
   "outputs": [],
   "source": [
    "foo[mask] = 0"
   ]
  },
  {
   "cell_type": "code",
   "execution_count": 43,
   "id": "03890481",
   "metadata": {},
   "outputs": [
    {
     "name": "stdout",
     "output_type": "stream",
     "text": [
      "[[0 9 7]\n",
      " [2 0 0]\n",
      " [0 0 1]]\n"
     ]
    }
   ],
   "source": [
    "print(foo)"
   ]
  },
  {
   "cell_type": "markdown",
   "id": "5240f0df",
   "metadata": {},
   "source": [
    "### Subset using 1D boolean array"
   ]
  },
  {
   "cell_type": "code",
   "execution_count": 48,
   "id": "806041ce",
   "metadata": {},
   "outputs": [],
   "source": [
    "foo = np.array([[3, 9, 7], \n",
    "                [2, 0, 3], \n",
    "                [3, 3, 1] ])"
   ]
  },
  {
   "cell_type": "code",
   "execution_count": 49,
   "id": "efa28708",
   "metadata": {},
   "outputs": [],
   "source": [
    "r13 = np.array([True, False, True])\n",
    "c23 = np.array([False, True, True])"
   ]
  },
  {
   "cell_type": "markdown",
   "id": "9b71a78f",
   "metadata": {},
   "source": [
    "We use r13 to pull row 1 and 3"
   ]
  },
  {
   "cell_type": "code",
   "execution_count": 50,
   "id": "443a1cb4",
   "metadata": {
    "scrolled": true
   },
   "outputs": [
    {
     "name": "stdout",
     "output_type": "stream",
     "text": [
      "[[3 9 7]\n",
      " [3 3 1]]\n"
     ]
    }
   ],
   "source": [
    "print(foo[r13])"
   ]
  },
  {
   "cell_type": "markdown",
   "id": "ae4af794",
   "metadata": {},
   "source": [
    "Same with c23 for row 2 and 3"
   ]
  },
  {
   "cell_type": "code",
   "execution_count": 51,
   "id": "0199c51f",
   "metadata": {},
   "outputs": [
    {
     "name": "stdout",
     "output_type": "stream",
     "text": [
      "[[2 0 3]\n",
      " [3 3 1]]\n"
     ]
    }
   ],
   "source": [
    "print(foo[c23])"
   ]
  },
  {
   "cell_type": "markdown",
   "id": "5af99d0f",
   "metadata": {},
   "source": [
    "**Combining both our boolean arrays**"
   ]
  },
  {
   "cell_type": "code",
   "execution_count": 52,
   "id": "a23aa584",
   "metadata": {},
   "outputs": [
    {
     "name": "stdout",
     "output_type": "stream",
     "text": [
      "[9 1]\n"
     ]
    }
   ],
   "source": [
    "print(foo[r13, c23])"
   ]
  },
  {
   "cell_type": "markdown",
   "id": "c6756a13",
   "metadata": {},
   "source": [
    "r13 can be thought as indexing as [0,2]<br>\n",
    "c23 can be thought as indexing as [1,2]<br>\n",
    "\n",
    "When we combine row and column index arrays such as foo[[0,2] , [1,2]], NumPy will use correspinding indexes from each index array to select elements from target array, as such<br>\n",
    "Selecting element (0,1)>9 and (2,2)>1"
   ]
  },
  {
   "cell_type": "markdown",
   "id": "3127362b",
   "metadata": {},
   "source": [
    "## Logical Operators"
   ]
  },
  {
   "cell_type": "markdown",
   "id": "d160a87e",
   "metadata": {},
   "source": [
    "These let us combine boolean arrays, they include bitwise-and operator, the bitewise-or, and the bitwise-xor operator"
   ]
  },
  {
   "cell_type": "code",
   "execution_count": 54,
   "id": "2211346e",
   "metadata": {},
   "outputs": [
    {
     "name": "stdout",
     "output_type": "stream",
     "text": [
      "[False False False  True]\n",
      "[False  True  True  True]\n",
      "[False  True  True False]\n"
     ]
    }
   ],
   "source": [
    "b1 = np.array([False, False, True, True])\n",
    "b2 = np.array([False, True, False, True])\n",
    "\n",
    "print(b1 & b2)  # [False, False, False,  True], and\n",
    "print(b1 | b2)  # [False,  True,  True,  True], or\n",
    "print(b1 ^ b2)  # [False,  True,  True, False], xor"
   ]
  },
  {
   "cell_type": "markdown",
   "id": "62cf1b5f",
   "metadata": {},
   "source": [
    "**Boolean Negation**"
   ]
  },
  {
   "cell_type": "markdown",
   "id": "9a9bc144",
   "metadata": {},
   "source": [
    "We can negate a boolean array by preceding it with a tilde ~"
   ]
  },
  {
   "cell_type": "code",
   "execution_count": 55,
   "id": "4710035e",
   "metadata": {},
   "outputs": [
    {
     "data": {
      "text/plain": [
       "array([ True, False])"
      ]
     },
     "execution_count": 55,
     "metadata": {},
     "output_type": "execute_result"
    }
   ],
   "source": [
    "~np.array([False,True])"
   ]
  },
  {
   "cell_type": "markdown",
   "id": "ea0c629b",
   "metadata": {},
   "source": [
    "## NaN"
   ]
  },
  {
   "cell_type": "markdown",
   "id": "805d13d3",
   "metadata": {},
   "source": [
    "You can use NaN to represent missing values "
   ]
  },
  {
   "cell_type": "code",
   "execution_count": null,
   "id": "1ef966d0",
   "metadata": {},
   "outputs": [],
   "source": []
  }
 ],
 "metadata": {
  "kernelspec": {
   "display_name": "Python 3 (ipykernel)",
   "language": "python",
   "name": "python3"
  },
  "language_info": {
   "codemirror_mode": {
    "name": "ipython",
    "version": 3
   },
   "file_extension": ".py",
   "mimetype": "text/x-python",
   "name": "python",
   "nbconvert_exporter": "python",
   "pygments_lexer": "ipython3",
   "version": "3.9.12"
  }
 },
 "nbformat": 4,
 "nbformat_minor": 5
}
