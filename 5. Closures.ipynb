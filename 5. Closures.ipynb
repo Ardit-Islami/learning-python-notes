{
 "cells": [
  {
   "cell_type": "markdown",
   "id": "unsigned-provincial",
   "metadata": {},
   "source": [
    "A closure is a record storing a function together with an environment:<br>\n",
    "A mapping associating each free variable of the function with the value or storage location to which the name was bound whehn the closure was created."
   ]
  },
  {
   "cell_type": "code",
   "execution_count": 1,
   "id": "elder-madagascar",
   "metadata": {},
   "outputs": [
    {
     "name": "stdout",
     "output_type": "stream",
     "text": [
      "Hi\n"
     ]
    }
   ],
   "source": [
    "def outer_func():\n",
    "    message = 'Hi'\n",
    "    \n",
    "    def inner_func():\n",
    "        print(message) # This 'message' is what we define as a free variable\n",
    "        \n",
    "    return inner_func()\n",
    "\n",
    "outer_func()"
   ]
  },
  {
   "cell_type": "markdown",
   "id": "numerous-halloween",
   "metadata": {},
   "source": [
    "Instead, let's only return the function and not the execution of the function:"
   ]
  },
  {
   "cell_type": "code",
   "execution_count": 2,
   "id": "criminal-fifth",
   "metadata": {},
   "outputs": [],
   "source": [
    "def outer_func():\n",
    "    message = 'Hi'\n",
    "    \n",
    "    def inner_func():\n",
    "        print(message) # This 'message' is what we define as a free variable\n",
    "        \n",
    "    return inner_func\n",
    "\n",
    "my_func = outer_func()"
   ]
  },
  {
   "cell_type": "code",
   "execution_count": 3,
   "id": "developing-cursor",
   "metadata": {},
   "outputs": [
    {
     "name": "stdout",
     "output_type": "stream",
     "text": [
      "Hi\n"
     ]
    }
   ],
   "source": [
    "my_func()"
   ]
  },
  {
   "cell_type": "code",
   "execution_count": 6,
   "id": "initial-ending",
   "metadata": {},
   "outputs": [
    {
     "name": "stdout",
     "output_type": "stream",
     "text": [
      "<function outer_func.<locals>.inner_func at 0x797c14155790>\n",
      "inner_func\n"
     ]
    }
   ],
   "source": [
    "print(my_func)\n",
    "print(my_func.__name__) # Name that the my_func is assigned to is \"inner_func\""
   ]
  },
  {
   "cell_type": "markdown",
   "id": "sacred-blair",
   "metadata": {},
   "source": [
    "Even though we are done with the execution of our outer function, but the inner function that we returned still has access to that 'msg' variable that it is printing out.<br>\n",
    "**In simple terms**:<br>\n",
    "A closure is an inner function that remembers and has access to variables in the local scope in which it was created in. Even after the outer function has finished executing."
   ]
  },
  {
   "cell_type": "markdown",
   "id": "fabulous-battlefield",
   "metadata": {},
   "source": [
    "This gets more interesting when we add parameters for our functions."
   ]
  },
  {
   "cell_type": "code",
   "execution_count": 8,
   "id": "oriented-bloom",
   "metadata": {},
   "outputs": [],
   "source": [
    "def outer_func(msg):\n",
    "    message = msg\n",
    "    \n",
    "    def inner_func(): # Our inner function still doesn't take any arguments, so we only need empty parentheses.\n",
    "        print(message) # This 'message' is what we define as a free variable\n",
    "        \n",
    "    return inner_func\n",
    "\n",
    "hi_func = outer_func('Hi')\n",
    "hello_func = outer_func('Hello')"
   ]
  },
  {
   "cell_type": "code",
   "execution_count": 10,
   "id": "stunning-watershed",
   "metadata": {},
   "outputs": [
    {
     "name": "stdout",
     "output_type": "stream",
     "text": [
      "Hi\n"
     ]
    }
   ],
   "source": [
    "hi_func()"
   ]
  },
  {
   "cell_type": "code",
   "execution_count": 11,
   "id": "twenty-stranger",
   "metadata": {},
   "outputs": [
    {
     "name": "stdout",
     "output_type": "stream",
     "text": [
      "Hello\n"
     ]
    }
   ],
   "source": [
    "hello_func()"
   ]
  },
  {
   "cell_type": "markdown",
   "id": "neither-device",
   "metadata": {},
   "source": [
    "So both of these functions, which are storing an execution of the outer_func, remembers the set argument placed in for the 'msg' argument when executing it's stored inner_func."
   ]
  },
  {
   "cell_type": "markdown",
   "id": "surgical-prerequisite",
   "metadata": {},
   "source": [
    "## Practical Example"
   ]
  },
  {
   "cell_type": "code",
   "execution_count": 15,
   "id": "independent-lindsay",
   "metadata": {},
   "outputs": [],
   "source": [
    "import logging\n",
    "logging.basicConfig(filename='example.log', level=logging.INFO)\n",
    "\n",
    "def logger(func):\n",
    "    def log_func(*args): # Takes any number of arguments\n",
    "        logging.info('Running \"{}\" with arguments {}'.format(func.__name__, args))\n",
    "        print(func(*args))\n",
    "    return log_func\n",
    "\n",
    "def add(x,y):\n",
    "    return x+y\n",
    "\n",
    "def sub(x,y):\n",
    "    return x-y\n",
    "\n",
    "add_logger = logger(add)\n",
    "# This becomes: \n",
    "# def log_func(*args):\n",
    "#       logging.info('Running \"{}\" with arguments {}'.format(add.__name__, args))\n",
    "#       print(add(*args))\n",
    "\n",
    "sub_logger = logger(sub)"
   ]
  },
  {
   "cell_type": "code",
   "execution_count": 16,
   "id": "weird-encounter",
   "metadata": {},
   "outputs": [
    {
     "name": "stdout",
     "output_type": "stream",
     "text": [
      "6\n"
     ]
    }
   ],
   "source": [
    "add_logger(3,3)\n",
    "# This created a example.log file as well through the logging.info function, generating:\n",
    "# INFO:root:Running \"add\" with arguments (3, 3)"
   ]
  },
  {
   "cell_type": "markdown",
   "id": "municipal-shade",
   "metadata": {},
   "source": [
    "The above shows the power of closures - this is because while we could have gone ahead and done addition and substraction with the two simple functions we created, by executing it through a closure, we can add extra functionality that behaves off using the addition or subtraction functions (in this case) as a parameter."
   ]
  },
  {
   "cell_type": "markdown",
   "id": "secure-threat",
   "metadata": {},
   "source": [
    "**This Logging example would be a better use case for a python decorator**"
   ]
  }
 ],
 "metadata": {
  "kernelspec": {
   "display_name": "Python 3",
   "language": "python",
   "name": "python3"
  },
  "language_info": {
   "codemirror_mode": {
    "name": "ipython",
    "version": 3
   },
   "file_extension": ".py",
   "mimetype": "text/x-python",
   "name": "python",
   "nbconvert_exporter": "python",
   "pygments_lexer": "ipython3",
   "version": "3.9.2"
  }
 },
 "nbformat": 4,
 "nbformat_minor": 5
}
