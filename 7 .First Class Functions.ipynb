{
 "cells": [
  {
   "cell_type": "markdown",
   "id": "cellular-associate",
   "metadata": {},
   "source": [
    "\"A programming language is said to have first-class functions if it treats functions as first-class citizens\""
   ]
  },
  {
   "cell_type": "markdown",
   "id": "statistical-morocco",
   "metadata": {},
   "source": [
    "**In programming terms:**<br>\n",
    "A first class citizen (often called first-class objects) in a programming language is an entity which supports all the operatiojns generally available to other entities. These operations typically include being passed as an argument, returned from a function, and assigned to a variable."
   ]
  },
  {
   "cell_type": "markdown",
   "id": "sealed-wells",
   "metadata": {},
   "source": [
    "Understanding this topic will help with understanding <font color='blue'>high order functions</font>, <font color='blue'>currying</font> and <font color='blue'>closures</font>"
   ]
  },
  {
   "cell_type": "markdown",
   "id": "further-design",
   "metadata": {},
   "source": [
    "We should be able to treat functions just as any other object or variable..."
   ]
  },
  {
   "cell_type": "code",
   "execution_count": 29,
   "id": "biblical-fundamental",
   "metadata": {},
   "outputs": [
    {
     "name": "stdout",
     "output_type": "stream",
     "text": [
      "<function square at 0x7c4ba8240790>\n",
      "25\n"
     ]
    }
   ],
   "source": [
    "def square(x):\n",
    "    return x*x\n",
    "\n",
    "f = square(5)\n",
    "print(square)\n",
    "print(f)"
   ]
  },
  {
   "cell_type": "markdown",
   "id": "integrated-highland",
   "metadata": {},
   "source": [
    "Let's try the following:"
   ]
  },
  {
   "cell_type": "code",
   "execution_count": 30,
   "id": "authentic-minute",
   "metadata": {},
   "outputs": [
    {
     "name": "stdout",
     "output_type": "stream",
     "text": [
      "<function square at 0x7c4bb042e9d0>\n",
      "<function square at 0x7c4bb042e9d0>\n"
     ]
    }
   ],
   "source": [
    "def square(x):\n",
    "    return x*x\n",
    "\n",
    "f = square  # We don't want to execute the function so we remove the parentheses, \n",
    "            # we simply want to set the variable to the function\n",
    "print(square)\n",
    "print(f)"
   ]
  },
  {
   "cell_type": "markdown",
   "id": "severe-cedar",
   "metadata": {},
   "source": [
    "^ This is one of the aspects of what it means to be a first class function."
   ]
  },
  {
   "cell_type": "markdown",
   "id": "fabulous-repository",
   "metadata": {},
   "source": [
    "As such,"
   ]
  },
  {
   "cell_type": "code",
   "execution_count": 31,
   "id": "interior-accreditation",
   "metadata": {},
   "outputs": [
    {
     "data": {
      "text/plain": [
       "25"
      ]
     },
     "execution_count": 31,
     "metadata": {},
     "output_type": "execute_result"
    }
   ],
   "source": [
    "f(5) # We can use the variable just as a function, because it stores a function."
   ]
  },
  {
   "cell_type": "markdown",
   "id": "neural-james",
   "metadata": {},
   "source": [
    "If a function passes another function as an argument, or it returns a function as its result, this is what we call a higher order function."
   ]
  },
  {
   "cell_type": "markdown",
   "id": "lyric-framework",
   "metadata": {},
   "source": [
    "### Passing a Function as an Argument to another function"
   ]
  },
  {
   "cell_type": "code",
   "execution_count": 32,
   "id": "personal-french",
   "metadata": {},
   "outputs": [],
   "source": [
    "def square(x):\n",
    "    return x*x\n",
    "\n",
    "# We build our own map function instead of using in-built version:\n",
    "def my_map(func, arg_list):\n",
    "    result = []\n",
    "    for i in arg_list:\n",
    "        result.append(func(i))\n",
    "    return result"
   ]
  },
  {
   "cell_type": "code",
   "execution_count": 33,
   "id": "valuable-thread",
   "metadata": {},
   "outputs": [],
   "source": [
    "squares = my_map(square, [1, 2, 3, 4, 5])"
   ]
  },
  {
   "cell_type": "code",
   "execution_count": 34,
   "id": "alleged-feature",
   "metadata": {},
   "outputs": [
    {
     "name": "stdout",
     "output_type": "stream",
     "text": [
      "[1, 4, 9, 16, 25]\n"
     ]
    }
   ],
   "source": [
    "print(squares)"
   ]
  },
  {
   "cell_type": "markdown",
   "id": "fallen-pavilion",
   "metadata": {},
   "source": [
    "Basically, we have our map function, which is taking two arguments.<br>\n",
    "Of which, one of the arguemnts is a function.<br>\n",
    "Within the function that has two arguments, we have this argument function act on our second argument inside our map function, to execute a set result."
   ]
  },
  {
   "cell_type": "code",
   "execution_count": 35,
   "id": "heard-kitchen",
   "metadata": {},
   "outputs": [],
   "source": [
    "def cube(x):\n",
    "    return x * x * x"
   ]
  },
  {
   "cell_type": "code",
   "execution_count": 36,
   "id": "grand-mercy",
   "metadata": {},
   "outputs": [
    {
     "name": "stdout",
     "output_type": "stream",
     "text": [
      "[1, 8, 27, 64, 125]\n"
     ]
    }
   ],
   "source": [
    "cubed = my_map(cube, [1, 2, 3, 4, 5])\n",
    "print(cubed)"
   ]
  },
  {
   "cell_type": "markdown",
   "id": "enhanced-irrigation",
   "metadata": {},
   "source": [
    "### Return a Function from another Function"
   ]
  },
  {
   "cell_type": "code",
   "execution_count": 37,
   "id": "present-panel",
   "metadata": {},
   "outputs": [],
   "source": [
    "def logger(msg):\n",
    "    \n",
    "    def log_message():\n",
    "        print('Log:', msg)\n",
    "        \n",
    "    return log_message"
   ]
  },
  {
   "cell_type": "code",
   "execution_count": 38,
   "id": "reflected-helicopter",
   "metadata": {},
   "outputs": [
    {
     "data": {
      "text/plain": [
       "<function __main__.logger.<locals>.log_message()>"
      ]
     },
     "execution_count": 38,
     "metadata": {},
     "output_type": "execute_result"
    }
   ],
   "source": [
    "logger('Hi!')"
   ]
  },
  {
   "cell_type": "code",
   "execution_count": 39,
   "id": "incorporate-placement",
   "metadata": {},
   "outputs": [
    {
     "name": "stdout",
     "output_type": "stream",
     "text": [
      "Log: Hi!\n"
     ]
    }
   ],
   "source": [
    "log_hi = logger('Hi!') # This log_hi will be treated just like the log_message in our logger function\n",
    "log_hi()\n",
    "# It remembering our initial 'msg' that we passed in is referred to as a \"Closure\""
   ]
  },
  {
   "cell_type": "code",
   "execution_count": 40,
   "id": "provincial-despite",
   "metadata": {},
   "outputs": [],
   "source": [
    "def html_tag(tag):\n",
    "    \n",
    "    def wrap_text(msg):\n",
    "        print('<{0}>{1}</{0}>'.format(tag, msg))\n",
    "        \n",
    "    return wrap_text"
   ]
  },
  {
   "cell_type": "code",
   "execution_count": 41,
   "id": "aggressive-bryan",
   "metadata": {},
   "outputs": [],
   "source": [
    "print_h1 = html_tag('h1')\n",
    "# Generates/returns => print_h1 = wrap_text(msg):\n",
    "#                                     print('<{0}>{1}</{0}>'.format('h1', msg)"
   ]
  },
  {
   "cell_type": "markdown",
   "id": "jewish-rendering",
   "metadata": {},
   "source": [
    "As such, if we print 'print_h1', the function is not complete yet so, we will get the following:"
   ]
  },
  {
   "cell_type": "code",
   "execution_count": 42,
   "id": "corporate-onion",
   "metadata": {},
   "outputs": [
    {
     "name": "stdout",
     "output_type": "stream",
     "text": [
      "<function html_tag.<locals>.wrap_text at 0x7c4ba8240dc0>\n"
     ]
    }
   ],
   "source": [
    "print(print_h1) # We get this, because we have only filled in one argument"
   ]
  },
  {
   "cell_type": "code",
   "execution_count": 43,
   "id": "veterinary-victoria",
   "metadata": {},
   "outputs": [
    {
     "name": "stdout",
     "output_type": "stream",
     "text": [
      "<h1>Test Headline!</h1>\n",
      "<h1>This is a Test!</h1>\n"
     ]
    }
   ],
   "source": [
    "print_h1('Test Headline!')  # Then we fill in the second argument by using variable print_h1\n",
    "                            # which is storing the above incomplete function.\n",
    "print_h1('This is a Test!')\n",
    "\n",
    "# As you can see, now you can use print_h1 as a way to create multiple instances by\n",
    "# storing the execution of a function within a variable and calling the execution once more\n",
    "# to fill all arguments."
   ]
  },
  {
   "cell_type": "markdown",
   "id": "finnish-workplace",
   "metadata": {},
   "source": [
    "This has to be done this way, because html_tag can only take one argument, so the msg argument can only be filled on the second run through via the stored function inside our created variable print_h1"
   ]
  }
 ],
 "metadata": {
  "kernelspec": {
   "display_name": "Python 3",
   "language": "python",
   "name": "python3"
  },
  "language_info": {
   "codemirror_mode": {
    "name": "ipython",
    "version": 3
   },
   "file_extension": ".py",
   "mimetype": "text/x-python",
   "name": "python",
   "nbconvert_exporter": "python",
   "pygments_lexer": "ipython3",
   "version": "3.9.2"
  }
 },
 "nbformat": 4,
 "nbformat_minor": 5
}
