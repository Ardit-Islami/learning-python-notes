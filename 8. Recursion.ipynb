{
 "cells": [
  {
   "cell_type": "markdown",
   "id": "continent-portable",
   "metadata": {},
   "source": [
    "Recursion is a technique where functions call themselves during execution.<br>\n",
    "You are basically solving a problem, by breaking it down into smaller, similar sub-problems."
   ]
  },
  {
   "cell_type": "markdown",
   "id": "acute-collaboration",
   "metadata": {},
   "source": [
    "There are two main concepts:<br>\n",
    "**Base Case**:<br>\n",
    "- Simplest form of the problem that cna be solved directly and is the condition under which recursion stops.<br>\n",
    "\n",
    "**Recursive Case**:<br>\n",
    "- The part of the function that calls itself ot solve a smaller version of the problem"
   ]
  },
  {
   "cell_type": "markdown",
   "id": "surrounded-familiar",
   "metadata": {},
   "source": [
    "## Problem 1"
   ]
  },
  {
   "cell_type": "markdown",
   "id": "ahead-hollywood",
   "metadata": {},
   "source": [
    "Write a recursive function that given an input n sums all nonnegative integers up to n."
   ]
  },
  {
   "cell_type": "markdown",
   "id": "amazing-motivation",
   "metadata": {},
   "source": [
    "**Iteration Method**"
   ]
  },
  {
   "cell_type": "code",
   "execution_count": 14,
   "id": "descending-victoria",
   "metadata": {},
   "outputs": [],
   "source": [
    "def summing(n):\n",
    "    result = 0\n",
    "    for i in range(n+1):\n",
    "        result += i\n",
    "    return result"
   ]
  },
  {
   "cell_type": "code",
   "execution_count": 15,
   "id": "finished-premises",
   "metadata": {},
   "outputs": [
    {
     "name": "stdout",
     "output_type": "stream",
     "text": [
      "10\n"
     ]
    }
   ],
   "source": [
    "print(summing(4))"
   ]
  },
  {
   "cell_type": "markdown",
   "id": "worldwide-petite",
   "metadata": {},
   "source": [
    "**Mathematical Method**"
   ]
  },
  {
   "cell_type": "code",
   "execution_count": 16,
   "id": "transsexual-navigation",
   "metadata": {},
   "outputs": [],
   "source": [
    "def summing(n):\n",
    "    return n * (n+1) / 2"
   ]
  },
  {
   "cell_type": "code",
   "execution_count": 17,
   "id": "short-radical",
   "metadata": {},
   "outputs": [
    {
     "name": "stdout",
     "output_type": "stream",
     "text": [
      "10\n"
     ]
    }
   ],
   "source": [
    "print(sum(4))"
   ]
  },
  {
   "cell_type": "markdown",
   "id": "spare-stone",
   "metadata": {},
   "source": [
    "### Solving it Recursively"
   ]
  },
  {
   "cell_type": "markdown",
   "id": "intimate-yield",
   "metadata": {},
   "source": [
    "<font color='blue'> Question 1</font><br>\n",
    "What's the simplest possible input?"
   ]
  },
  {
   "cell_type": "code",
   "execution_count": 18,
   "id": "accessory-rebecca",
   "metadata": {},
   "outputs": [],
   "source": [
    "# summing(0) --> 0 BASE CASE"
   ]
  },
  {
   "cell_type": "markdown",
   "id": "continent-audit",
   "metadata": {},
   "source": [
    "<font color='blue'>Key Step 2</font><br>\n",
    "Play around with examples and visualise"
   ]
  },
  {
   "cell_type": "markdown",
   "id": "single-spelling",
   "metadata": {},
   "source": [
    "Think of each case as boxes stack on each other to create triangles.<br>\n",
    "At n = 3, the base layer is 3 boxes, with 2 stacked on top of that and 1 stacked on top of that."
   ]
  },
  {
   "cell_type": "markdown",
   "id": "normal-mongolia",
   "metadata": {},
   "source": [
    "<font color='blue'>Key Step 3</font><br>\n",
    "Relate hard cases to simpler cases"
   ]
  },
  {
   "cell_type": "markdown",
   "id": "gothic-gregory",
   "metadata": {},
   "source": [
    "In this case, for example, if we know n=4, then all we need to get n=5 would be to add 5 to the sum of n=4 etc."
   ]
  },
  {
   "cell_type": "markdown",
   "id": "reduced-introduction",
   "metadata": {},
   "source": [
    "<font color='blue'>Key Step 4</font><br>\n",
    "Generalise the pattern"
   ]
  },
  {
   "cell_type": "markdown",
   "id": "instant-bryan",
   "metadata": {},
   "source": [
    "For the n=k case, where we are adding (1+2+...+k), we can take the n=k-1 case and take the sum(n=k-1) and k to this summation."
   ]
  },
  {
   "cell_type": "markdown",
   "id": "hungarian-scroll",
   "metadata": {},
   "source": [
    "Now we want to write code for this recursive pattern stated in the line above, where:<br>\n",
    "- sum(n) = sum(n-1) + n\n",
    "\n",
    "sum(n) is equal to 0 if n = 0 for base case<br>\n",
    "sum(n) is equal to sum(n-1) + n for every following case.\n"
   ]
  },
  {
   "cell_type": "code",
   "execution_count": 19,
   "id": "accessible-respect",
   "metadata": {},
   "outputs": [],
   "source": [
    "def summing(n):\n",
    "    if n == 0:\n",
    "        return 0\n",
    "    else:\n",
    "        return n + summing(n - 1)"
   ]
  },
  {
   "cell_type": "code",
   "execution_count": 20,
   "id": "virgin-schedule",
   "metadata": {},
   "outputs": [
    {
     "data": {
      "text/plain": [
       "15"
      ]
     },
     "execution_count": 20,
     "metadata": {},
     "output_type": "execute_result"
    }
   ],
   "source": [
    "summing(5)"
   ]
  },
  {
   "cell_type": "markdown",
   "id": "surprised-uruguay",
   "metadata": {},
   "source": [
    "It runs recursively because its calling itself!"
   ]
  },
  {
   "cell_type": "markdown",
   "id": "native-animal",
   "metadata": {},
   "source": [
    "i.e.<br>\n",
    "summing(3) => 3 + summing(2) => 3 + 2 + summing(1) => 3 + 2 + 1 + summing(0) => 3 + 2 + 1 + 0 => 6"
   ]
  },
  {
   "cell_type": "markdown",
   "id": "controversial-status",
   "metadata": {},
   "source": [
    "## Recursive Leap of Faith"
   ]
  },
  {
   "cell_type": "markdown",
   "id": "accepted-madagascar",
   "metadata": {},
   "source": [
    "This is about assuming simpler cases work out. <br>\n",
    "For example, let's say we call summing(5) => 5 + sum(4) , let us then assume that summing on n=4 is going to work, then if I am going to add 5 to that, then that means n=5 is going to work as well."
   ]
  },
  {
   "cell_type": "markdown",
   "id": "received-tulsa",
   "metadata": {},
   "source": [
    "## Problem 2"
   ]
  },
  {
   "cell_type": "markdown",
   "id": "binding-peoples",
   "metadata": {},
   "source": [
    "Write a function that takes two inputs n and m and outputs the number of unique paths from the top left corner to bottom right corner of a n x m grid. <br>\n",
    "Constraints: you can only move down or right 1 unit at a time."
   ]
  },
  {
   "cell_type": "markdown",
   "id": "minimal-editor",
   "metadata": {},
   "source": [
    "**1.What's the simplest possible input?**"
   ]
  },
  {
   "cell_type": "markdown",
   "id": "based-adult",
   "metadata": {},
   "source": [
    "grid_paths(1,1) = > so n = 1 and m = 1 has 1 unique path"
   ]
  },
  {
   "cell_type": "markdown",
   "id": "color-society",
   "metadata": {},
   "source": [
    "grid_path(2,1) => n = 2 and m = 1 also has 1 unique path"
   ]
  },
  {
   "cell_type": "markdown",
   "id": "academic-joyce",
   "metadata": {},
   "source": [
    "grid_path(1,2) => n = 1 and m = 2 also has 1 unique path"
   ]
  },
  {
   "cell_type": "markdown",
   "id": "loaded-heart",
   "metadata": {},
   "source": [
    "So, our base is as such:<br>\n",
    "If either of our inputs n or m is equal to 1, this can only generate a total of 1 unique path."
   ]
  },
  {
   "cell_type": "markdown",
   "id": "solved-detection",
   "metadata": {},
   "source": [
    "grid_paths(n,m) -> 1 if n=1 or m=1"
   ]
  },
  {
   "cell_type": "markdown",
   "id": "suspended-fence",
   "metadata": {},
   "source": [
    "**2. Play around with examples and visualise**"
   ]
  },
  {
   "cell_type": "markdown",
   "id": "smart-original",
   "metadata": {},
   "source": [
    "Look at a decent size of examples to get a feel for the problem."
   ]
  },
  {
   "cell_type": "markdown",
   "id": "appropriate-philip",
   "metadata": {},
   "source": [
    "**3. Relate hard cases to simpler cases"
   ]
  },
  {
   "cell_type": "markdown",
   "id": "minor-production",
   "metadata": {},
   "source": [
    "So now we have a sweeping range of example cases that we have gone through, we need to notice patterns."
   ]
  },
  {
   "cell_type": "markdown",
   "id": "proud-license",
   "metadata": {},
   "source": [
    "Spefically for this problem, if we look at (2,3) and (3,2) grid and also the (3,3) grid."
   ]
  },
  {
   "cell_type": "code",
   "execution_count": 23,
   "id": "changing-consultation",
   "metadata": {},
   "outputs": [
    {
     "name": "stdout",
     "output_type": "stream",
     "text": [
      "\n",
      "┌──┬──┬──┐\n",
      "│  │  │  │\n",
      "├──┼──┼──┤\n",
      "│  │  │  │\n",
      "└──┴──┴──┘ 2 by 3 box\n",
      "\n",
      "┌───┬───┐\n",
      "│   │   │\n",
      "├───┼───┤\n",
      "│   │   │\n",
      "├───┼───┤\n",
      "│   │   │\n",
      "└───┴───┘ 3 by 2 box\n",
      "\n",
      "┌───┬───┬───┐\n",
      "│   │   │   │\n",
      "├───┼───┼───┤\n",
      "│   │   │   │\n",
      "├───┼───┼───┤\n",
      "│   │   │   │\n",
      "├───┼───┼───┤3 by 3 box \n"
     ]
    }
   ],
   "source": [
    "print(\"\"\"\n",
    "┌──┬──┬──┐\n",
    "│  │  │  │\n",
    "├──┼──┼──┤\n",
    "│  │  │  │\n",
    "└──┴──┴──┘ 2 by 3 box\n",
    "\n",
    "┌───┬───┐\n",
    "│   │   │\n",
    "├───┼───┤\n",
    "│   │   │\n",
    "├───┼───┤\n",
    "│   │   │\n",
    "└───┴───┘ 3 by 2 box\n",
    "\n",
    "┌───┬───┬───┐\n",
    "│   │   │   │\n",
    "├───┼───┼───┤\n",
    "│   │   │   │\n",
    "├───┼───┼───┤\n",
    "│   │   │   │\n",
    "├───┼───┼───┤3 by 3 box \"\"\")\n"
   ]
  },
  {
   "cell_type": "markdown",
   "id": "saved-mainland",
   "metadata": {},
   "source": [
    "By finding all patterns that connect each path for all of these 3, we can see that that for each 2 by 3 and 3 by 2, the 3 by 3 block will have the same path, but simply extended by one block in the grid dimension that the two previous boxes have a lower amount of dimensions."
   ]
  },
  {
   "cell_type": "markdown",
   "id": "empty-ensemble",
   "metadata": {},
   "source": [
    "As such, a 3 by 3 box will have 6 unique paths, which is an addition of the paths when each dimension is subtracted by 1, i.e. summation of (n-1, n) unique paths and (n, n-1) and unique paths is the amount of paths for (n,n)?"
   ]
  },
  {
   "cell_type": "markdown",
   "id": "minimal-clarity",
   "metadata": {},
   "source": [
    "**4. Generalise the Pattern.**"
   ]
  },
  {
   "cell_type": "markdown",
   "id": "aging-oliver",
   "metadata": {},
   "source": [
    "grid_paths(n,m) = grid_paths(n-1, m) + grid_paths(n, m-1) <br>\n",
    "\n",
    "With the base case being 1 if n=1 or m=1"
   ]
  },
  {
   "cell_type": "code",
   "execution_count": 24,
   "id": "tracked-local",
   "metadata": {},
   "outputs": [],
   "source": [
    "def grid_paths(n,m):\n",
    "    if n == 1 or m == 1:\n",
    "        return 1\n",
    "    else:\n",
    "        return grid_paths(n-1, m) + grid_paths(n, m-1) "
   ]
  },
  {
   "cell_type": "markdown",
   "id": "numerical-patch",
   "metadata": {},
   "source": [
    "As you can see our solution is quite simple."
   ]
  },
  {
   "cell_type": "markdown",
   "id": "handed-wellington",
   "metadata": {},
   "source": [
    "## Problem 3 "
   ]
  },
  {
   "cell_type": "markdown",
   "id": "alleged-syndicate",
   "metadata": {},
   "source": [
    "Write a function that counts the number of ways you can partition n objects using parts up to m (assuming m >= 0)"
   ]
  },
  {
   "cell_type": "markdown",
   "id": "powerful-deficit",
   "metadata": {},
   "source": [
    "Start given any value of n, if our m is equal to 1, then partitions(n,1) => 1 partition. <br>\n",
    "Also, given any value of m, if our n is equal to 0, then partitions(0,m) => 1 partition. <br>\n",
    "Also, given any value of n, if our m is equal to 0, then partitions(n,0) => 0 partitions. <br>"
   ]
  },
  {
   "cell_type": "markdown",
   "id": "stainless-tobago",
   "metadata": {},
   "source": [
    "**Dont shy away from attempting to visualise a large set of examples as it might provide hints**"
   ]
  },
  {
   "cell_type": "markdown",
   "id": "violent-bacteria",
   "metadata": {},
   "source": [
    "All partitions of (n, m-1) will belong in the set of (n, m)"
   ]
  },
  {
   "cell_type": "markdown",
   "id": "innovative-license",
   "metadata": {},
   "source": [
    "But also, calculating for the highest level where (n,m), we find that this highest level will equal to (n-m, m)<br>\n",
    "\n",
    "i.e. count_partitions(9,5) = count_partitions(4, 5) + count_partitions(9, 4)"
   ]
  },
  {
   "cell_type": "markdown",
   "id": "encouraging-words",
   "metadata": {},
   "source": [
    "So,\n",
    "1 if n = 0 <br>\n",
    "0 if m = 0 or n < 0  (This is to account for cases where we have n less than m, which is valid but gives us a negative)<br>\n",
    "(n-m, m) + (n, m-1) for all other cases of n, m "
   ]
  },
  {
   "cell_type": "code",
   "execution_count": null,
   "id": "graphic-spoke",
   "metadata": {},
   "outputs": [],
   "source": []
  },
  {
   "cell_type": "code",
   "execution_count": 33,
   "id": "cubic-season",
   "metadata": {},
   "outputs": [],
   "source": [
    "def count_partitions(n, m):\n",
    "    if n == 0:\n",
    "        return 1\n",
    "    if m == 0 or n < 1:\n",
    "        return 0\n",
    "    else:\n",
    "        return count_partitions(n, m-1) + count_partitions(n-m, m)"
   ]
  },
  {
   "cell_type": "markdown",
   "id": "mineral-prairie",
   "metadata": {},
   "source": [
    "So this taught us that finding our bases cases becomes super important to allow the recursion to occur for all situations outside the base case or cases so that it can be allowed to trickle down into the base cases."
   ]
  },
  {
   "cell_type": "code",
   "execution_count": null,
   "id": "labeled-insertion",
   "metadata": {},
   "outputs": [],
   "source": []
  }
 ],
 "metadata": {
  "kernelspec": {
   "display_name": "Python 3",
   "language": "python",
   "name": "python3"
  },
  "language_info": {
   "codemirror_mode": {
    "name": "ipython",
    "version": 3
   },
   "file_extension": ".py",
   "mimetype": "text/x-python",
   "name": "python",
   "nbconvert_exporter": "python",
   "pygments_lexer": "ipython3",
   "version": "3.9.2"
  }
 },
 "nbformat": 4,
 "nbformat_minor": 5
}
