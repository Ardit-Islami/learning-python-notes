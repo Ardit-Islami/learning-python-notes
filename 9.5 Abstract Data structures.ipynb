{
 "cells": [
  {
   "cell_type": "markdown",
   "id": "46c24c3a",
   "metadata": {},
   "source": [
    "## Abstract Data Structures - Queues"
   ]
  },
  {
   "cell_type": "markdown",
   "id": "03595c2a",
   "metadata": {},
   "source": [
    "Consider a situation where one source is generating a set of data and this data needs to \"travel\" and be received by a second data structure.<br>\n",
    "Now if there is an interruption that doesn't allow the receiving end to store this information, then when it restores connection, we have no way to recovering the data that should have been transmitted during this interruption."
   ]
  },
  {
   "cell_type": "markdown",
   "id": "12b058f5",
   "metadata": {},
   "source": [
    "Now in a queue data structure, we introduce a memory buffer between these two data storages.\n",
    "\n",
    "This now forms a \"queue\" where each continuous data output is stored in the memory buffer and gets inserted/received by the second data source and so on with the next one in line, in the order they were pushed in."
   ]
  },
  {
   "cell_type": "markdown",
   "id": "5a78b8b0",
   "metadata": {},
   "source": [
    "Queue allows to establish <font color='red'>Loose Coupling</font>"
   ]
  },
  {
   "cell_type": "markdown",
   "id": "8a248883",
   "metadata": {},
   "source": [
    "Think of it as<br>\n",
    "\n",
    "Producer >> Queue >> Consumer"
   ]
  },
  {
   "cell_type": "markdown",
   "id": "2864cbf6",
   "metadata": {},
   "source": [
    "Think of this as First In First Out or FIFO"
   ]
  },
  {
   "cell_type": "markdown",
   "id": "a2020716",
   "metadata": {},
   "source": [
    "Python uses list, collections.deque, queue.LifoQueue"
   ]
  },
  {
   "cell_type": "markdown",
   "id": "119513bb",
   "metadata": {},
   "source": [
    "### Using List as Queue"
   ]
  },
  {
   "cell_type": "code",
   "execution_count": 2,
   "id": "3e839d47",
   "metadata": {},
   "outputs": [],
   "source": [
    "wmt_stock_price_queue = []"
   ]
  },
  {
   "cell_type": "markdown",
   "id": "c9d0c0ed",
   "metadata": {},
   "source": [
    "As per below, every time I insert an element to the 0th position, the elements get pushed forward."
   ]
  },
  {
   "cell_type": "code",
   "execution_count": 3,
   "id": "96dd00ae",
   "metadata": {},
   "outputs": [],
   "source": [
    "wmt_stock_price_queue.insert(0, 131.10)\n",
    "wmt_stock_price_queue.insert(0, 132.12)\n",
    "wmt_stock_price_queue.insert(0, 135)"
   ]
  },
  {
   "cell_type": "code",
   "execution_count": 4,
   "id": "6ab831df",
   "metadata": {},
   "outputs": [
    {
     "data": {
      "text/plain": [
       "[135, 132.12, 131.1]"
      ]
     },
     "execution_count": 4,
     "metadata": {},
     "output_type": "execute_result"
    }
   ],
   "source": [
    "wmt_stock_price_queue"
   ]
  },
  {
   "cell_type": "code",
   "execution_count": 5,
   "id": "bf5f2d97",
   "metadata": {},
   "outputs": [
    {
     "data": {
      "text/plain": [
       "131.1"
      ]
     },
     "execution_count": 5,
     "metadata": {},
     "output_type": "execute_result"
    }
   ],
   "source": [
    "wmt_stock_price_queue.pop()"
   ]
  },
  {
   "cell_type": "code",
   "execution_count": 6,
   "id": "cf551ed3",
   "metadata": {},
   "outputs": [
    {
     "data": {
      "text/plain": [
       "132.12"
      ]
     },
     "execution_count": 6,
     "metadata": {},
     "output_type": "execute_result"
    }
   ],
   "source": [
    "wmt_stock_price_queue.pop()"
   ]
  },
  {
   "cell_type": "markdown",
   "id": "2315c2bf",
   "metadata": {},
   "source": [
    "List can work okay as Queue, but it has issues with dynamic arrays, i.e. in regards to hitting maximum capacity."
   ]
  },
  {
   "cell_type": "markdown",
   "id": "9cb60462",
   "metadata": {},
   "source": [
    "### Using Dequeue as Queue"
   ]
  },
  {
   "cell_type": "code",
   "execution_count": 8,
   "id": "a15b1181",
   "metadata": {},
   "outputs": [],
   "source": [
    "from collections import deque\n",
    "q = deque()"
   ]
  },
  {
   "cell_type": "code",
   "execution_count": 9,
   "id": "365eefa6",
   "metadata": {},
   "outputs": [],
   "source": [
    "q.appendleft(5)\n",
    "q.appendleft(8)\n",
    "q.appendleft(27)"
   ]
  },
  {
   "cell_type": "code",
   "execution_count": 10,
   "id": "1095b185",
   "metadata": {},
   "outputs": [
    {
     "data": {
      "text/plain": [
       "5"
      ]
     },
     "execution_count": 10,
     "metadata": {},
     "output_type": "execute_result"
    }
   ],
   "source": [
    "q.pop()"
   ]
  },
  {
   "cell_type": "markdown",
   "id": "d9e079ab",
   "metadata": {},
   "source": [
    "#### Creating  a Queue Class"
   ]
  },
  {
   "cell_type": "code",
   "execution_count": 19,
   "id": "daffc019",
   "metadata": {},
   "outputs": [],
   "source": [
    "from collections import deque\n",
    "\n",
    "class Queue:\n",
    "    \n",
    "    def __init__(self):\n",
    "        self.buffer = deque()\n",
    "        \n",
    "    def enqueue(self, val):\n",
    "        self.buffer.appendleft(val)\n",
    "        \n",
    "    def dequeue(self):\n",
    "        return self.buffer.pop()\n",
    "    \n",
    "    def is_empty(self):\n",
    "        return len(self.buffer)==0\n",
    "    \n",
    "    def size(self):\n",
    "        return len(self.buffer)"
   ]
  },
  {
   "cell_type": "code",
   "execution_count": 20,
   "id": "33211e8d",
   "metadata": {},
   "outputs": [],
   "source": [
    "pq = Queue()\n",
    "\n",
    "pq.enqueue({\n",
    "    'company': 'Wall Mart',\n",
    "    'timestamp': '15 apr, 11.01 AM',\n",
    "    'price': 131.10\n",
    "})\n",
    "pq.enqueue({\n",
    "    'company': 'Wall Mart',\n",
    "    'timestamp': '15 apr, 11.02 AM',\n",
    "    'price': 132\n",
    "})\n",
    "pq.enqueue({\n",
    "    'company': 'Wall Mart',\n",
    "    'timestamp': '15 apr, 11.03 AM',\n",
    "    'price': 135\n",
    "})"
   ]
  },
  {
   "cell_type": "code",
   "execution_count": 22,
   "id": "ee58b8eb",
   "metadata": {},
   "outputs": [
    {
     "data": {
      "text/plain": [
       "deque([{'company': 'Wall Mart', 'timestamp': '15 apr, 11.03 AM', 'price': 135},\n",
       "       {'company': 'Wall Mart', 'timestamp': '15 apr, 11.02 AM', 'price': 132},\n",
       "       {'company': 'Wall Mart',\n",
       "        'timestamp': '15 apr, 11.01 AM',\n",
       "        'price': 131.1}])"
      ]
     },
     "execution_count": 22,
     "metadata": {},
     "output_type": "execute_result"
    }
   ],
   "source": [
    "pq.buffer"
   ]
  },
  {
   "cell_type": "markdown",
   "id": "e6567289",
   "metadata": {},
   "source": [
    "### Exercise"
   ]
  },
  {
   "cell_type": "markdown",
   "id": "cdf80940",
   "metadata": {},
   "source": [
    "Design a food ordering system where your python program will run two threads,\n",
    "\n",
    "- Place Order: This thread will be placing an order and inserting that into a queue. This thread places new order every 0.5 second. (hint: use time.sleep(0.5) function)\n",
    "\n",
    "- Serve Order: This thread will server the order. All you need to do is pop the order out of the queue and print it. This thread serves an order every 2 seconds. Also start this thread 1 second after place order thread is started."
   ]
  },
  {
   "cell_type": "code",
   "execution_count": null,
   "id": "3f3fe2b9",
   "metadata": {},
   "outputs": [],
   "source": []
  }
 ],
 "metadata": {
  "kernelspec": {
   "display_name": "Python 3 (ipykernel)",
   "language": "python",
   "name": "python3"
  },
  "language_info": {
   "codemirror_mode": {
    "name": "ipython",
    "version": 3
   },
   "file_extension": ".py",
   "mimetype": "text/x-python",
   "name": "python",
   "nbconvert_exporter": "python",
   "pygments_lexer": "ipython3",
   "version": "3.9.13"
  }
 },
 "nbformat": 4,
 "nbformat_minor": 5
}
