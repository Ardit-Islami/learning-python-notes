{
 "cells": [
  {
   "cell_type": "markdown",
   "id": "duplicate-production",
   "metadata": {},
   "source": [
    "# NeuralNine - Video on Decorators"
   ]
  },
  {
   "cell_type": "markdown",
   "id": "regulation-youth",
   "metadata": {},
   "source": [
    "## Decorators"
   ]
  },
  {
   "cell_type": "markdown",
   "id": "figured-deviation",
   "metadata": {},
   "source": [
    "They add certain functionalities to a function, or the surround / wrap a function with an additional functionality."
   ]
  },
  {
   "cell_type": "markdown",
   "id": "accepted-impression",
   "metadata": {},
   "source": [
    "<font color='blue'>Function inside a fuction Example</font>"
   ]
  },
  {
   "cell_type": "code",
   "execution_count": 16,
   "id": "mighty-squad",
   "metadata": {},
   "outputs": [
    {
     "name": "stdout",
     "output_type": "stream",
     "text": [
      "I am decorating your function!\n",
      "Hello  World!\n"
     ]
    }
   ],
   "source": [
    "def myDecorator(function):\n",
    "    \n",
    "    def wrapper():\n",
    "        print(\"I am decorating your function!\")\n",
    "        function()\n",
    "        \n",
    "    return wrapper\n",
    "\n",
    "def hello_world():\n",
    "    print(\"Hello  World!\")\n",
    "    \n",
    "myDecorator(hello_world)()"
   ]
  },
  {
   "cell_type": "markdown",
   "id": "atlantic-fight",
   "metadata": {},
   "source": [
    "So what is this doing?<br>\n",
    "<br>\n",
    "We're calling our myDecorator function and we're passing the hello_world function as our variable.<br>\n",
    "As a result we get the wrapper that has the additional functionality, in this case printing a string and it's also will thereafter execute the initial function that was called (in this case 'hello_world').<br>\n",
    "And then we call this function, with the two brackets at the end."
   ]
  },
  {
   "cell_type": "markdown",
   "id": "brazilian-heart",
   "metadata": {},
   "source": [
    "**The above is the basic idea of decorators, but this is not how it is done in Python**"
   ]
  },
  {
   "cell_type": "markdown",
   "id": "regular-hunger",
   "metadata": {},
   "source": [
    "Particularly the line myDecorator(hello_world)()<br>\n",
    "We shouldn't call the function, passing the function, then calling the result..."
   ]
  },
  {
   "cell_type": "markdown",
   "id": "heavy-mineral",
   "metadata": {},
   "source": [
    "There is a more elegant way:"
   ]
  },
  {
   "cell_type": "code",
   "execution_count": 17,
   "id": "greenhouse-academy",
   "metadata": {},
   "outputs": [],
   "source": [
    "def myDecorator(function):\n",
    "    \n",
    "    def wrapper():\n",
    "        print(\"I am decorating your function!\")\n",
    "        function()\n",
    "        \n",
    "    return wrapper\n",
    "\n",
    "@myDecorator\n",
    "def hello_world():\n",
    "    print(\"Hello  World!\")"
   ]
  },
  {
   "cell_type": "code",
   "execution_count": 18,
   "id": "public-enclosure",
   "metadata": {},
   "outputs": [
    {
     "name": "stdout",
     "output_type": "stream",
     "text": [
      "I am decorating your function!\n",
      "Hello  World!\n"
     ]
    }
   ],
   "source": [
    "hello_world()"
   ]
  },
  {
   "cell_type": "markdown",
   "id": "outdoor-printing",
   "metadata": {},
   "source": [
    "By doing the above, we are decorating hello_world with the function of myDecorator that we created above it.<br>\n",
    "Instead of passing and calling the wrapper result, we just type @myDecorator (or whatever name your function has), so that we can directly call hello_world itself, of which has already been decorated with myDecorator."
   ]
  },
  {
   "cell_type": "markdown",
   "id": "multiple-empire",
   "metadata": {},
   "source": [
    "## Limitations"
   ]
  },
  {
   "cell_type": "markdown",
   "id": "vietnamese-personality",
   "metadata": {},
   "source": [
    "Say we have some parameter set within hello_world()<br>\n",
    "Then our decorator will not work, because this parameter does not exist within wrapper()"
   ]
  },
  {
   "cell_type": "code",
   "execution_count": 19,
   "id": "processed-facility",
   "metadata": {},
   "outputs": [],
   "source": [
    "def myDecorator(function):\n",
    "    \n",
    "    def wrapper():\n",
    "        print(\"I am decorating your function!\")\n",
    "        function()\n",
    "        \n",
    "    return wrapper\n",
    "\n",
    "@myDecorator\n",
    "def hello(person):\n",
    "    print(f\"Hello  {person}!\")"
   ]
  },
  {
   "cell_type": "code",
   "execution_count": 20,
   "id": "hollow-allowance",
   "metadata": {},
   "outputs": [],
   "source": [
    "#hello('Mike')\n",
    "#---------------------------------------------------------------------------\n",
    "#TypeError                                 Traceback (most recent call last)\n",
    "#<ipython-input-4-90fab3337acc> in <module>\n",
    "#----> 1 hello('Mike')\n",
    "#      2 #---------------------------------------------------------------------------\n",
    "#      3 #NameError                                 Traceback (most recent call last)\n",
    "#      4 #<ipython-input-2-cbd3fba9a372> in <module>\n",
    "#      5 #----> 1 hello('Mike')\n",
    "\n",
    "#TypeError: wrapper() takes 0 positional arguments but 1 was given"
   ]
  },
  {
   "cell_type": "markdown",
   "id": "gross-novelty",
   "metadata": {},
   "source": [
    "We could certainly add a parameter within the wrapper, but the point of decorators is that they're not necessarily used for or by one function, but by multiple.<br>\n",
    "We do not want it to be limited by one specific signature. We want it to be universally usable."
   ]
  },
  {
   "cell_type": "markdown",
   "id": "applied-france",
   "metadata": {},
   "source": [
    "## Args and Kwargs"
   ]
  },
  {
   "cell_type": "code",
   "execution_count": 21,
   "id": "victorian-fellow",
   "metadata": {},
   "outputs": [],
   "source": [
    "def myDecorator(function):\n",
    "    \n",
    "    def wrapper(*args, **kwargs):\n",
    "        print(\"I am decorating your function!\")\n",
    "        function(*args, **kwargs)\n",
    "        \n",
    "    return wrapper\n",
    "\n",
    "@myDecorator\n",
    "def hello(person):\n",
    "    print(f\"Hello  {person}!\")"
   ]
  },
  {
   "cell_type": "markdown",
   "id": "written-computer",
   "metadata": {},
   "source": [
    "So now whatever is passed in hello(), will be then be passed inside the wrapper function, more specifically as the function() function."
   ]
  },
  {
   "cell_type": "code",
   "execution_count": 22,
   "id": "polar-dublin",
   "metadata": {},
   "outputs": [
    {
     "name": "stdout",
     "output_type": "stream",
     "text": [
      "I am decorating your function!\n",
      "Hello  Mike!\n"
     ]
    }
   ],
   "source": [
    "hello('Mike')"
   ]
  },
  {
   "cell_type": "markdown",
   "id": "expressed-tobacco",
   "metadata": {},
   "source": [
    "## The Second Issue"
   ]
  },
  {
   "cell_type": "markdown",
   "id": "working-terrain",
   "metadata": {},
   "source": [
    "Say we now instead want to return instead of printing. We want to return a string"
   ]
  },
  {
   "cell_type": "code",
   "execution_count": 23,
   "id": "sunrise-parish",
   "metadata": {},
   "outputs": [],
   "source": [
    "def myDecorator(function):\n",
    "    \n",
    "    def wrapper(*args, **kwargs):\n",
    "        print(\"I am decorating your function!\")\n",
    "        function(*args, **kwargs)\n",
    "        \n",
    "    return wrapper\n",
    "\n",
    "@myDecorator\n",
    "def hello(person):\n",
    "    return f\"Hello  {person}!\""
   ]
  },
  {
   "cell_type": "markdown",
   "id": "early-elephant",
   "metadata": {},
   "source": [
    "I can't just simply have return f\"Hello {person}!\"<br>\n",
    "I won't be able to return this string by simply calling the hello function in this state"
   ]
  },
  {
   "cell_type": "code",
   "execution_count": 24,
   "id": "tracked-lease",
   "metadata": {},
   "outputs": [
    {
     "name": "stdout",
     "output_type": "stream",
     "text": [
      "I am decorating your function!\n"
     ]
    }
   ],
   "source": [
    "hello('Mike')"
   ]
  },
  {
   "cell_type": "markdown",
   "id": "likely-inside",
   "metadata": {},
   "source": [
    "To make this work..."
   ]
  },
  {
   "cell_type": "markdown",
   "id": "abroad-garden",
   "metadata": {},
   "source": [
    "<font color='blue'>Attempt 1</font>"
   ]
  },
  {
   "cell_type": "code",
   "execution_count": 25,
   "id": "particular-investment",
   "metadata": {},
   "outputs": [
    {
     "name": "stdout",
     "output_type": "stream",
     "text": [
      "I am decorating your function!\n",
      "Hello  Mike!\n"
     ]
    }
   ],
   "source": [
    "def myDecorator(function):\n",
    "    \n",
    "    def wrapper(*args, **kwargs):\n",
    "        print(\"I am decorating your function!\")\n",
    "        return function(*args, **kwargs)\n",
    "        \n",
    "    return wrapper\n",
    "\n",
    "@myDecorator\n",
    "def hello(person):\n",
    "    return f\"Hello  {person}!\"\n",
    "\n",
    "print(hello('Mike'))"
   ]
  },
  {
   "cell_type": "markdown",
   "id": "sacred-history",
   "metadata": {},
   "source": [
    "But then, what if we want the function statement first, which is being called through return..."
   ]
  },
  {
   "cell_type": "code",
   "execution_count": 26,
   "id": "funny-riverside",
   "metadata": {},
   "outputs": [
    {
     "name": "stdout",
     "output_type": "stream",
     "text": [
      "Hello  Mike!\n"
     ]
    }
   ],
   "source": [
    "def myDecorator(function):\n",
    "    \n",
    "    def wrapper(*args, **kwargs):\n",
    "        return function(*args, **kwargs)\n",
    "        print(\"I am decorating your function!\")\n",
    "        \n",
    "    return wrapper\n",
    "\n",
    "@myDecorator\n",
    "def hello(person):\n",
    "    return f\"Hello  {person}!\"\n",
    "\n",
    "print(hello('Mike'))"
   ]
  },
  {
   "cell_type": "markdown",
   "id": "owned-showcase",
   "metadata": {},
   "source": [
    "While we change our call of the function return, due to decorator function also working based of a return statement... Then we are limited to have our Wrapper function only outputting a single return statement and ignoring anything beneath it.<br>\n",
    "In that sense, we can only call upon return once and that is at the very end, after executing any other action we want to commit."
   ]
  },
  {
   "cell_type": "markdown",
   "id": "progressive-summer",
   "metadata": {},
   "source": [
    "To make it work, we need to store the function into a variable."
   ]
  },
  {
   "cell_type": "code",
   "execution_count": 27,
   "id": "certified-launch",
   "metadata": {},
   "outputs": [
    {
     "name": "stdout",
     "output_type": "stream",
     "text": [
      "This is a test!\n",
      "I am decorating your function!\n",
      "Hello Mike!\n"
     ]
    }
   ],
   "source": [
    "def myDecorator(function):\n",
    "    \n",
    "    def wrapper(*args, **kwargs):\n",
    "        return_value = function(*args, **kwargs)\n",
    "        print(\"I am decorating your function!\")\n",
    "        return return_value\n",
    "         \n",
    "    return wrapper\n",
    "\n",
    "@myDecorator\n",
    "def hello(person):\n",
    "    print(f\"This is a test!\")\n",
    "    return f\"Hello {person}!\"\n",
    "\n",
    "print(hello('Mike'))"
   ]
  },
  {
   "cell_type": "markdown",
   "id": "composed-brunswick",
   "metadata": {},
   "source": [
    "## Practical Applications"
   ]
  },
  {
   "cell_type": "markdown",
   "id": "billion-holder",
   "metadata": {},
   "source": [
    "<font color='blue'>Example 1 - Logging</font>"
   ]
  },
  {
   "cell_type": "markdown",
   "id": "proved-stick",
   "metadata": {},
   "source": [
    "In a real example, this is not how one would do logging, one would use the logging module."
   ]
  },
  {
   "cell_type": "code",
   "execution_count": 28,
   "id": "surface-wales",
   "metadata": {},
   "outputs": [],
   "source": [
    "def Add(x, y):\n",
    "    return x + y"
   ]
  },
  {
   "cell_type": "code",
   "execution_count": 29,
   "id": "limiting-milton",
   "metadata": {},
   "outputs": [
    {
     "name": "stdout",
     "output_type": "stream",
     "text": [
      "30\n"
     ]
    }
   ],
   "source": [
    "print(Add(10,20))"
   ]
  },
  {
   "cell_type": "code",
   "execution_count": 30,
   "id": "prescribed-steam",
   "metadata": {},
   "outputs": [],
   "source": [
    "def logged(function):\n",
    "    def wrapper(*args, **kwargs):\n",
    "        value = function(*args, **kwargs)\n",
    "        with open('logfile.txt', 'a+') as f:\n",
    "            fname = function.__name__\n",
    "            print(f\"{fname} returned value {value}\")\n",
    "            f.write(f\"{fname} returned value {value}\")\n",
    "            f.close()\n",
    "        return value # in case there is a return value, we're going to return it.\n",
    "    \n",
    "    return wrapper"
   ]
  },
  {
   "cell_type": "code",
   "execution_count": 31,
   "id": "sapphire-dallas",
   "metadata": {},
   "outputs": [
    {
     "name": "stdout",
     "output_type": "stream",
     "text": [
      "add returned value 30\n",
      "30\n"
     ]
    }
   ],
   "source": [
    "@logged\n",
    "def add(x, y):\n",
    "    return x + y\n",
    "\n",
    "print(add(10,20))"
   ]
  },
  {
   "cell_type": "markdown",
   "id": "tutorial-offset",
   "metadata": {},
   "source": [
    "<font color='blue'>Example 2 - Timing</font>"
   ]
  },
  {
   "cell_type": "code",
   "execution_count": 32,
   "id": "thirty-register",
   "metadata": {},
   "outputs": [],
   "source": [
    "import time\n",
    "\n",
    "def timed(function):\n",
    "    def wrapper(*args, **kwargs):\n",
    "        before = time.time()\n",
    "        value = function(*args, **kwargs)\n",
    "        after = time.time()\n",
    "        fname = function.__name__\n",
    "        \n",
    "        print(f\"{fname} took {after - before} seconds to execute\")\n",
    "        return value\n",
    "    \n",
    "    return wrapper"
   ]
  },
  {
   "cell_type": "code",
   "execution_count": 33,
   "id": "gentle-income",
   "metadata": {
    "scrolled": false
   },
   "outputs": [
    {
     "name": "stdout",
     "output_type": "stream",
     "text": [
      "myFunction took 3.004284381866455 seconds to execute\n",
      "The factorial is 6\n"
     ]
    }
   ],
   "source": [
    "@timed\n",
    "def myFunction(x):\n",
    "    result = 1\n",
    "    for i in range(1, x):\n",
    "        time.sleep(1)\n",
    "        result *= i\n",
    "    return f'The factorial is {result}'\n",
    "\n",
    "print(myFunction(4))"
   ]
  },
  {
   "cell_type": "markdown",
   "id": "addressed-arthritis",
   "metadata": {},
   "source": [
    "# Analytix Circle - Video on Decorators"
   ]
  },
  {
   "cell_type": "code",
   "execution_count": 9,
   "id": "sunset-variance",
   "metadata": {},
   "outputs": [],
   "source": [
    "def hello():\n",
    "    print('Hello')\n",
    "\n",
    "def my_decorator(func):\n",
    "    def wrap_func():\n",
    "        print('*****')\n",
    "        func()\n",
    "        print('*****')\n",
    "    return wrap_func\n",
    "\n",
    "@my_decorator\n",
    "def hello():\n",
    "    print('Hello')"
   ]
  },
  {
   "cell_type": "code",
   "execution_count": 10,
   "id": "material-kitty",
   "metadata": {},
   "outputs": [
    {
     "name": "stdout",
     "output_type": "stream",
     "text": [
      "*****\n",
      "Hello\n",
      "*****\n"
     ]
    }
   ],
   "source": [
    "hello()"
   ]
  }
 ],
 "metadata": {
  "kernelspec": {
   "display_name": "Python 3",
   "language": "python",
   "name": "python3"
  },
  "language_info": {
   "codemirror_mode": {
    "name": "ipython",
    "version": 3
   },
   "file_extension": ".py",
   "mimetype": "text/x-python",
   "name": "python",
   "nbconvert_exporter": "python",
   "pygments_lexer": "ipython3",
   "version": "3.9.2"
  }
 },
 "nbformat": 4,
 "nbformat_minor": 5
}
