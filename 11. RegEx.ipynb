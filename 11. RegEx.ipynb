{
 "cells": [
  {
   "cell_type": "code",
   "execution_count": 2,
   "id": "00932308",
   "metadata": {},
   "outputs": [],
   "source": [
    "import re"
   ]
  },
  {
   "cell_type": "code",
   "execution_count": 3,
   "id": "654ecd30",
   "metadata": {},
   "outputs": [],
   "source": [
    "text_to_search = '''\n",
    "abcdefghijklmnopqurtuvwxyz\n",
    "ABCDEFGHIJKLMNOPQRSTUVWXYZ\n",
    "1234567890\n",
    "\n",
    "Ha HaHa\n",
    "\n",
    "MetaCharacters (Need to be escaped):\n",
    ". ^ $ * + ? { } [ ] \\ | ( )\n",
    "\n",
    "coreyms.com\n",
    "\n",
    "321-555-4321\n",
    "123.555.1234\n",
    "123*555*123\n",
    "800-555-1234\n",
    "900-555-1234\n",
    "\n",
    "Mr. Schafer\n",
    "Mr Smith\n",
    "Ms Davis\n",
    "Mrs. Robinson\n",
    "Mr. T\n",
    "abc\n",
    "'''"
   ]
  },
  {
   "cell_type": "code",
   "execution_count": 4,
   "id": "5ae43703",
   "metadata": {},
   "outputs": [],
   "source": [
    "sentence = 'Start a sentence and then bring it to an end'"
   ]
  },
  {
   "cell_type": "markdown",
   "id": "28676b94",
   "metadata": {},
   "source": [
    "**Raw Strings**"
   ]
  },
  {
   "cell_type": "markdown",
   "id": "aaa175fe",
   "metadata": {},
   "source": [
    "Strings prefixed with an r<br>\n",
    "Not to handle backslashes in any way."
   ]
  },
  {
   "cell_type": "code",
   "execution_count": 5,
   "id": "c16b0b25",
   "metadata": {},
   "outputs": [
    {
     "name": "stdout",
     "output_type": "stream",
     "text": [
      "\\tTab\n"
     ]
    }
   ],
   "source": [
    "# i.e.\n",
    "#print('\\tTab')\n",
    "# \tTab\n",
    "print(r'\\tTab')"
   ]
  },
  {
   "cell_type": "markdown",
   "id": "ced69ea7",
   "metadata": {},
   "source": [
    "### Compiling"
   ]
  },
  {
   "cell_type": "markdown",
   "id": "0cbd17a1",
   "metadata": {},
   "source": [
    "Allows us to seperate patterns into a variable and reuse variables to perform multiple searches."
   ]
  },
  {
   "cell_type": "code",
   "execution_count": 6,
   "id": "9227ff3f",
   "metadata": {},
   "outputs": [],
   "source": [
    "pattern = re.compile(r'abc')"
   ]
  },
  {
   "cell_type": "code",
   "execution_count": 7,
   "id": "6b1eea43",
   "metadata": {},
   "outputs": [],
   "source": [
    "matches = pattern.finditer(text_to_search)"
   ]
  },
  {
   "cell_type": "code",
   "execution_count": 8,
   "id": "b1d2954b",
   "metadata": {},
   "outputs": [
    {
     "name": "stdout",
     "output_type": "stream",
     "text": [
      "<re.Match object; span=(1, 4), match='abc'>\n",
      "<re.Match object; span=(270, 273), match='abc'>\n"
     ]
    }
   ],
   "source": [
    "for match in matches:\n",
    "    print(match)"
   ]
  },
  {
   "cell_type": "markdown",
   "id": "6091fe7b",
   "metadata": {},
   "source": [
    "^ This tells us that it only found the the pattern of string 'abc'<br>\n",
    "And also gives us the index of each location i.e [1] -  [4] and [271]  -  [274]"
   ]
  },
  {
   "cell_type": "code",
   "execution_count": 9,
   "id": "ccbc617a",
   "metadata": {},
   "outputs": [
    {
     "name": "stdout",
     "output_type": "stream",
     "text": [
      "bc\n",
      "\n"
     ]
    }
   ],
   "source": [
    "print(text_to_search[271:274])"
   ]
  },
  {
   "cell_type": "markdown",
   "id": "aa678295",
   "metadata": {},
   "source": [
    "**More on Compiling**"
   ]
  },
  {
   "cell_type": "code",
   "execution_count": 10,
   "id": "b133ecde",
   "metadata": {},
   "outputs": [
    {
     "name": "stdout",
     "output_type": "stream",
     "text": [
      "<class 're.Pattern'>\n",
      "['251', '761', '231', '451']\n"
     ]
    }
   ],
   "source": [
    "import re\n",
    "\n",
    "# Target String one\n",
    "str1 = \"Emma's luck numbers are 251 761 231 451\"\n",
    "\n",
    "# pattern to find three consecutive digits\n",
    "string_pattern = r\"\\d{3}\"\n",
    "# compile string pattern to re.Pattern object\n",
    "regex_pattern = re.compile(string_pattern)\n",
    "\n",
    "# print the type of compiled pattern\n",
    "print(type(regex_pattern))\n",
    "\n",
    "# find all the matches in string one\n",
    "result = regex_pattern.findall(str1)\n",
    "print(result)"
   ]
  },
  {
   "cell_type": "markdown",
   "id": "b90a868a",
   "metadata": {},
   "source": [
    "**Special Characters**"
   ]
  },
  {
   "cell_type": "code",
   "execution_count": 11,
   "id": "9b5b4d33",
   "metadata": {},
   "outputs": [
    {
     "name": "stdout",
     "output_type": "stream",
     "text": [
      "<re.Match object; span=(142, 153), match='coreyms.com'>\n"
     ]
    }
   ],
   "source": [
    " "
   ]
  },
  {
   "cell_type": "markdown",
   "id": "5d3d51e3",
   "metadata": {},
   "source": [
    "## Character Matching"
   ]
  },
  {
   "cell_type": "code",
   "execution_count": 12,
   "id": "1bb6095e",
   "metadata": {},
   "outputs": [],
   "source": [
    "# .       - Any Character Except New Line\n",
    "# d       - Digit (0-9)\n",
    "# \\D      - Not a Digit (0-9)\n",
    "# \\w      - Word Character (a-z, A-Z, 0-9, _)\n",
    "# \\W      - Not a Word Character\n",
    "# \\s      - Whitespace (space, tab, newline)\n",
    "# \\S      - Not Whitespace (space, tab, newline)\n",
    "\n",
    "# \\b      - Word Boundary\n",
    "# \\B      - Not a Word Boundary\n",
    "# ^       - Beginning of a String\n",
    "# $       - End of a String\n",
    "\n",
    "# []      - Matches Characters in brackets\n",
    "# [^ ]    - Matches Characters NOT in brackets\n",
    "# |       - Either Or\n",
    "# ( )     - Group\n",
    "\n",
    "#Quantifiers:\n",
    "# *       - 0 or More\n",
    "# +       - 1 or More\n",
    "# ?       - 0 or One\n",
    "# {3}     - Exact Number\n",
    "# {3,4}   - Range of Numbers (Minimum, Maximum)"
   ]
  },
  {
   "cell_type": "markdown",
   "id": "2231d16d",
   "metadata": {},
   "source": [
    "**Word Boundary**"
   ]
  },
  {
   "cell_type": "markdown",
   "id": "f339a20b",
   "metadata": {},
   "source": [
    "Indicated by whitespaces and non alphanumerical character."
   ]
  },
  {
   "cell_type": "code",
   "execution_count": 13,
   "id": "cc429675",
   "metadata": {},
   "outputs": [
    {
     "name": "stdout",
     "output_type": "stream",
     "text": [
      "<re.Match object; span=(67, 69), match='Ha'>\n",
      "<re.Match object; span=(70, 72), match='Ha'>\n"
     ]
    }
   ],
   "source": [
    "pattern = re.compile(r'\\bHa')\n",
    "\n",
    "matches = pattern.finditer(text_to_search)\n",
    "for match in matches:\n",
    "    print(match)"
   ]
  },
  {
   "cell_type": "markdown",
   "id": "2369a980",
   "metadata": {},
   "source": [
    "Starts by finding a '/b' then a 'Ha'<br>Matches \"Ha HaHa\" matches the 1st and 2nd Ha, but not the third in HaHa"
   ]
  },
  {
   "cell_type": "markdown",
   "id": "1a23eee6",
   "metadata": {},
   "source": [
    "**Beginning  / End of String**"
   ]
  },
  {
   "cell_type": "code",
   "execution_count": 1,
   "id": "97fec678",
   "metadata": {},
   "outputs": [],
   "source": [
    "sentence = 'Start a sentence and then bring it to an end'"
   ]
  },
  {
   "cell_type": "code",
   "execution_count": 14,
   "id": "48c4cece",
   "metadata": {},
   "outputs": [
    {
     "name": "stdout",
     "output_type": "stream",
     "text": [
      "<re.Match object; span=(0, 4), match='Star'>\n"
     ]
    }
   ],
   "source": [
    "pattern = re.compile(r'^Star') # The beginning of sentence is Start and so it finds Star at [0] - [4]\n",
    "\n",
    "matches = pattern.finditer(sentence)\n",
    "for match in matches:\n",
    "    print(match)"
   ]
  },
  {
   "cell_type": "code",
   "execution_count": 15,
   "id": "a665ba18",
   "metadata": {},
   "outputs": [
    {
     "name": "stdout",
     "output_type": "stream",
     "text": [
      "<re.Match object; span=(42, 44), match='nd'>\n"
     ]
    }
   ],
   "source": [
    "pattern = re.compile(r'nd$') # The beginning of sentence is Start and so it finds Star at [0] - [4]\n",
    "\n",
    "matches = pattern.finditer(sentence)\n",
    "for match in matches:\n",
    "    print(match)"
   ]
  },
  {
   "cell_type": "markdown",
   "id": "62ba16af",
   "metadata": {},
   "source": [
    "**Matching Digits**"
   ]
  },
  {
   "cell_type": "code",
   "execution_count": 16,
   "id": "c6b00955",
   "metadata": {},
   "outputs": [
    {
     "name": "stdout",
     "output_type": "stream",
     "text": [
      "<re.Match object; span=(155, 167), match='321-555-4321'>\n",
      "<re.Match object; span=(168, 180), match='123.555.1234'>\n",
      "<re.Match object; span=(181, 192), match='123*555*123'>\n",
      "<re.Match object; span=(193, 205), match='800-555-1234'>\n",
      "<re.Match object; span=(206, 218), match='900-555-1234'>\n"
     ]
    }
   ],
   "source": [
    "pattern = re.compile(r'\\d{3}\\W\\d{3}\\W\\d{3,4}')\n",
    "\n",
    "matches = pattern.finditer(text_to_search)\n",
    "for match in matches:\n",
    "    print(match)"
   ]
  },
  {
   "cell_type": "markdown",
   "id": "9a9ebd40",
   "metadata": {},
   "source": [
    "In nicer form"
   ]
  },
  {
   "cell_type": "code",
   "execution_count": 17,
   "id": "fa9c1f9e",
   "metadata": {},
   "outputs": [
    {
     "data": {
      "text/plain": [
       "['321-555-4321', '123.555.1234', '123*555*123', '800-555-1234', '900-555-1234']"
      ]
     },
     "execution_count": 17,
     "metadata": {},
     "output_type": "execute_result"
    }
   ],
   "source": [
    "list_org = re.findall(r'\\d{3}\\W\\d{3}\\W\\d{3,4}', text_to_search)\n",
    "list_org"
   ]
  },
  {
   "cell_type": "code",
   "execution_count": 18,
   "id": "004bef68",
   "metadata": {},
   "outputs": [
    {
     "data": {
      "text/plain": [
       "['321-555-4321', '123.555.1234', '123*555*123', '800-555-1234', '900-555-1234']"
      ]
     },
     "execution_count": 18,
     "metadata": {},
     "output_type": "execute_result"
    }
   ],
   "source": [
    "list_clean = re.findall(r'\\d{3}\\W\\d{3}\\W\\d{3,4}', text_to_search)\n",
    "list_clean"
   ]
  },
  {
   "cell_type": "markdown",
   "id": "4e97e65c",
   "metadata": {},
   "source": [
    "### Quick Example of Cleaning Data"
   ]
  },
  {
   "cell_type": "code",
   "execution_count": 19,
   "id": "31eafbc4",
   "metadata": {},
   "outputs": [],
   "source": [
    "for count, x in enumerate(list_clean):\n",
    "    list_clean[count] = x.replace('-', '').replace('.', '').replace('*','')"
   ]
  },
  {
   "cell_type": "code",
   "execution_count": 24,
   "id": "d163d295",
   "metadata": {},
   "outputs": [
    {
     "data": {
      "text/html": [
       "<div>\n",
       "<style scoped>\n",
       "    .dataframe tbody tr th:only-of-type {\n",
       "        vertical-align: middle;\n",
       "    }\n",
       "\n",
       "    .dataframe tbody tr th {\n",
       "        vertical-align: top;\n",
       "    }\n",
       "\n",
       "    .dataframe thead th {\n",
       "        text-align: right;\n",
       "    }\n",
       "</style>\n",
       "<table border=\"1\" class=\"dataframe\">\n",
       "  <thead>\n",
       "    <tr style=\"text-align: right;\">\n",
       "      <th></th>\n",
       "      <th>Original</th>\n",
       "      <th>Cleaned</th>\n",
       "    </tr>\n",
       "  </thead>\n",
       "  <tbody>\n",
       "    <tr>\n",
       "      <th>0</th>\n",
       "      <td>321-555-4321</td>\n",
       "      <td>3215554321</td>\n",
       "    </tr>\n",
       "    <tr>\n",
       "      <th>1</th>\n",
       "      <td>123.555.1234</td>\n",
       "      <td>1235551234</td>\n",
       "    </tr>\n",
       "    <tr>\n",
       "      <th>2</th>\n",
       "      <td>123*555*123</td>\n",
       "      <td>123555123</td>\n",
       "    </tr>\n",
       "    <tr>\n",
       "      <th>3</th>\n",
       "      <td>800-555-1234</td>\n",
       "      <td>8005551234</td>\n",
       "    </tr>\n",
       "    <tr>\n",
       "      <th>4</th>\n",
       "      <td>900-555-1234</td>\n",
       "      <td>9005551234</td>\n",
       "    </tr>\n",
       "  </tbody>\n",
       "</table>\n",
       "</div>"
      ],
      "text/plain": [
       "       Original     Cleaned\n",
       "0  321-555-4321  3215554321\n",
       "1  123.555.1234  1235551234\n",
       "2   123*555*123   123555123\n",
       "3  800-555-1234  8005551234\n",
       "4  900-555-1234  9005551234"
      ]
     },
     "execution_count": 24,
     "metadata": {},
     "output_type": "execute_result"
    }
   ],
   "source": [
    "import pandas as pd\n",
    "d = {'Original': list_org, 'Cleaned': list_clean}\n",
    "df = pd.DataFrame(d)\n",
    "df"
   ]
  },
  {
   "cell_type": "markdown",
   "id": "f0720d68",
   "metadata": {},
   "source": [
    "#### Further Testing"
   ]
  },
  {
   "cell_type": "code",
   "execution_count": 25,
   "id": "6078189b",
   "metadata": {},
   "outputs": [],
   "source": [
    "test = re.compile(r'test')"
   ]
  },
  {
   "cell_type": "code",
   "execution_count": 26,
   "id": "a2af01ec",
   "metadata": {},
   "outputs": [
    {
     "data": {
      "text/plain": [
       "['test', 'test', 'test']"
      ]
     },
     "execution_count": 26,
     "metadata": {},
     "output_type": "execute_result"
    }
   ],
   "source": [
    "test.findall('test test test')"
   ]
  },
  {
   "cell_type": "markdown",
   "id": "67277e4d",
   "metadata": {},
   "source": [
    "### More examples"
   ]
  },
  {
   "cell_type": "code",
   "execution_count": 27,
   "id": "450ab9ee",
   "metadata": {},
   "outputs": [],
   "source": [
    "Numbers = '''\n",
    "321--555-4321\n",
    "123.555.1234\n",
    "123*555*123\n",
    "800-555---1234\n",
    "900-..555-1234'''"
   ]
  },
  {
   "cell_type": "code",
   "execution_count": 28,
   "id": "e6e848ca",
   "metadata": {},
   "outputs": [
    {
     "data": {
      "text/plain": [
       "['321--555-4321', '123.555.1234', '800-555---1234', '900-..555-1234']"
      ]
     },
     "execution_count": 28,
     "metadata": {},
     "output_type": "execute_result"
    }
   ],
   "source": [
    "re.findall(r'\\d{3}[-.]{1,3}\\d{3}[-.]{1,3}\\d{3,4}', Numbers)"
   ]
  },
  {
   "cell_type": "markdown",
   "id": "c397f6df",
   "metadata": {},
   "source": [
    "**Searching through a range**"
   ]
  },
  {
   "cell_type": "code",
   "execution_count": 29,
   "id": "514a7dd3",
   "metadata": {},
   "outputs": [
    {
     "data": {
      "text/plain": [
       "['23']"
      ]
     },
     "execution_count": 29,
     "metadata": {},
     "output_type": "execute_result"
    }
   ],
   "source": [
    "number = '12345'\n",
    "re.findall(r'[1-2][3-5]', number)"
   ]
  },
  {
   "cell_type": "markdown",
   "id": "f23b11ad",
   "metadata": {},
   "source": [
    "Alphabet Example"
   ]
  },
  {
   "cell_type": "code",
   "execution_count": 30,
   "id": "ebfa5ac0",
   "metadata": {},
   "outputs": [
    {
     "data": {
      "text/plain": [
       "['T', 'h', 'i', 's', 'i', 's', 'a', 't', 'e', 's', 't']"
      ]
     },
     "execution_count": 30,
     "metadata": {},
     "output_type": "execute_result"
    }
   ],
   "source": [
    "Sentence = 'This is a test'\n",
    "re.findall(r'[a-zA-Z]', Sentence)"
   ]
  },
  {
   "cell_type": "markdown",
   "id": "c9177457",
   "metadata": {},
   "source": [
    "### Groups"
   ]
  },
  {
   "cell_type": "code",
   "execution_count": 35,
   "id": "4ac14669",
   "metadata": {},
   "outputs": [
    {
     "name": "stdout",
     "output_type": "stream",
     "text": [
      "<re.Match object; span=(220, 231), match='Mr. Schafer'>\n",
      "<re.Match object; span=(232, 240), match='Mr Smith'>\n",
      "<re.Match object; span=(241, 249), match='Ms Davis'>\n",
      "<re.Match object; span=(250, 263), match='Mrs. Robinson'>\n",
      "<re.Match object; span=(264, 269), match='Mr. T'>\n"
     ]
    }
   ],
   "source": [
    "pattern = re.compile(r'M[rs]s?\\.?\\s[a-zA-Z]*')\n",
    "\n",
    "matches = pattern.finditer(text_to_search)\n",
    "for match in matches:\n",
    "    print(match)"
   ]
  },
  {
   "cell_type": "code",
   "execution_count": 36,
   "id": "c5e0a162",
   "metadata": {},
   "outputs": [
    {
     "name": "stdout",
     "output_type": "stream",
     "text": [
      "<re.Match object; span=(220, 231), match='Mr. Schafer'>\n",
      "<re.Match object; span=(232, 240), match='Mr Smith'>\n",
      "<re.Match object; span=(241, 249), match='Ms Davis'>\n",
      "<re.Match object; span=(250, 263), match='Mrs. Robinson'>\n",
      "<re.Match object; span=(264, 269), match='Mr. T'>\n"
     ]
    }
   ],
   "source": [
    "pattern = re.compile(r'M(r|s|rs)\\.?\\s[a-zA-Z]*')\n",
    "\n",
    "matches = pattern.finditer(text_to_search)\n",
    "for match in matches:\n",
    "    print(match)"
   ]
  },
  {
   "cell_type": "code",
   "execution_count": 4,
   "id": "b0c43fc1",
   "metadata": {},
   "outputs": [
    {
     "name": "stdout",
     "output_type": "stream",
     "text": [
      "<re.Match object; span=(0, 2), match=':)'>\n"
     ]
    }
   ],
   "source": [
    "import re\n",
    "pattern = re.compile(r'[:;][-~]?[D/)]')\n",
    "text = ':)'\n",
    "matches = pattern.finditer(text)\n",
    "for match in matches:\n",
    "    print(match)"
   ]
  },
  {
   "cell_type": "code",
   "execution_count": null,
   "id": "7232e71c",
   "metadata": {},
   "outputs": [],
   "source": [
    "Sentence = 'This is a test'\n",
    "re.findall(r'[a-zA-Z]', Sentence)"
   ]
  },
  {
   "cell_type": "code",
   "execution_count": 8,
   "id": "0552e18c",
   "metadata": {},
   "outputs": [],
   "source": [
    "pattern = re.compile(r'[:;][-~]?[D/)]')\n",
    "text = ':('\n",
    "if pattern.match(text):\n",
    "    print('test')"
   ]
  },
  {
   "cell_type": "code",
   "execution_count": null,
   "id": "39c1d396",
   "metadata": {},
   "outputs": [],
   "source": []
  }
 ],
 "metadata": {
  "kernelspec": {
   "display_name": "Python 3 (ipykernel)",
   "language": "python",
   "name": "python3"
  },
  "language_info": {
   "codemirror_mode": {
    "name": "ipython",
    "version": 3
   },
   "file_extension": ".py",
   "mimetype": "text/x-python",
   "name": "python",
   "nbconvert_exporter": "python",
   "pygments_lexer": "ipython3",
   "version": "3.9.13"
  }
 },
 "nbformat": 4,
 "nbformat_minor": 5
}
