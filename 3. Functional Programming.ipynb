{
 "cells": [
  {
   "cell_type": "markdown",
   "id": "e9543b83",
   "metadata": {},
   "source": [
    "## What is Functional Programming?"
   ]
  },
  {
   "cell_type": "markdown",
   "id": "6251106e",
   "metadata": {},
   "source": [
    "- All about seperation of concerns > So every thing is well organised by packaging things.\n",
    "- Each part is organised that makes sense in terms of its functionality.<br>\n",
    "\n",
    "\n",
    "- Separates data and functions\n",
    "- Instead of combining methods and attributes, we separate them up.\n",
    "\n",
    "\n",
    "- Functions operate on well defined data structures such as lists and dictionaries, rather than belonging that data structure to an object.\n",
    "\n",
    "\n",
    "- Pillars of OOP: Encapsulation, Abstraction, Inheritance, Polymorphism."
   ]
  },
  {
   "cell_type": "markdown",
   "id": "8db5ae56",
   "metadata": {},
   "source": [
    "## Pure Functions"
   ]
  },
  {
   "cell_type": "markdown",
   "id": "28e1d544",
   "metadata": {},
   "source": [
    "Given a pure function, an input that undergoes a function must always give the same output.<br>\n",
    "A pure function should not produce any side effects i.e. affecting global variables that exist outside the function.<br>\n",
    "- This includes things even such as print() as you are acting on something and printing something on to the screen, it is something that exists outside the function."
   ]
  },
  {
   "cell_type": "code",
   "execution_count": 2,
   "id": "e711c4f3",
   "metadata": {},
   "outputs": [],
   "source": [
    "def multiply_by2(li):\n",
    "    new_list = []\n",
    "    for item in li:\n",
    "        new_list.append(item*2)\n",
    "    return new_list"
   ]
  },
  {
   "cell_type": "code",
   "execution_count": 3,
   "id": "db7da2b4",
   "metadata": {},
   "outputs": [
    {
     "name": "stdout",
     "output_type": "stream",
     "text": [
      "[2, 4, 6]\n"
     ]
    }
   ],
   "source": [
    "print(multiply_by2([1,2,3]))"
   ]
  },
  {
   "cell_type": "markdown",
   "id": "0126fe93",
   "metadata": {},
   "source": [
    "**Is the above a pure function?**"
   ]
  },
  {
   "cell_type": "markdown",
   "id": "383e2f71",
   "metadata": {},
   "source": [
    "1. Given the same output it will always generate the same output.\n",
    "2. No side effects - it not interaction with the outside world\n",
    "\n",
    "- If we contained a print in the function, then yes, at that point this function would have a side effect."
   ]
  },
  {
   "cell_type": "markdown",
   "id": "e5397adc",
   "metadata": {},
   "source": [
    "**A pure function is more of a guideline than an absolute**"
   ]
  },
  {
   "cell_type": "markdown",
   "id": "1dd095ce",
   "metadata": {},
   "source": [
    "## Map, Filter, Zip, Reduce"
   ]
  },
  {
   "cell_type": "markdown",
   "id": "7d3c8724",
   "metadata": {},
   "source": [
    "### Map"
   ]
  },
  {
   "cell_type": "code",
   "execution_count": 4,
   "id": "c6414a2a",
   "metadata": {},
   "outputs": [
    {
     "name": "stdout",
     "output_type": "stream",
     "text": [
      "<map object at 0x000002C99AFC1640>\n"
     ]
    }
   ],
   "source": [
    "# map(func, *iterables) --> map object\n",
    "# i.e.\n",
    "print(map(multiply_by2, [1,2,3]))"
   ]
  },
  {
   "cell_type": "markdown",
   "id": "600c2ace",
   "metadata": {},
   "source": [
    "**Viewing Results of Mapping**"
   ]
  },
  {
   "cell_type": "code",
   "execution_count": 5,
   "id": "b8a419ba",
   "metadata": {},
   "outputs": [],
   "source": [
    "# print(list(map(multiply_by2, [1,2,3])))"
   ]
  },
  {
   "cell_type": "markdown",
   "id": "ec0df127",
   "metadata": {},
   "source": [
    "- We do not run the above, because it will error with TypeError: 'int' object is not iterable\n",
    "- This is because of a clash between our function and the 'map' function"
   ]
  },
  {
   "cell_type": "markdown",
   "id": "6424a28c",
   "metadata": {},
   "source": [
    "With map, we no longer need to create the empty list new_list and then appending to said list.<br>\n",
    "\n",
    "With map we then simply need a function that does the action itself, in our case: item * 2"
   ]
  },
  {
   "cell_type": "markdown",
   "id": "3014a19a",
   "metadata": {},
   "source": [
    "Therefore :"
   ]
  },
  {
   "cell_type": "code",
   "execution_count": 6,
   "id": "44cd2e0c",
   "metadata": {},
   "outputs": [
    {
     "name": "stdout",
     "output_type": "stream",
     "text": [
      "[2, 4, 6]\n"
     ]
    }
   ],
   "source": [
    "def multiply_by2(item):\n",
    "    return item*2\n",
    "\n",
    "print(list(map(multiply_by2, [1,2,3])))"
   ]
  },
  {
   "cell_type": "markdown",
   "id": "965067d4",
   "metadata": {},
   "source": [
    "Notice that you do not need to call it with brackets as \" multiply_by2() \"<br>\n",
    "Remember the functional programming paradigm, we have data i.e. [1,2,3] that is acted upon i.e. by multiply_by2"
   ]
  },
  {
   "cell_type": "markdown",
   "id": "d31fe289",
   "metadata": {},
   "source": [
    " - Let's also see the following:"
   ]
  },
  {
   "cell_type": "code",
   "execution_count": 7,
   "id": "ea4e79c5",
   "metadata": {},
   "outputs": [
    {
     "name": "stdout",
     "output_type": "stream",
     "text": [
      "[2, 4, 6]\n",
      "[1, 2, 3]\n"
     ]
    }
   ],
   "source": [
    "my_List = [1,2,3]\n",
    "\n",
    "def multiply_by2(item):\n",
    "    return item*2\n",
    "\n",
    "print(list(map(multiply_by2, my_List)))\n",
    "print(my_List)"
   ]
  },
  {
   "cell_type": "markdown",
   "id": "849a3b78",
   "metadata": {},
   "source": [
    "Notice that the variable outside the function, stays unaffected even when acted upon a function within map"
   ]
  },
  {
   "cell_type": "markdown",
   "id": "105fece0",
   "metadata": {},
   "source": [
    "## Filter"
   ]
  },
  {
   "cell_type": "markdown",
   "id": "61e31e2f",
   "metadata": {},
   "source": [
    "Returns an iterator over all the sequence elements that meet a certain condition, and is similarly duplicated by list comprehensions.<br>\n",
    "A predicate is a function that returns the truth value of some condition; for use with filter(), \n",
    "the predicate must take a single value."
   ]
  },
  {
   "cell_type": "code",
   "execution_count": 8,
   "id": "9b701c1f",
   "metadata": {},
   "outputs": [],
   "source": [
    "def only_odd(item):\n",
    "    return item % 2"
   ]
  },
  {
   "cell_type": "code",
   "execution_count": 9,
   "id": "06d437f8",
   "metadata": {},
   "outputs": [
    {
     "name": "stdout",
     "output_type": "stream",
     "text": [
      "[1, 3]\n",
      "[1, 2, 3]\n"
     ]
    }
   ],
   "source": [
    "# filter(predicate, iter)\n",
    "print(list(filter(only_odd, my_List))) # Filter takes a boolean value in this anything that return True within only_odd\n",
    "print(my_List)"
   ]
  },
  {
   "cell_type": "markdown",
   "id": "c8a91d4a",
   "metadata": {},
   "source": [
    "## Zip"
   ]
  },
  {
   "cell_type": "markdown",
   "id": "c798885b",
   "metadata": {},
   "source": [
    "With two iterables, we can \"zip\" them together."
   ]
  },
  {
   "cell_type": "code",
   "execution_count": 10,
   "id": "b246f8b3",
   "metadata": {},
   "outputs": [
    {
     "name": "stdout",
     "output_type": "stream",
     "text": [
      "[(1, 10, 5), (2, 20, 4), (3, 30, 3)]\n"
     ]
    }
   ],
   "source": [
    "my_List = [1,2,3]\n",
    "your_List = [10,20,30]\n",
    "their_List = [5,4,3]\n",
    "\n",
    "def multiply_by2(item):\n",
    "    return item*2\n",
    "\n",
    "def only_odd(item):\n",
    "    return item % 2\n",
    "\n",
    "print(list(zip(my_List, your_List, their_List)))"
   ]
  },
  {
   "cell_type": "markdown",
   "id": "abef0afb",
   "metadata": {},
   "source": [
    "The zip function has created a list of tuples with each first value from all lists."
   ]
  },
  {
   "cell_type": "code",
   "execution_count": 11,
   "id": "2c1a2a6a",
   "metadata": {},
   "outputs": [
    {
     "data": {
      "text/plain": [
       "{1: 10, 2: 20, 3: 30}"
      ]
     },
     "execution_count": 11,
     "metadata": {},
     "output_type": "execute_result"
    }
   ],
   "source": [
    "new_dict = list(zip(my_List, your_List))\n",
    "dict(new_dict)"
   ]
  },
  {
   "cell_type": "markdown",
   "id": "a722ec7d",
   "metadata": {},
   "source": [
    "## Reduce"
   ]
  },
  {
   "cell_type": "markdown",
   "id": "8be23421",
   "metadata": {},
   "source": [
    "Allows us to reduce some sort of value from an iterable."
   ]
  },
  {
   "cell_type": "code",
   "execution_count": 12,
   "id": "a54a3e4a",
   "metadata": {},
   "outputs": [],
   "source": [
    "from functools import reduce\n",
    "\n",
    "my_List = [1,2,3]\n",
    "\n",
    "def multiply_by2(item):\n",
    "    return item*2\n",
    "\n",
    "def only_odd(item):\n",
    "    return item % 2\n",
    "\n",
    "def accumulator(acc, item):\n",
    "    print(acc, item)\n",
    "    return acc + item"
   ]
  },
  {
   "cell_type": "code",
   "execution_count": 13,
   "id": "dfdb64ea",
   "metadata": {},
   "outputs": [
    {
     "name": "stdout",
     "output_type": "stream",
     "text": [
      "0 1\n",
      "1 2\n",
      "3 3\n",
      "6\n"
     ]
    }
   ],
   "source": [
    "# reduce(function, sequence [,initial]) --> value\n",
    "\n",
    "print(reduce(accumulator, my_List, 0))"
   ]
  },
  {
   "cell_type": "markdown",
   "id": "02a5f380",
   "metadata": {},
   "source": [
    "## Lambda Expressions"
   ]
  },
  {
   "cell_type": "markdown",
   "id": "1cd8aef8",
   "metadata": {},
   "source": [
    "One time anonymous functions."
   ]
  },
  {
   "cell_type": "code",
   "execution_count": 14,
   "id": "937fad1e",
   "metadata": {},
   "outputs": [
    {
     "name": "stdout",
     "output_type": "stream",
     "text": [
      "Map:\n",
      "[2, 4, 6]\n",
      "Filter:\n",
      "[1, 3]\n",
      "Reduce:\n",
      "6\n"
     ]
    }
   ],
   "source": [
    "# lambda param: action(param)\n",
    "\n",
    "# -> print(list(map(multiply_by2, my_List)))\n",
    "\n",
    "# Mapping\n",
    "print('Map:')\n",
    "print(list(map(lambda item: item*2, my_List)))\n",
    "\n",
    "# Filtering\n",
    "print('Filter:')\n",
    "print(list(filter(lambda item: item%2, my_List)))\n",
    "\n",
    "# Reduce\n",
    "print('Reduce:')\n",
    "print(reduce(lambda acc, item: acc+item, my_List, 0))"
   ]
  },
  {
   "cell_type": "markdown",
   "id": "a9112a76",
   "metadata": {},
   "source": [
    "<font color='blue'>Challenge 1</font>"
   ]
  },
  {
   "cell_type": "code",
   "execution_count": 15,
   "id": "2fe2e4c5",
   "metadata": {},
   "outputs": [
    {
     "name": "stdout",
     "output_type": "stream",
     "text": [
      "[25, 16, 9]\n"
     ]
    }
   ],
   "source": [
    "my_List = [5,4,3]\n",
    "\n",
    "print(list(map(lambda x: x**2, my_List)))"
   ]
  },
  {
   "cell_type": "markdown",
   "id": "617ab900",
   "metadata": {},
   "source": [
    "<font color='blue'>Challenge 2</font>"
   ]
  },
  {
   "cell_type": "code",
   "execution_count": 26,
   "id": "3bca7116",
   "metadata": {},
   "outputs": [],
   "source": [
    "a = [(0,2), (4,3), (9,9), (10, -1)]"
   ]
  },
  {
   "cell_type": "code",
   "execution_count": 27,
   "id": "023619d5",
   "metadata": {},
   "outputs": [
    {
     "data": {
      "text/plain": [
       "[(10, -1), (0, 2), (4, 3), (9, 9)]"
      ]
     },
     "execution_count": 27,
     "metadata": {},
     "output_type": "execute_result"
    }
   ],
   "source": [
    "sorted(a, key = lambda item: item[1])"
   ]
  },
  {
   "cell_type": "code",
   "execution_count": 28,
   "id": "632a71cd",
   "metadata": {},
   "outputs": [
    {
     "name": "stdout",
     "output_type": "stream",
     "text": [
      "[(10, -1), (0, 2), (4, 3), (9, 9)]\n"
     ]
    }
   ],
   "source": [
    "a.sort(key = lambda item: item[1])\n",
    "print(a)\n",
    "a = [(0,2), (4,3), (9,9), (10, -1)]"
   ]
  },
  {
   "cell_type": "markdown",
   "id": "bbd9dba9",
   "metadata": {},
   "source": [
    "## Basic List Comprehension"
   ]
  },
  {
   "cell_type": "code",
   "execution_count": 33,
   "id": "1ba1a59e",
   "metadata": {},
   "outputs": [
    {
     "name": "stdout",
     "output_type": "stream",
     "text": [
      "['h', 'e', 'l', 'l', 'o']\n"
     ]
    }
   ],
   "source": [
    "my_List = []\n",
    "for char in 'hello':\n",
    "    my_List.append(char)\n",
    "print(my_List)"
   ]
  },
  {
   "cell_type": "code",
   "execution_count": 30,
   "id": "33735cb8",
   "metadata": {},
   "outputs": [
    {
     "name": "stdout",
     "output_type": "stream",
     "text": [
      "['h', 'e', 'l', 'l', 'o']\n"
     ]
    }
   ],
   "source": [
    "my_List = []\n",
    "my_List += 'hello'\n",
    "print(my_List)"
   ]
  },
  {
   "cell_type": "code",
   "execution_count": 31,
   "id": "86836c5f",
   "metadata": {},
   "outputs": [
    {
     "name": "stdout",
     "output_type": "stream",
     "text": [
      "['1', '2', '3', '5', '8', '9', '7']\n"
     ]
    }
   ],
   "source": [
    "a = 1235897\n",
    "my_List = []\n",
    "my_List += str(a)\n",
    "print(my_List)"
   ]
  },
  {
   "cell_type": "markdown",
   "id": "d2247026",
   "metadata": {},
   "source": [
    "**List Comprehension**"
   ]
  },
  {
   "cell_type": "code",
   "execution_count": 36,
   "id": "d0e6d65f",
   "metadata": {},
   "outputs": [
    {
     "name": "stdout",
     "output_type": "stream",
     "text": [
      "['h', 'e', 'l', 'l', 'o']\n"
     ]
    }
   ],
   "source": [
    "my_List = [char for char in 'hello']\n",
    "print(my_List)"
   ]
  },
  {
   "cell_type": "code",
   "execution_count": 40,
   "id": "991a3053",
   "metadata": {},
   "outputs": [
    {
     "name": "stdout",
     "output_type": "stream",
     "text": [
      "[0, 1, 2, 3, 4, 5, 6, 7, 8, 9, 10, 11, 12, 13, 14, 15, 16, 17, 18, 19, 20, 21, 22, 23, 24, 25, 26, 27, 28, 29, 30, 31, 32, 33, 34, 35, 36, 37, 38, 39, 40, 41, 42, 43, 44, 45, 46, 47, 48, 49, 50, 51, 52, 53, 54, 55, 56, 57, 58, 59, 60, 61, 62, 63, 64, 65, 66, 67, 68, 69, 70, 71, 72, 73, 74, 75, 76, 77, 78, 79, 80, 81, 82, 83, 84, 85, 86, 87, 88, 89, 90, 91, 92, 93, 94, 95, 96, 97, 98, 99]\n"
     ]
    }
   ],
   "source": [
    "my_List2 = [num for num in range(0,100)]\n",
    "print(my_List2)"
   ]
  },
  {
   "cell_type": "code",
   "execution_count": 46,
   "id": "a8485eae",
   "metadata": {},
   "outputs": [
    {
     "name": "stdout",
     "output_type": "stream",
     "text": [
      "[0, 1, 4, 9, 16, 25, 36, 49, 64, 81, 100, 121, 144, 169, 196, 225, 256, 289, 324, 361, 400, 441, 484, 529, 576, 625, 676, 729, 784, 841, 900, 961, 1024, 1089, 1156, 1225, 1296, 1369, 1444, 1521, 1600, 1681, 1764, 1849, 1936, 2025, 2116, 2209, 2304, 2401, 2500, 2601, 2704, 2809, 2916, 3025, 3136, 3249, 3364, 3481, 3600, 3721, 3844, 3969, 4096, 4225, 4356, 4489, 4624, 4761, 4900, 5041, 5184, 5329, 5476, 5625, 5776, 5929, 6084, 6241, 6400, 6561, 6724, 6889, 7056, 7225, 7396, 7569, 7744, 7921, 8100, 8281, 8464, 8649, 8836, 9025, 9216, 9409, 9604, 9801]\n"
     ]
    }
   ],
   "source": [
    "my_List3 = [num**2 for num in range(0,100)]\n",
    "print(my_List3)"
   ]
  },
  {
   "cell_type": "code",
   "execution_count": 48,
   "id": "e642ab9b",
   "metadata": {},
   "outputs": [
    {
     "name": "stdout",
     "output_type": "stream",
     "text": [
      "[0, 4, 16, 36, 64, 100, 144, 196, 256, 324, 400, 484, 576, 676, 784, 900, 1024, 1156, 1296, 1444, 1600, 1764, 1936, 2116, 2304, 2500, 2704, 2916, 3136, 3364, 3600, 3844, 4096, 4356, 4624, 4900, 5184, 5476, 5776, 6084, 6400, 6724, 7056, 7396, 7744, 8100, 8464, 8836, 9216, 9604]\n"
     ]
    }
   ],
   "source": [
    "my_List4 = [num**2 for num in range(0,100) if num%2==0]\n",
    "print(my_List4)"
   ]
  },
  {
   "cell_type": "markdown",
   "id": "d3ea6c84",
   "metadata": {},
   "source": [
    "## Set Comprehension"
   ]
  },
  {
   "cell_type": "code",
   "execution_count": 51,
   "id": "5e59c580",
   "metadata": {},
   "outputs": [
    {
     "name": "stdout",
     "output_type": "stream",
     "text": [
      "{0, 256, 1024, 2304, 4, 900, 1156, 3844, 4096, 4356, 8836, 9604, 16, 144, 400, 784, 1296, 1936, 2704, 3600, 4624, 5776, 9216, 36, 676, 1444, 3364, 4900, 8100, 7056, 7744, 64, 576, 1600, 3136, 196, 324, 2116, 2500, 5184, 6084, 6400, 6724, 8464, 100, 484, 1764, 2916, 5476, 7396}\n"
     ]
    }
   ],
   "source": [
    "my_List = {char for char in 'hello'}\n",
    "my_List2 = {num for num in range(0,100)}\n",
    "my_List3 = {num**2 for num in range(0,100)}\n",
    "my_List4 = {num**2 for num in range(0,100) if num%2==0}\n",
    "print(my_List4)"
   ]
  },
  {
   "cell_type": "markdown",
   "id": "3c195f93",
   "metadata": {},
   "source": [
    "## Dictionary Comprehension"
   ]
  },
  {
   "cell_type": "code",
   "execution_count": 57,
   "id": "c6108ff5",
   "metadata": {},
   "outputs": [
    {
     "name": "stdout",
     "output_type": "stream",
     "text": [
      "{'a-test': 4, 'b-test': 9}\n"
     ]
    }
   ],
   "source": [
    "simple_dict = {'a': 2, 'b': 3}\n",
    "my_Dict = {key+'-test':value**2 for key,value in simple_dict.items()}\n",
    "print(my_Dict)"
   ]
  },
  {
   "cell_type": "code",
   "execution_count": 58,
   "id": "f8dd65a5",
   "metadata": {},
   "outputs": [
    {
     "name": "stdout",
     "output_type": "stream",
     "text": [
      "{'a-test': 4}\n"
     ]
    }
   ],
   "source": [
    "simple_dict = {'a': 2, 'b': 3}\n",
    "my_Dict = {key+'-test':value**2 for key,value in simple_dict.items() if value%2==0}\n",
    "print(my_Dict)"
   ]
  },
  {
   "cell_type": "markdown",
   "id": "2bef7ca3",
   "metadata": {},
   "source": [
    "<font color='blue'>Example</font>"
   ]
  },
  {
   "cell_type": "code",
   "execution_count": 59,
   "id": "9c78cf46",
   "metadata": {},
   "outputs": [
    {
     "name": "stdout",
     "output_type": "stream",
     "text": [
      "{1: 2, 2: 4, 3: 6}\n"
     ]
    }
   ],
   "source": [
    "my_dict = {num:num*2 for num in [1,2,3]}\n",
    "print(my_dict)"
   ]
  },
  {
   "cell_type": "markdown",
   "id": "de72d3d0",
   "metadata": {},
   "source": [
    "<font color='blue'>Challenge</font>"
   ]
  },
  {
   "cell_type": "code",
   "execution_count": 61,
   "id": "8bb9bb74",
   "metadata": {},
   "outputs": [],
   "source": [
    "some_list = ['a', 'b', 'c', 'b', 'd', 'm', 'n', 'n',]"
   ]
  },
  {
   "cell_type": "code",
   "execution_count": 69,
   "id": "e2f73361",
   "metadata": {},
   "outputs": [
    {
     "name": "stdout",
     "output_type": "stream",
     "text": [
      "['b', 'n']\n"
     ]
    }
   ],
   "source": [
    "duplicates = list(set([value for value in some_list if some_list.count(value) >=2]))\n",
    "print(duplicates)"
   ]
  },
  {
   "cell_type": "code",
   "execution_count": null,
   "id": "55bf02e5",
   "metadata": {},
   "outputs": [],
   "source": []
  }
 ],
 "metadata": {
  "kernelspec": {
   "display_name": "Python 3 (ipykernel)",
   "language": "python",
   "name": "python3"
  },
  "language_info": {
   "codemirror_mode": {
    "name": "ipython",
    "version": 3
   },
   "file_extension": ".py",
   "mimetype": "text/x-python",
   "name": "python",
   "nbconvert_exporter": "python",
   "pygments_lexer": "ipython3",
   "version": "3.9.13"
  }
 },
 "nbformat": 4,
 "nbformat_minor": 5
}
