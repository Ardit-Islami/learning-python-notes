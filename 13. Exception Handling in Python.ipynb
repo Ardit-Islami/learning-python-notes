{
 "cells": [
  {
   "cell_type": "markdown",
   "id": "fossil-physiology",
   "metadata": {},
   "source": [
    "Exceptions are raised when something goes wrong, i.e."
   ]
  },
  {
   "cell_type": "code",
   "execution_count": 2,
   "id": "placed-settlement",
   "metadata": {},
   "outputs": [],
   "source": [
    "# print(10/0)\n",
    "# ---------------------------------------------------------------------------\n",
    "# ZeroDivisionError                         Traceback (most recent call last)\n",
    "# <ipython-input-1-fe01563e1bc6> in <module>\n",
    "# ----> 1 print(10/0)\n",
    "#\n",
    "# ZeroDivisionError: division by zero"
   ]
  },
  {
   "cell_type": "code",
   "execution_count": 4,
   "id": "liked-beverage",
   "metadata": {},
   "outputs": [
    {
     "name": "stdout",
     "output_type": "stream",
     "text": [
      "Error occurred. Division Failed.\n"
     ]
    }
   ],
   "source": [
    "try:\n",
    "    print(10/0)\n",
    "except:\n",
    "    print(\"Error occurred. Division Failed.\")"
   ]
  },
  {
   "cell_type": "markdown",
   "id": "ruled-theology",
   "metadata": {},
   "source": [
    "The try has failed, therefore Python will execute the Except statement."
   ]
  },
  {
   "cell_type": "markdown",
   "id": "clear-radius",
   "metadata": {},
   "source": [
    "### One Example"
   ]
  },
  {
   "cell_type": "code",
   "execution_count": 5,
   "id": "acting-processing",
   "metadata": {},
   "outputs": [],
   "source": [
    "try:\n",
    "    print(10/0)\n",
    "except:\n",
    "    pass"
   ]
  },
  {
   "cell_type": "markdown",
   "id": "spare-valentine",
   "metadata": {},
   "source": [
    "The above is simply if you wish to try something and pass to continue with the rest of your code without generating anything further."
   ]
  },
  {
   "cell_type": "code",
   "execution_count": 6,
   "id": "alert-violence",
   "metadata": {},
   "outputs": [
    {
     "name": "stdout",
     "output_type": "stream",
     "text": [
      "1.0\n",
      "2.0\n",
      "1.6666666666666667\n",
      "1.1111111111111112\n",
      "1.25\n",
      "5.0\n"
     ]
    }
   ],
   "source": [
    "values = [10, 5, 6, 0, 9, 8, 2]\n",
    "for value in values:\n",
    "    try:\n",
    "        print(10 / value)\n",
    "    except:\n",
    "        pass"
   ]
  },
  {
   "cell_type": "markdown",
   "id": "hourly-gambling",
   "metadata": {},
   "source": [
    "We basically ignored the 0 in our list because it trigerred our except and simply has been ignored."
   ]
  },
  {
   "cell_type": "markdown",
   "id": "lesser-angola",
   "metadata": {},
   "source": [
    "**Alternatively**"
   ]
  },
  {
   "cell_type": "code",
   "execution_count": 7,
   "id": "better-solid",
   "metadata": {},
   "outputs": [
    {
     "name": "stdout",
     "output_type": "stream",
     "text": [
      "1.0\n",
      "2.0\n",
      "1.6666666666666667\n",
      "1.1111111111111112\n",
      "1.25\n",
      "5.0\n"
     ]
    }
   ],
   "source": [
    "values = [10, 5, 6, 0, 9, 8, 2]\n",
    "for value in values:\n",
    "    try:\n",
    "        print(10 / value)\n",
    "    except:\n",
    "        continue\n",
    "        \n",
    "    # other statements down here."
   ]
  },
  {
   "cell_type": "markdown",
   "id": "dressed-racing",
   "metadata": {},
   "source": [
    "### Always be Explicit when Handling Errors"
   ]
  },
  {
   "cell_type": "markdown",
   "id": "laughing-salvation",
   "metadata": {},
   "source": [
    "Because in the above we are expecting a zero division error, we therefore can do something like so:"
   ]
  },
  {
   "cell_type": "code",
   "execution_count": 8,
   "id": "prescription-chrome",
   "metadata": {},
   "outputs": [
    {
     "name": "stdout",
     "output_type": "stream",
     "text": [
      "1.0\n",
      "2.0\n",
      "1.6666666666666667\n",
      "division by zero\n",
      "1.1111111111111112\n",
      "1.25\n",
      "5.0\n"
     ]
    }
   ],
   "source": [
    "values = [10, 5, 6, 0, 9, 8, 2]\n",
    "for value in values:\n",
    "    try:\n",
    "        print(10 / value)\n",
    "    except ZeroDivisionError as e:\n",
    "        print(str(e))\n",
    "        \n",
    "    # other statements down here."
   ]
  },
  {
   "cell_type": "code",
   "execution_count": 9,
   "id": "empirical-theme",
   "metadata": {},
   "outputs": [
    {
     "name": "stdout",
     "output_type": "stream",
     "text": [
      "invalid literal for int() with base 10: 'Hello'\n",
      "invalid literal for int() with base 10: 'Hello'\n",
      "invalid literal for int() with base 10: 'Hello'\n",
      "invalid literal for int() with base 10: 'Hello'\n",
      "invalid literal for int() with base 10: 'Hello'\n",
      "invalid literal for int() with base 10: 'Hello'\n",
      "invalid literal for int() with base 10: 'Hello'\n"
     ]
    }
   ],
   "source": [
    "values = [10, 5, 6, 0, 9, 8, 2]\n",
    "for value in values:\n",
    "    try:\n",
    "        print(int(\"Hello\")) # Trying to typecast a String into an Integer\n",
    "    except ValueError as v:\n",
    "        print(str(v))\n",
    "        \n",
    "    # other statements down here."
   ]
  },
  {
   "cell_type": "markdown",
   "id": "vanilla-sarah",
   "metadata": {},
   "source": [
    "**Then it would be good to do a general exception - where if any other exception is raised, what do we want to do:**"
   ]
  },
  {
   "cell_type": "code",
   "execution_count": 10,
   "id": "electric-reference",
   "metadata": {},
   "outputs": [
    {
     "name": "stdout",
     "output_type": "stream",
     "text": [
      "invalid literal for int() with base 10: 'Hello'\n",
      "invalid literal for int() with base 10: 'Hello'\n",
      "invalid literal for int() with base 10: 'Hello'\n",
      "invalid literal for int() with base 10: 'Hello'\n",
      "invalid literal for int() with base 10: 'Hello'\n",
      "invalid literal for int() with base 10: 'Hello'\n",
      "invalid literal for int() with base 10: 'Hello'\n"
     ]
    }
   ],
   "source": [
    "import logging # To be used for the general exception.\n",
    "\n",
    "values = [10, 5, 6, 0, 9, 8, 2]\n",
    "for value in values:\n",
    "    try:\n",
    "        print(int(\"Hello\")) # Trying to typecast a String into an Integer\n",
    "    except ValueError as v:\n",
    "        print(str(v))\n",
    "    except ZeroDivisionError as z:\n",
    "        print(str(z))\n",
    "    except Exception as e: # on an IDE this will trigger an advisory of \"Too broad of an exception clause\"\n",
    "      logging.exception(e)       \n",
    "        \n",
    "    # other statements down here."
   ]
  },
  {
   "cell_type": "markdown",
   "id": "disturbed-northeast",
   "metadata": {},
   "source": [
    "This basically says, these are the exceptions that I expect, i.e. ValueError and ZeroDivisionError and if any other error occurs that I am not listing here specifically, then it's not something that I am expecting."
   ]
  },
  {
   "cell_type": "markdown",
   "id": "correct-cradle",
   "metadata": {},
   "source": [
    "### Handling Multiple Exceptions the same way"
   ]
  },
  {
   "cell_type": "code",
   "execution_count": 13,
   "id": "accepting-premiere",
   "metadata": {},
   "outputs": [
    {
     "name": "stdout",
     "output_type": "stream",
     "text": [
      "1.0\n",
      "2.0\n",
      "1.6666666666666667\n",
      "1.1111111111111112\n",
      "1.25\n",
      "5.0\n"
     ]
    }
   ],
   "source": [
    "import logging # To be used for the general exception.\n",
    "\n",
    "values = [10, 5, 6, 0, 9, 8, \"hello\", 2]\n",
    "for value in values:\n",
    "    try:\n",
    "        print(10 / int(value)) # Trying to typecast a String into an Integer\n",
    "    except (ValueError, ZeroDivisionError) as e:\n",
    "        pass\n",
    "    \n",
    "    # other statements down here."
   ]
  },
  {
   "cell_type": "code",
   "execution_count": null,
   "id": "organized-laptop",
   "metadata": {},
   "outputs": [],
   "source": []
  }
 ],
 "metadata": {
  "kernelspec": {
   "display_name": "Python 3",
   "language": "python",
   "name": "python3"
  },
  "language_info": {
   "codemirror_mode": {
    "name": "ipython",
    "version": 3
   },
   "file_extension": ".py",
   "mimetype": "text/x-python",
   "name": "python",
   "nbconvert_exporter": "python",
   "pygments_lexer": "ipython3",
   "version": "3.9.2"
  }
 },
 "nbformat": 4,
 "nbformat_minor": 5
}
