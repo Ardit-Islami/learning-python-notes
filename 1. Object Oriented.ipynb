{
 "cells": [
  {
   "cell_type": "markdown",
   "id": "18bd725c",
   "metadata": {},
   "source": [
    "# Introduction"
   ]
  },
  {
   "cell_type": "code",
   "execution_count": 2,
   "id": "f54162dc",
   "metadata": {},
   "outputs": [
    {
     "name": "stdout",
     "output_type": "stream",
     "text": [
      "<class 'NoneType'>\n",
      "<class 'bool'>\n",
      "<class 'int'>\n",
      "<class 'float'>\n",
      "<class 'str'>\n",
      "<class 'list'>\n",
      "<class 'tuple'>\n",
      "<class 'dict'>\n"
     ]
    }
   ],
   "source": [
    "# OOP\n",
    "print(type(None))\n",
    "print(type(True))\n",
    "print(type(5))\n",
    "print(type(5.5))\n",
    "print(type('hi'))\n",
    "print(type([]))\n",
    "print(type(()))\n",
    "print(type({}))"
   ]
  },
  {
   "cell_type": "markdown",
   "id": "d78115b5",
   "metadata": {},
   "source": [
    "Everything here is an object. Everything above is built by this class keyword.<br>\n",
    "And you can call on methods on these objects such as 'hi'.classfold()"
   ]
  },
  {
   "cell_type": "markdown",
   "id": "aceec5ac",
   "metadata": {},
   "source": [
    "An object is an item that has methods it can call upon and attributes you can access with the dot method."
   ]
  },
  {
   "cell_type": "markdown",
   "id": "4856d234",
   "metadata": {},
   "source": [
    "<font color='blue'>Example</font>"
   ]
  },
  {
   "cell_type": "code",
   "execution_count": 3,
   "id": "479d04bc",
   "metadata": {},
   "outputs": [],
   "source": [
    "class BigObject: # Class\n",
    "    pass"
   ]
  },
  {
   "cell_type": "code",
   "execution_count": 4,
   "id": "ef338d25",
   "metadata": {},
   "outputs": [
    {
     "name": "stdout",
     "output_type": "stream",
     "text": [
      "<class 'type'>\n"
     ]
    }
   ],
   "source": [
    "print(type(BigObject))"
   ]
  },
  {
   "cell_type": "code",
   "execution_count": 5,
   "id": "01c6ca37",
   "metadata": {},
   "outputs": [],
   "source": [
    "obj1 = BigObject() # instantiate"
   ]
  },
  {
   "cell_type": "code",
   "execution_count": 6,
   "id": "821bf1a5",
   "metadata": {},
   "outputs": [
    {
     "name": "stdout",
     "output_type": "stream",
     "text": [
      "<class '__main__.BigObject'>\n"
     ]
    }
   ],
   "source": [
    "print(type(obj1))"
   ]
  },
  {
   "cell_type": "markdown",
   "id": "6a90f154",
   "metadata": {},
   "source": [
    "__ main __ > will talk about it later"
   ]
  },
  {
   "cell_type": "markdown",
   "id": "dfcde6f7",
   "metadata": {},
   "source": [
    "## The concept"
   ]
  },
  {
   "cell_type": "markdown",
   "id": "e30d963b",
   "metadata": {},
   "source": [
    "Think of the class as the 'Blueprint'.<br>\n",
    "The blueprint of what we want to create and what are the basic attributes that its properties that our class has and what are some basic methods or actions our class can take.<br><br>\n",
    "As such, then we create these objects that we have this 'Blueprint' class as our building block."
   ]
  },
  {
   "cell_type": "markdown",
   "id": "2bb29653",
   "metadata": {},
   "source": [
    "We can **Instatiate** this class to our create our **instances** which are our objects we mentioned above."
   ]
  },
  {
   "cell_type": "markdown",
   "id": "3b36bbc9",
   "metadata": {},
   "source": [
    "Once we create our blueprint class, the environment then stores this code in memory.<br>\n",
    "So that when we instantiate, we don't need to rewrite all that code and instead the environment will access that in memory code of said class that we our instantiating our object based on and then we can call on the in-memory methods and actions."
   ]
  },
  {
   "cell_type": "markdown",
   "id": "35156c7a",
   "metadata": {},
   "source": [
    "# The Class"
   ]
  },
  {
   "cell_type": "code",
   "execution_count": 7,
   "id": "30c43be9",
   "metadata": {},
   "outputs": [],
   "source": [
    "class PlayerCharacter:\n",
    "    def __init__(self, name):\n",
    "        self.name = name\n",
    "        \n",
    "    def run(self):\n",
    "        print('run')"
   ]
  },
  {
   "cell_type": "code",
   "execution_count": 8,
   "id": "940b9c94",
   "metadata": {},
   "outputs": [],
   "source": [
    "# player1 = PlayerCharacter()\n",
    "\n",
    "# ---------------------------------------------------------------------------\n",
    "# TypeError                                 Traceback (most recent call last)\n",
    "# ~\\AppData\\Local\\Temp\\ipykernel_12456\\3849483216.py in <module>\n",
    "# ----> 1 player1 = PlayerCharacter()\n",
    "#\n",
    "# TypeError: __init__() missing 1 required positional argument: 'name'"
   ]
  },
  {
   "cell_type": "markdown",
   "id": "9ef955b9",
   "metadata": {},
   "source": [
    "## The init method"
   ]
  },
  {
   "cell_type": "markdown",
   "id": "a4f54f26",
   "metadata": {},
   "source": [
    "The two _ by each side of the init are called the dunder method or a magic method.<br>\n",
    "At the top you always state this init method."
   ]
  },
  {
   "cell_type": "markdown",
   "id": "eabc3b19",
   "metadata": {},
   "source": [
    "The init method is also called a constructor method.<br> \n",
    "And it is called any time we instantiate."
   ]
  },
  {
   "cell_type": "markdown",
   "id": "c2fa91af",
   "metadata": {},
   "source": [
    "#### Why the above errored"
   ]
  },
  {
   "cell_type": "markdown",
   "id": "9b703ea4",
   "metadata": {},
   "source": [
    "This is because we have defined a name parameter that needs to be defined when calling upon the class of PlayerCharacter().<br>\n",
    "As such one needs to define it:"
   ]
  },
  {
   "cell_type": "code",
   "execution_count": 9,
   "id": "ffca71d9",
   "metadata": {},
   "outputs": [],
   "source": [
    "player1 = PlayerCharacter('Cindy')"
   ]
  },
  {
   "cell_type": "code",
   "execution_count": 10,
   "id": "1974cec3",
   "metadata": {},
   "outputs": [
    {
     "name": "stdout",
     "output_type": "stream",
     "text": [
      "<__main__.PlayerCharacter object at 0x000001F7E3000EB0>\n"
     ]
    }
   ],
   "source": [
    "print(player1)"
   ]
  },
  {
   "cell_type": "markdown",
   "id": "55728294",
   "metadata": {},
   "source": [
    "### What is self?"
   ]
  },
  {
   "cell_type": "markdown",
   "id": "e7bbc44a",
   "metadata": {},
   "source": [
    "In this case self refers to 'PlayerCharacter'.<br>\n",
    "So then when we create the instance of player1 of which equates to instantiasing PlayerCharacter() and so that this PlayerCharacter or 'self' will have it's name attribute, in this case 'Cindy' be what this 'self.name' is.<br><br>\n",
    "In other words:\n",
    "- When working with classes in Python, the term “self” refers to the instance of the class that is currently being used."
   ]
  },
  {
   "cell_type": "markdown",
   "id": "24f29edc",
   "metadata": {},
   "source": [
    "So now that we have PlayerCharacter('Cindy'), when we run the following, we get:"
   ]
  },
  {
   "cell_type": "code",
   "execution_count": 11,
   "id": "fc86160a",
   "metadata": {},
   "outputs": [
    {
     "name": "stdout",
     "output_type": "stream",
     "text": [
      "Cindy\n"
     ]
    }
   ],
   "source": [
    "print(player1.name)"
   ]
  },
  {
   "cell_type": "markdown",
   "id": "f8631d58",
   "metadata": {},
   "source": [
    "<font color='blue'>Non Working Example</font>"
   ]
  },
  {
   "cell_type": "code",
   "execution_count": 12,
   "id": "c9ba3cf7",
   "metadata": {},
   "outputs": [],
   "source": [
    "# class PlayerCharacter:\n",
    "    # def __init__(self, name):\n",
    "        # name = name\n",
    "        \n",
    "    # def run(self):\n",
    "        # print('run')\n",
    "\n",
    "# player1 = PlayerCharacter('Cindy')\n",
    "# print(player1.name)\n",
    "\n",
    "#============================================================================\n",
    "# RETURNS:\n",
    "# ---------------------------------------------------------------------------\n",
    "# AttributeError                            Traceback (most recent call last)\n",
    "# ~\\AppData\\Local\\Temp\\ipykernel_2684\\3929496499.py in <module>\n",
    "#       7 \n",
    "#       8 player1 = PlayerCharacter('Cindy')\n",
    "# ----> 9 print(player1.name)\n",
    "\n",
    "# AttributeError: 'PlayerCharacter' object has no attribute 'name'\n",
    "\n"
   ]
  },
  {
   "cell_type": "markdown",
   "id": "8882fd4a",
   "metadata": {},
   "source": [
    "This doesn't work because in order for us to have a 'name', we need to have a self. <br>\n",
    "Because self. refers to our instance in this case, 'player1'"
   ]
  },
  {
   "cell_type": "markdown",
   "id": "6a208a47",
   "metadata": {},
   "source": [
    "### The Help Function"
   ]
  },
  {
   "cell_type": "markdown",
   "id": "f1ca7327",
   "metadata": {},
   "source": [
    "This will show the blueprint of the class."
   ]
  },
  {
   "cell_type": "code",
   "execution_count": 13,
   "id": "e9328350",
   "metadata": {},
   "outputs": [
    {
     "name": "stdout",
     "output_type": "stream",
     "text": [
      "Help on PlayerCharacter in module __main__ object:\n",
      "\n",
      "class PlayerCharacter(builtins.object)\n",
      " |  PlayerCharacter(name)\n",
      " |  \n",
      " |  Methods defined here:\n",
      " |  \n",
      " |  __init__(self, name)\n",
      " |      Initialize self.  See help(type(self)) for accurate signature.\n",
      " |  \n",
      " |  run(self)\n",
      " |  \n",
      " |  ----------------------------------------------------------------------\n",
      " |  Data descriptors defined here:\n",
      " |  \n",
      " |  __dict__\n",
      " |      dictionary for instance variables (if defined)\n",
      " |  \n",
      " |  __weakref__\n",
      " |      list of weak references to the object (if defined)\n",
      "\n"
     ]
    }
   ],
   "source": [
    "help(player1)"
   ]
  },
  {
   "cell_type": "code",
   "execution_count": 14,
   "id": "420fa115",
   "metadata": {
    "scrolled": true
   },
   "outputs": [
    {
     "name": "stdout",
     "output_type": "stream",
     "text": [
      "Help on class list in module builtins:\n",
      "\n",
      "class list(object)\n",
      " |  list(iterable=(), /)\n",
      " |  \n",
      " |  Built-in mutable sequence.\n",
      " |  \n",
      " |  If no argument is given, the constructor creates a new empty list.\n",
      " |  The argument must be an iterable if specified.\n",
      " |  \n",
      " |  Methods defined here:\n",
      " |  \n",
      " |  __add__(self, value, /)\n",
      " |      Return self+value.\n",
      " |  \n",
      " |  __contains__(self, key, /)\n",
      " |      Return key in self.\n",
      " |  \n",
      " |  __delitem__(self, key, /)\n",
      " |      Delete self[key].\n",
      " |  \n",
      " |  __eq__(self, value, /)\n",
      " |      Return self==value.\n",
      " |  \n",
      " |  __ge__(self, value, /)\n",
      " |      Return self>=value.\n",
      " |  \n",
      " |  __getattribute__(self, name, /)\n",
      " |      Return getattr(self, name).\n",
      " |  \n",
      " |  __getitem__(...)\n",
      " |      x.__getitem__(y) <==> x[y]\n",
      " |  \n",
      " |  __gt__(self, value, /)\n",
      " |      Return self>value.\n",
      " |  \n",
      " |  __iadd__(self, value, /)\n",
      " |      Implement self+=value.\n",
      " |  \n",
      " |  __imul__(self, value, /)\n",
      " |      Implement self*=value.\n",
      " |  \n",
      " |  __init__(self, /, *args, **kwargs)\n",
      " |      Initialize self.  See help(type(self)) for accurate signature.\n",
      " |  \n",
      " |  __iter__(self, /)\n",
      " |      Implement iter(self).\n",
      " |  \n",
      " |  __le__(self, value, /)\n",
      " |      Return self<=value.\n",
      " |  \n",
      " |  __len__(self, /)\n",
      " |      Return len(self).\n",
      " |  \n",
      " |  __lt__(self, value, /)\n",
      " |      Return self<value.\n",
      " |  \n",
      " |  __mul__(self, value, /)\n",
      " |      Return self*value.\n",
      " |  \n",
      " |  __ne__(self, value, /)\n",
      " |      Return self!=value.\n",
      " |  \n",
      " |  __repr__(self, /)\n",
      " |      Return repr(self).\n",
      " |  \n",
      " |  __reversed__(self, /)\n",
      " |      Return a reverse iterator over the list.\n",
      " |  \n",
      " |  __rmul__(self, value, /)\n",
      " |      Return value*self.\n",
      " |  \n",
      " |  __setitem__(self, key, value, /)\n",
      " |      Set self[key] to value.\n",
      " |  \n",
      " |  __sizeof__(self, /)\n",
      " |      Return the size of the list in memory, in bytes.\n",
      " |  \n",
      " |  append(self, object, /)\n",
      " |      Append object to the end of the list.\n",
      " |  \n",
      " |  clear(self, /)\n",
      " |      Remove all items from list.\n",
      " |  \n",
      " |  copy(self, /)\n",
      " |      Return a shallow copy of the list.\n",
      " |  \n",
      " |  count(self, value, /)\n",
      " |      Return number of occurrences of value.\n",
      " |  \n",
      " |  extend(self, iterable, /)\n",
      " |      Extend list by appending elements from the iterable.\n",
      " |  \n",
      " |  index(self, value, start=0, stop=9223372036854775807, /)\n",
      " |      Return first index of value.\n",
      " |      \n",
      " |      Raises ValueError if the value is not present.\n",
      " |  \n",
      " |  insert(self, index, object, /)\n",
      " |      Insert object before index.\n",
      " |  \n",
      " |  pop(self, index=-1, /)\n",
      " |      Remove and return item at index (default last).\n",
      " |      \n",
      " |      Raises IndexError if list is empty or index is out of range.\n",
      " |  \n",
      " |  remove(self, value, /)\n",
      " |      Remove first occurrence of value.\n",
      " |      \n",
      " |      Raises ValueError if the value is not present.\n",
      " |  \n",
      " |  reverse(self, /)\n",
      " |      Reverse *IN PLACE*.\n",
      " |  \n",
      " |  sort(self, /, *, key=None, reverse=False)\n",
      " |      Sort the list in ascending order and return None.\n",
      " |      \n",
      " |      The sort is in-place (i.e. the list itself is modified) and stable (i.e. the\n",
      " |      order of two equal elements is maintained).\n",
      " |      \n",
      " |      If a key function is given, apply it once to each list item and sort them,\n",
      " |      ascending or descending, according to their function values.\n",
      " |      \n",
      " |      The reverse flag can be set to sort in descending order.\n",
      " |  \n",
      " |  ----------------------------------------------------------------------\n",
      " |  Class methods defined here:\n",
      " |  \n",
      " |  __class_getitem__(...) from builtins.type\n",
      " |      See PEP 585\n",
      " |  \n",
      " |  ----------------------------------------------------------------------\n",
      " |  Static methods defined here:\n",
      " |  \n",
      " |  __new__(*args, **kwargs) from builtins.type\n",
      " |      Create and return a new object.  See help(type) for accurate signature.\n",
      " |  \n",
      " |  ----------------------------------------------------------------------\n",
      " |  Data and other attributes defined here:\n",
      " |  \n",
      " |  __hash__ = None\n",
      "\n"
     ]
    }
   ],
   "source": [
    "help(list) # Blueprint of List"
   ]
  },
  {
   "cell_type": "markdown",
   "id": "121414cd",
   "metadata": {},
   "source": [
    "### Back to the Class"
   ]
  },
  {
   "cell_type": "markdown",
   "id": "163770fd",
   "metadata": {},
   "source": [
    "#### The Class Object Attribute"
   ]
  },
  {
   "cell_type": "code",
   "execution_count": 15,
   "id": "8e5cf54d",
   "metadata": {},
   "outputs": [],
   "source": [
    "class PlayerCharacter:\n",
    "    # Class Object Atrribute\n",
    "    membership = True\n",
    "    \n",
    "    def __init__(self, name, age):\n",
    "        self.name = name\n",
    "        self.age = age\n",
    "        \n",
    "    def run(self):\n",
    "        print('run')"
   ]
  },
  {
   "cell_type": "markdown",
   "id": "583b3c2e",
   "metadata": {},
   "source": [
    "The above **class object attribute**, unlike our other attributes and methods are not dynamic.<br>\n",
    "They are <font color='blue'>static</font>."
   ]
  },
  {
   "cell_type": "code",
   "execution_count": 16,
   "id": "c349d7e0",
   "metadata": {},
   "outputs": [],
   "source": [
    "player1 = PlayerCharacter('Cindy', 44)\n",
    "player2 = PlayerCharacter('Tom', 21)"
   ]
  },
  {
   "cell_type": "code",
   "execution_count": 17,
   "id": "a98e016a",
   "metadata": {},
   "outputs": [
    {
     "name": "stdout",
     "output_type": "stream",
     "text": [
      "True\n",
      "True\n"
     ]
    }
   ],
   "source": [
    "print(player1.membership)\n",
    "print(player2.membership)"
   ]
  },
  {
   "cell_type": "markdown",
   "id": "4795a316",
   "metadata": {},
   "source": [
    "So this is an actual attribute on this class.<br>\n",
    "This is something we want to exist for all objects of this class that we instantiate."
   ]
  },
  {
   "cell_type": "markdown",
   "id": "452fe889",
   "metadata": {},
   "source": [
    "Therefore, we can do something like,"
   ]
  },
  {
   "cell_type": "code",
   "execution_count": 18,
   "id": "f259a7f3",
   "metadata": {},
   "outputs": [],
   "source": [
    "class PlayerCharacter:\n",
    "    #Class Object Atrribute\n",
    "    membership = True\n",
    "    \n",
    "    def __init__(self, name, age):\n",
    "        if (self.membership):   \n",
    "            self.name = name\n",
    "            self.age = age\n",
    "        \n",
    "    def run(self):\n",
    "        print('run')"
   ]
  },
  {
   "cell_type": "code",
   "execution_count": 19,
   "id": "82fc8944",
   "metadata": {},
   "outputs": [
    {
     "name": "stdout",
     "output_type": "stream",
     "text": [
      "Cindy\n"
     ]
    }
   ],
   "source": [
    "print(player1.name)"
   ]
  },
  {
   "cell_type": "markdown",
   "id": "823a7e56",
   "metadata": {},
   "source": [
    "Or,"
   ]
  },
  {
   "cell_type": "code",
   "execution_count": 20,
   "id": "89109266",
   "metadata": {},
   "outputs": [],
   "source": [
    "class PlayerCharacter:\n",
    "    #Class Object Atrribute\n",
    "    membership = True\n",
    "    \n",
    "    def __init__(self, name, age):\n",
    "        if (PlayerCharacter.membership):   \n",
    "            self.name = name\n",
    "            self.age = age\n",
    "        \n",
    "    def run(self):\n",
    "        print('run')"
   ]
  },
  {
   "cell_type": "code",
   "execution_count": 21,
   "id": "add0f817",
   "metadata": {},
   "outputs": [
    {
     "name": "stdout",
     "output_type": "stream",
     "text": [
      "Cindy\n"
     ]
    }
   ],
   "source": [
    "print(player1.name)"
   ]
  },
  {
   "cell_type": "markdown",
   "id": "c17aaf06",
   "metadata": {},
   "source": [
    "The second method works because membership is a class object attribute so you can use the class itself to call on the attribute within the class."
   ]
  },
  {
   "cell_type": "markdown",
   "id": "bdbdd06b",
   "metadata": {},
   "source": [
    "### More on Class"
   ]
  },
  {
   "cell_type": "code",
   "execution_count": 22,
   "id": "5ed65c35",
   "metadata": {},
   "outputs": [],
   "source": [
    "class PlayerCharacter:\n",
    "    membership = True\n",
    "    \n",
    "    def __init__(self, name, age):\n",
    "        if (PlayerCharacter.membership):   \n",
    "            self.name = name\n",
    "            self.age = age\n",
    "    \n",
    "    def shout(self):\n",
    "        print(f'my name is {self.name} and I am {self.age} years old.')\n",
    "        \n",
    "    def run(self):\n",
    "        print('run')"
   ]
  },
  {
   "cell_type": "code",
   "execution_count": 23,
   "id": "208bd00b",
   "metadata": {},
   "outputs": [
    {
     "name": "stdout",
     "output_type": "stream",
     "text": [
      "my name is Cindy and I am 44 years old.\n",
      "None\n"
     ]
    }
   ],
   "source": [
    "player1 = PlayerCharacter('Cindy', 44)\n",
    "print(player1.shout())"
   ]
  },
  {
   "cell_type": "markdown",
   "id": "6215cead",
   "metadata": {},
   "source": [
    "### Safeguarding"
   ]
  },
  {
   "cell_type": "code",
   "execution_count": 24,
   "id": "9c214efd",
   "metadata": {},
   "outputs": [],
   "source": [
    "class PlayerCharacter:\n",
    "    membership = True\n",
    "    \n",
    "    def __init__(self, name, age):\n",
    "        if (age > 18):   \n",
    "            self.name = name\n",
    "            self.age = age\n",
    "    \n",
    "    def shout(self):\n",
    "        print(f'my name is {self.name} and I am {self.age} years old.')\n",
    "        \n",
    "    def run(self):\n",
    "        print('run')"
   ]
  },
  {
   "cell_type": "markdown",
   "id": "6a1cb927",
   "metadata": {},
   "source": [
    "We do the above condition to show an example of ensuring that we are instantiating the object the proper way. In this case, when we instantiate, we are enforcing the object to call on 'age' to be a value over 18."
   ]
  },
  {
   "cell_type": "markdown",
   "id": "09c9c1cd",
   "metadata": {},
   "source": [
    "#### Default parameters"
   ]
  },
  {
   "cell_type": "code",
   "execution_count": 25,
   "id": "d69170c7",
   "metadata": {},
   "outputs": [],
   "source": [
    "class PlayerCharacter:\n",
    "    membership = True\n",
    "    \n",
    "    def __init__(self, name='Anonymous', age=19):\n",
    "        if (age > 18):   \n",
    "            self.name = name\n",
    "            self.age = age\n",
    "    \n",
    "    def shout(self):\n",
    "        print(f'My name is {self.name} and I am {self.age} years old.')\n",
    "        \n",
    "    def run(self):\n",
    "        print('run')"
   ]
  },
  {
   "cell_type": "code",
   "execution_count": 26,
   "id": "e657e07a",
   "metadata": {},
   "outputs": [
    {
     "name": "stdout",
     "output_type": "stream",
     "text": [
      "My name is Anonymous and I am 19 years old.\n",
      "None\n"
     ]
    }
   ],
   "source": [
    "anon = PlayerCharacter() # By giving default parameters, we can instantiate without providing values for our parameters.\n",
    "print(anon.shout())"
   ]
  },
  {
   "cell_type": "markdown",
   "id": "8f97a5ec",
   "metadata": {},
   "source": [
    "## Decorators"
   ]
  },
  {
   "cell_type": "markdown",
   "id": "bc047cec",
   "metadata": {},
   "source": [
    "### The Class Method"
   ]
  },
  {
   "cell_type": "markdown",
   "id": "1cb3ecfd",
   "metadata": {},
   "source": [
    "Is there a way to do the same thing we did with attributes, where we created a class object attribute but for methods?<br>\n",
    "Yes, we achieve this through Decorators."
   ]
  },
  {
   "cell_type": "code",
   "execution_count": 27,
   "id": "82b81038",
   "metadata": {},
   "outputs": [],
   "source": [
    "class PlayerCharacter:\n",
    "    membership = True\n",
    "    \n",
    "    def __init__(self, name='Anonymous', age='19'):\n",
    "        if (age > 18):   \n",
    "            self.name = name\n",
    "            self.age = age\n",
    "    \n",
    "    def shout(self):\n",
    "        print(f'my name is {self.name} and I am {self.age} years old.')\n",
    "        \n",
    "        \n",
    "    @classmethod\n",
    "    def adding_things(cls, num1, num2):\n",
    "        return num1 + num2"
   ]
  },
  {
   "cell_type": "markdown",
   "id": "d80fc153",
   "metadata": {},
   "source": [
    "To note: like 'self', one also has to state 'cls' for their classmethod."
   ]
  },
  {
   "cell_type": "code",
   "execution_count": 28,
   "id": "e875e9b3",
   "metadata": {},
   "outputs": [
    {
     "name": "stdout",
     "output_type": "stream",
     "text": [
      "5\n"
     ]
    }
   ],
   "source": [
    "player1 = PlayerCharacter('Cindy', 44)\n",
    "print(player1.adding_things(2,3))"
   ]
  },
  {
   "cell_type": "markdown",
   "id": "2314b951",
   "metadata": {},
   "source": [
    "The benefit of these class methods is that we can use them even without instantiating the class."
   ]
  },
  {
   "cell_type": "code",
   "execution_count": 29,
   "id": "4ca5c838",
   "metadata": {},
   "outputs": [
    {
     "name": "stdout",
     "output_type": "stream",
     "text": [
      "8\n"
     ]
    }
   ],
   "source": [
    "print(PlayerCharacter.adding_things(3,5))"
   ]
  },
  {
   "cell_type": "markdown",
   "id": "dc5f8fb1",
   "metadata": {},
   "source": [
    "Most of the time you are not using a classmethod within your classes, but there are use case scenarios for them."
   ]
  },
  {
   "cell_type": "markdown",
   "id": "7949f39e",
   "metadata": {},
   "source": [
    "We can use cls to actually instantiate an object - cls being the PlayerCharacter in question."
   ]
  },
  {
   "cell_type": "code",
   "execution_count": 30,
   "id": "b74c457f",
   "metadata": {},
   "outputs": [],
   "source": [
    "class PlayerCharacter:\n",
    "    membership = True\n",
    "    \n",
    "    def __init__(self, name='anonymous', age='19'):  \n",
    "            self.name = name\n",
    "            self.age = age\n",
    "    \n",
    "    def shout(self):\n",
    "        print(f'my name is {self.name} and I am {self.age} years old.')\n",
    "        \n",
    "    @classmethod\n",
    "    def adding_things(cls, num1, num2):\n",
    "        return cls('Teddy', num1 + num2) # Since cls is the instant of the class itself, 'Teddy'=Name and num1+num2 = age\n",
    "                                         # As such, if we add another param in __init__, this would need to be stated\n",
    "                                         # within our the return of cls() as well."
   ]
  },
  {
   "cell_type": "code",
   "execution_count": 31,
   "id": "9be45ea2",
   "metadata": {},
   "outputs": [
    {
     "name": "stdout",
     "output_type": "stream",
     "text": [
      "<__main__.PlayerCharacter object at 0x000001F7E40D11F0>\n"
     ]
    }
   ],
   "source": [
    "print(PlayerCharacter.adding_things(3,5))"
   ]
  },
  {
   "cell_type": "markdown",
   "id": "8437cd0c",
   "metadata": {},
   "source": [
    "We have instantiated an object Teddy, with the age of what should be 8"
   ]
  },
  {
   "cell_type": "code",
   "execution_count": 32,
   "id": "75df899c",
   "metadata": {},
   "outputs": [],
   "source": [
    "player3 = PlayerCharacter.adding_things(3,5)"
   ]
  },
  {
   "cell_type": "code",
   "execution_count": 33,
   "id": "02b7ae88",
   "metadata": {},
   "outputs": [
    {
     "name": "stdout",
     "output_type": "stream",
     "text": [
      "8\n"
     ]
    }
   ],
   "source": [
    "print(player3.age)"
   ]
  },
  {
   "cell_type": "markdown",
   "id": "564c0d46",
   "metadata": {},
   "source": [
    "What we have done is by using cls, we instantiate an object of PlayerCharacter through the classmethod.<br>\n",
    "Which sets cls (self) with a name of 'Teddy' and using the adding_things method the age to 'num1+num2'"
   ]
  },
  {
   "cell_type": "markdown",
   "id": "09428141",
   "metadata": {},
   "source": [
    "### The Static Method"
   ]
  },
  {
   "cell_type": "code",
   "execution_count": 34,
   "id": "f383c5a6",
   "metadata": {},
   "outputs": [],
   "source": [
    "class PlayerCharacter:\n",
    "    membership = True\n",
    "    \n",
    "    def __init__(self, name='anonymous', age='19'):  \n",
    "            self.name = name\n",
    "            self.age = age\n",
    "    \n",
    "    def shout(self):\n",
    "        print(f'my name is {self.name} and I am {self.age} years old.')\n",
    "        \n",
    "    @staticmethod\n",
    "    def adding_things(num1, num2):\n",
    "        return cls('Teddy', num1 + num2)"
   ]
  },
  {
   "cell_type": "markdown",
   "id": "6d03627e",
   "metadata": {},
   "source": [
    "Static Method works exactly the same as Class Method, except you do not have access to the cls attribute, so you cannot do something like we did above and insantiate based on a method belonging to the class."
   ]
  },
  {
   "cell_type": "markdown",
   "id": "d8d76e1f",
   "metadata": {},
   "source": [
    "We would use StaticMethod in the scenario wher we don't care about the class state, i.e. like the two attributes of name and age.<br><br>\n",
    "We do use ClassMethod when we do care about these attributes and we want to modify or change them."
   ]
  },
  {
   "cell_type": "markdown",
   "id": "1be043dd",
   "metadata": {},
   "source": [
    "## Test your Assumptions"
   ]
  },
  {
   "cell_type": "code",
   "execution_count": 35,
   "id": "2bc32f6e",
   "metadata": {},
   "outputs": [],
   "source": [
    "class PlayerCharacter:\n",
    "    \n",
    "    def __init__(self, name='anonymous', age='19'):  \n",
    "            self.name = name\n",
    "            self.age = age\n",
    "    \n",
    "    def run(self):\n",
    "        return self"
   ]
  },
  {
   "cell_type": "code",
   "execution_count": 36,
   "id": "7d2f319d",
   "metadata": {},
   "outputs": [
    {
     "name": "stdout",
     "output_type": "stream",
     "text": [
      "<__main__.PlayerCharacter object at 0x000001F7E3000460>\n"
     ]
    }
   ],
   "source": [
    "player1 = PlayerCharacter('Andrei', 100)\n",
    "print(player1.run())"
   ]
  },
  {
   "cell_type": "markdown",
   "id": "3a338c5d",
   "metadata": {},
   "source": [
    "## Pillars of OOP"
   ]
  },
  {
   "cell_type": "markdown",
   "id": "3c558fbc",
   "metadata": {},
   "source": [
    "### 1. Encapsulation\n",
    "Binding of data and functions that manipulate that data, encapsulating in one big object."
   ]
  },
  {
   "cell_type": "markdown",
   "id": "d2f82f97",
   "metadata": {},
   "source": [
    "### 2. Abstraction\n",
    "This means hiding of information, or abstracting away information and only giving access to what is necessary."
   ]
  },
  {
   "cell_type": "markdown",
   "id": "1f0d221b",
   "metadata": {},
   "source": [
    "<font color='blue'>Example</font>"
   ]
  },
  {
   "cell_type": "markdown",
   "id": "d333c21e",
   "metadata": {},
   "source": [
    "When you do something like:"
   ]
  },
  {
   "cell_type": "code",
   "execution_count": 37,
   "id": "9df9afe6",
   "metadata": {},
   "outputs": [],
   "source": [
    "class PlayerCharacter:\n",
    "    \n",
    "    def __init__(self, name='anonymous', age='19'):  \n",
    "            self.name = name\n",
    "            self.age = age\n",
    "    \n",
    "    def shout(self):\n",
    "        print(f'my name is {self.name} and I am {self.age} years old.')"
   ]
  },
  {
   "cell_type": "code",
   "execution_count": 38,
   "id": "6b3fd210",
   "metadata": {},
   "outputs": [
    {
     "name": "stdout",
     "output_type": "stream",
     "text": [
      "my name is Andrei and I am 100 years old.\n"
     ]
    }
   ],
   "source": [
    "player1 = PlayerCharacter('Andrei', 100)\n",
    "player1.shout()"
   ]
  },
  {
   "cell_type": "markdown",
   "id": "34b81651",
   "metadata": {},
   "source": [
    "We get this string, but when we are calling this shout method, we do not really care how this shout method is implemented.<br>\n",
    "All we know is that player1 has access to this shout method and that we can use it."
   ]
  },
  {
   "cell_type": "markdown",
   "id": "3a99bb01",
   "metadata": {},
   "source": [
    "You can easily go ahead and change an attribute or method as self.shout = 'whatever'<br>\n",
    "- This is not good as it means anyone can go ahead and get rid of our hard work by simply overwriting it."
   ]
  },
  {
   "cell_type": "markdown",
   "id": "a02fd3b6",
   "metadata": {},
   "source": [
    "#### Public and Private"
   ]
  },
  {
   "cell_type": "markdown",
   "id": "b815fb2f",
   "metadata": {},
   "source": [
    "Ideally we should not have access to init and be able to edit our attributes such as name or age."
   ]
  },
  {
   "cell_type": "markdown",
   "id": "4d4af2d5",
   "metadata": {},
   "source": [
    "In python there is no true privacy in regards to our variables to give them protection from being changed or edited."
   ]
  },
  {
   "cell_type": "markdown",
   "id": "22db4863",
   "metadata": {},
   "source": [
    "Instead, we use a naming convention:"
   ]
  },
  {
   "cell_type": "code",
   "execution_count": 39,
   "id": "d7a59b1c",
   "metadata": {},
   "outputs": [],
   "source": [
    "class PlayerCharacter:\n",
    "    \n",
    "    def __init__(self, name='anonymous', age='19'):  \n",
    "            self._name = name\n",
    "            self._age = age\n",
    "    \n",
    "    def shout(self):\n",
    "        print(f'my name is {self._name} and I am {self._age} years old.')"
   ]
  },
  {
   "cell_type": "code",
   "execution_count": 40,
   "id": "5cd26062",
   "metadata": {},
   "outputs": [
    {
     "name": "stdout",
     "output_type": "stream",
     "text": [
      "my name is Andrei and I am 100 years old.\n"
     ]
    }
   ],
   "source": [
    "player1 = PlayerCharacter('Andrei', 100)\n",
    "player1.shout()"
   ]
  },
  {
   "cell_type": "markdown",
   "id": "fbe56b0b",
   "metadata": {},
   "source": [
    "### 3. Inheritance"
   ]
  },
  {
   "cell_type": "markdown",
   "id": "2a273fea",
   "metadata": {},
   "source": [
    "Inheritance allows new objects to take the properties of existing objects."
   ]
  },
  {
   "cell_type": "markdown",
   "id": "00da845a",
   "metadata": {},
   "source": [
    "<font color='blue'>Example</font>"
   ]
  },
  {
   "cell_type": "markdown",
   "id": "f549f7f3",
   "metadata": {},
   "source": [
    "We have a game that we are making.<br>\n",
    "We have different types of users, some can be wizards, archers and so on.<br>\n",
    "All these users share some functionalities and all the sub users like wizards and so on, have shared functionalities but also differences like their 'attacks'."
   ]
  },
  {
   "cell_type": "code",
   "execution_count": 41,
   "id": "70e9eb61",
   "metadata": {},
   "outputs": [],
   "source": [
    "# We have users\n",
    "    # Each user can be a:\n",
    "        # - Wizard - Archer - Ogre etc\n",
    "\n",
    "class User:\n",
    "    \n",
    "    # We do not need an __init__ as there are no variables or attributes \n",
    "    # that we would want to assign and hence an init is not needed.\n",
    "    \n",
    "    def sign_in(self):\n",
    "        print('logged in')\n",
    "    \n",
    "class Wizard(User):\n",
    "    def __init__(self, name, power):\n",
    "        self.name = name\n",
    "        self.power = power\n",
    "        \n",
    "    def attack(self):\n",
    "        print(f'{self.name} is attacking with power of {self.power}')\n",
    "\n",
    "class Archer(User):\n",
    "    def __init__(self, name, num_arrows): \n",
    "        self.name = name\n",
    "        self.num_arrows = num_arrows\n",
    "        \n",
    "    def attack(self):\n",
    "        print(f'{self.name} is attacking with arrows: arrows left - {self.num_arrows}')"
   ]
  },
  {
   "cell_type": "code",
   "execution_count": 42,
   "id": "c9fb52dd",
   "metadata": {},
   "outputs": [
    {
     "name": "stdout",
     "output_type": "stream",
     "text": [
      "logged in\n",
      "None\n"
     ]
    }
   ],
   "source": [
    "wizard1 = Wizard('Jeffrey', 55)\n",
    "print(wizard1.sign_in())"
   ]
  },
  {
   "cell_type": "markdown",
   "id": "a5d77e45",
   "metadata": {},
   "source": [
    "So as you can see, by passing the User class as one of the variables for the wizard class, we have inherited the methods/attributes of User and as such can call upon sign_in through our object instance of the Wizard class."
   ]
  },
  {
   "cell_type": "code",
   "execution_count": 43,
   "id": "09fcc158",
   "metadata": {},
   "outputs": [
    {
     "name": "stdout",
     "output_type": "stream",
     "text": [
      "Jeffrey is attacking with power of 55\n",
      "None\n",
      "Bob is attacking with arrows: arrows left - 10\n",
      "None\n"
     ]
    }
   ],
   "source": [
    "wizard1 = Wizard('Jeffrey', 55)\n",
    "print(wizard1.attack())\n",
    "archer1 = Archer('Bob', 10)\n",
    "print(archer1.attack())"
   ]
  },
  {
   "cell_type": "markdown",
   "id": "432d8181",
   "metadata": {},
   "source": [
    "In this sense, Wizard() and Archer() classes are subclasses or derived classes that are making use of the parent class User()"
   ]
  },
  {
   "cell_type": "markdown",
   "id": "86807dfc",
   "metadata": {},
   "source": [
    "#### Checking if something is an instance of a class"
   ]
  },
  {
   "cell_type": "code",
   "execution_count": 44,
   "id": "46e021e4",
   "metadata": {},
   "outputs": [
    {
     "name": "stdout",
     "output_type": "stream",
     "text": [
      "True\n",
      "True\n"
     ]
    }
   ],
   "source": [
    "# isinstance(instance, Class)\n",
    "print(isinstance(wizard1, Wizard))\n",
    "print(isinstance(wizard1, User))"
   ]
  },
  {
   "cell_type": "markdown",
   "id": "2b33a5b6",
   "metadata": {},
   "source": [
    "**Everything in Python inherits from the base object class**"
   ]
  },
  {
   "cell_type": "code",
   "execution_count": 45,
   "id": "cfb9c155",
   "metadata": {},
   "outputs": [
    {
     "name": "stdout",
     "output_type": "stream",
     "text": [
      "True\n"
     ]
    }
   ],
   "source": [
    "print(isinstance(wizard1, object))"
   ]
  },
  {
   "cell_type": "markdown",
   "id": "80d784d4",
   "metadata": {},
   "source": [
    "## 4. Polymorphism"
   ]
  },
  {
   "cell_type": "markdown",
   "id": "79fe85da",
   "metadata": {},
   "source": [
    "Poly means many and morphism means form."
   ]
  },
  {
   "cell_type": "markdown",
   "id": "3aae81f2",
   "metadata": {},
   "source": [
    "This idea of polymorphism in python refers to the way object classes can share the same method names, but those method names can behave differently depending on what object calls it."
   ]
  },
  {
   "cell_type": "markdown",
   "id": "6a7265ba",
   "metadata": {},
   "source": [
    "i.e. if we refer to our Wizard and Archer, they both have a method refered to as 'attack', but depending on which object calls it, in this case between Wizard and Archer, the method 'attack' will behave differently. "
   ]
  },
  {
   "cell_type": "code",
   "execution_count": 47,
   "id": "e2f3fd04",
   "metadata": {},
   "outputs": [
    {
     "name": "stdout",
     "output_type": "stream",
     "text": [
      "Merlin is attacking with power of 60\n",
      "None\n"
     ]
    }
   ],
   "source": [
    "wizard1 = Wizard('Merlin', 60)\n",
    "print(wizard1.attack())"
   ]
  },
  {
   "cell_type": "code",
   "execution_count": 48,
   "id": "d6ed8493",
   "metadata": {},
   "outputs": [],
   "source": [
    "archer1 = Archer('Robin', 30)"
   ]
  },
  {
   "cell_type": "markdown",
   "id": "3935b0d5",
   "metadata": {},
   "source": [
    "We can call these in different ways,"
   ]
  },
  {
   "cell_type": "code",
   "execution_count": 49,
   "id": "c162a2e9",
   "metadata": {},
   "outputs": [],
   "source": [
    "def player_attack(char):\n",
    "    char.attack()"
   ]
  },
  {
   "cell_type": "code",
   "execution_count": 50,
   "id": "5687b691",
   "metadata": {},
   "outputs": [
    {
     "name": "stdout",
     "output_type": "stream",
     "text": [
      "Merlin is attacking with power of 60\n"
     ]
    }
   ],
   "source": [
    "player_attack(wizard1)"
   ]
  },
  {
   "cell_type": "code",
   "execution_count": 51,
   "id": "94f9f00e",
   "metadata": {},
   "outputs": [
    {
     "name": "stdout",
     "output_type": "stream",
     "text": [
      "Robin is attacking with arrows: arrows left - 30\n"
     ]
    }
   ],
   "source": [
    "player_attack(archer1)"
   ]
  },
  {
   "cell_type": "markdown",
   "id": "db73d6ac",
   "metadata": {},
   "source": [
    "So because both have the same method names of 'attack', we can use that to our advantage and call their attack through an outside the scope function that is calling the attack method on its argument that we then pass as our instances of the aforementioned classes."
   ]
  },
  {
   "cell_type": "markdown",
   "id": "0fa9202f",
   "metadata": {},
   "source": [
    "**Another way to demonstrate this**"
   ]
  },
  {
   "cell_type": "code",
   "execution_count": 52,
   "id": "686ec3f4",
   "metadata": {},
   "outputs": [
    {
     "name": "stdout",
     "output_type": "stream",
     "text": [
      "Merlin is attacking with power of 60\n",
      "Robin is attacking with arrows: arrows left - 30\n"
     ]
    }
   ],
   "source": [
    "for char in [wizard1, archer1]:\n",
    "    char.attack()"
   ]
  },
  {
   "cell_type": "markdown",
   "id": "9545ccd3",
   "metadata": {},
   "source": [
    "You can see we have two DIFFERENT outputs, even though we are calling on the SAME method.<br>\n",
    "Which is because of the two different objects we are passing through are loop."
   ]
  },
  {
   "cell_type": "markdown",
   "id": "78db05f2",
   "metadata": {},
   "source": [
    "Although, if you define an 'attack' method within the parent class of User, where it does nothing.<br>\n",
    "Because both Wizard and Archer class also have defined a method of the same name 'attack', this will overide the parent definition of that method."
   ]
  },
  {
   "cell_type": "markdown",
   "id": "3d8d0d1d",
   "metadata": {},
   "source": [
    "But what if we wanted both 'User' and 'Wizard' to run the attack method."
   ]
  },
  {
   "cell_type": "code",
   "execution_count": 55,
   "id": "b759003a",
   "metadata": {},
   "outputs": [],
   "source": [
    "class User:\n",
    "    \n",
    "    # We do not need an __init__ as there are no variables or attributes \n",
    "    # that we would want to assign and hence an init is not needed.\n",
    "    \n",
    "    def sign_in(self):\n",
    "        print('logged in')\n",
    "        \n",
    "    def attack(self):\n",
    "        print('Do Nothing.')\n",
    "    \n",
    "class Wizard(User):\n",
    "    def __init__(self, name, power):\n",
    "        self.name = name\n",
    "        self.power = power\n",
    "        \n",
    "    def attack(self):\n",
    "        User.attack(self)\n",
    "        print(f'{self.name} is attacking with power of {self.power}')\n",
    "\n",
    "class Archer(User):\n",
    "    def __init__(self, name, num_arrows): \n",
    "        self.name = name\n",
    "        self.num_arrows = num_arrows\n",
    "        \n",
    "    def attack(self):\n",
    "        print(f'{self.name} is attacking with arrows: arrows left - {self.num_arrows}')"
   ]
  },
  {
   "cell_type": "code",
   "execution_count": 56,
   "id": "4dded332",
   "metadata": {},
   "outputs": [
    {
     "name": "stdout",
     "output_type": "stream",
     "text": [
      "Do Nothing.\n",
      "Merlin is attacking with power of 60\n",
      "None\n"
     ]
    }
   ],
   "source": [
    "wizard1 = Wizard('Merlin', 60)\n",
    "print(wizard1.attack())"
   ]
  },
  {
   "cell_type": "markdown",
   "id": "b5908b49",
   "metadata": {},
   "source": [
    "Polymorphism is the ability to redefine methods for these derived classes, in this case Wizard and Archer.<br>\n",
    "\n",
    "And an object that is instantiated can behave in different forms, in different ways based on Polymorphism.<br>\n",
    "\n",
    "This is useful because we are able to modify our classes to our specific needs but also not have to repeat ourselves, in case for example we want to use 'Attack' from User Class, inside of 'Wizard' Class"
   ]
  },
  {
   "cell_type": "markdown",
   "id": "7e89b978",
   "metadata": {},
   "source": [
    "### Parent / Child Class Method Interaction"
   ]
  },
  {
   "cell_type": "code",
   "execution_count": 57,
   "id": "d7d9fa32",
   "metadata": {},
   "outputs": [],
   "source": [
    "class User:\n",
    "    def __init__(self, email):\n",
    "        self.email = email\n",
    "    \n",
    "    def sign_in(self):\n",
    "        print('logged in')\n",
    "    \n",
    "class Wizard(User):\n",
    "    def __init__(self, name, power):\n",
    "        self.name = name\n",
    "        self.power = power\n",
    "        \n",
    "    def attack(self):\n",
    "        print(f'{self.name} is attacking with power of {self.power}')\n",
    "\n",
    "class Archer(User):\n",
    "    def __init__(self, name, num_arrows): \n",
    "        self.name = name\n",
    "        self.num_arrows = num_arrows\n",
    "        \n",
    "    def attack(self):\n",
    "        print(f'{self.name} is attacking with arrows: arrows left - {self.num_arrows}')"
   ]
  },
  {
   "cell_type": "code",
   "execution_count": 60,
   "id": "683752ea",
   "metadata": {},
   "outputs": [],
   "source": [
    "#wizard1 = Wizard('Merlin', 60)\n",
    "#print(wizard1.email)\n",
    "\n",
    "#---------------------------------------------------------------------------\n",
    "#AttributeError                            Traceback (most recent call last)\n",
    "#~\\AppData\\Local\\Temp\\ipykernel_21192\\2085323821.py in <module>\n",
    "#      1 wizard1 = Wizard('Merlin', 60)\n",
    "#----> 2 print(wizard1.email)\n",
    "#\n",
    "#AttributeError: 'Wizard' object has no attribute 'email'"
   ]
  },
  {
   "cell_type": "markdown",
   "id": "92bc6878",
   "metadata": {},
   "source": [
    "As you can see, the attribute/argument was not inherited down, as such when initialising the Wizard Class, it of course will not have the email attribute."
   ]
  },
  {
   "cell_type": "code",
   "execution_count": 61,
   "id": "aad2b560",
   "metadata": {},
   "outputs": [],
   "source": [
    "# A potential way to solve this:\n",
    "\n",
    "#class Wizard(User):\n",
    "#    def __init__(self, name, power, email):\n",
    "#        self.name = name\n",
    "#        self.power = power\n",
    "#        self.email = email\n",
    "#        \n",
    "#    def attack(self):\n",
    "#        print(f'{self.name} is attacking with power of {self.power}')"
   ]
  },
  {
   "cell_type": "markdown",
   "id": "9fc4e9c7",
   "metadata": {},
   "source": [
    "<font color=blue>The problem with this:</font><br>\n",
    "It's innefficient, because if one creates an archer class, one will have to do the same thing - and when we know all these attributes are going to be the same in all of the subclasses - we would want to state it in the parent class.<br>\n",
    "\n",
    "That way, we don't have to input the same attribute information twice over when instantiating any of our subclasses."
   ]
  },
  {
   "cell_type": "markdown",
   "id": "c3fcebcf",
   "metadata": {},
   "source": [
    "**The better way:**"
   ]
  },
  {
   "cell_type": "code",
   "execution_count": 11,
   "id": "579ad07b",
   "metadata": {},
   "outputs": [],
   "source": [
    "class User:\n",
    "    def __init__(self, email):\n",
    "        self.email = email\n",
    "    \n",
    "    def sign_in(self):\n",
    "        print('logged in')\n",
    "    \n",
    "class Wizard(User):\n",
    "    def __init__(self, name, power, email):\n",
    "        User.__init__(self, email)\n",
    "        self.name = name\n",
    "        self.power = power\n",
    "        \n",
    "    def attack(self):\n",
    "        print(f'{self.name} is attacking with power of {self.power}')\n",
    "\n",
    "class Archer(User):\n",
    "    def __init__(self, name, num_arrows): \n",
    "        self.name = name\n",
    "        self.num_arrows = num_arrows\n",
    "        \n",
    "    def attack(self):\n",
    "        print(f'{self.name} is attacking with arrows: arrows left - {self.num_arrows}')"
   ]
  },
  {
   "cell_type": "code",
   "execution_count": 12,
   "id": "914dd379",
   "metadata": {},
   "outputs": [
    {
     "name": "stdout",
     "output_type": "stream",
     "text": [
      "merlin@gmail.com\n"
     ]
    }
   ],
   "source": [
    "wizard1 = Wizard('Merlin', 60, 'merlin@gmail.com')\n",
    "print(wizard1.email)"
   ]
  },
  {
   "cell_type": "markdown",
   "id": "b62d8d3c",
   "metadata": {},
   "source": [
    "This way, we have initialised our email variable through the User Class and simply brought it down to our subclass to be called and be used."
   ]
  },
  {
   "cell_type": "markdown",
   "id": "75b708ac",
   "metadata": {},
   "source": [
    "**Another way to complete this:**"
   ]
  },
  {
   "cell_type": "code",
   "execution_count": 67,
   "id": "9f52b115",
   "metadata": {},
   "outputs": [
    {
     "name": "stdout",
     "output_type": "stream",
     "text": [
      "merlin@gmail.com\n"
     ]
    }
   ],
   "source": [
    "class Wizard(User):\n",
    "    def __init__(self, name, power, email):\n",
    "        super().__init__(email) # self is removed, so code looks even cleaner.\n",
    "        self.name = name\n",
    "        self.power = power\n",
    "\n",
    "wizard1 = Wizard('Merlin', 60, 'merlin@gmail.com')\n",
    "print(wizard1.email)"
   ]
  },
  {
   "cell_type": "markdown",
   "id": "798a97ca",
   "metadata": {},
   "source": [
    "Super in this case is referring to the Class above, in this case it being 'User'.<br>\n",
    "Due to super(), we can also remove the self from this line."
   ]
  },
  {
   "cell_type": "markdown",
   "id": "28f36412",
   "metadata": {},
   "source": [
    "## Introspection"
   ]
  },
  {
   "cell_type": "markdown",
   "id": "f66d973e",
   "metadata": {},
   "source": [
    "In computer programming this means the ability to determine the type of an object at runtime.<br>\n",
    "Runtime is when the code is running you can determine the type of an object.<br>\n",
    "\n",
    "This is a strenght of Python, because everything in Python is an object, we can examine and introspect an object and actually figure out what the code does as we're coding and running."
   ]
  },
  {
   "cell_type": "markdown",
   "id": "0447d65f",
   "metadata": {},
   "source": [
    "This function is called dir"
   ]
  },
  {
   "cell_type": "code",
   "execution_count": 68,
   "id": "042a6427",
   "metadata": {},
   "outputs": [
    {
     "name": "stdout",
     "output_type": "stream",
     "text": [
      "['__class__', '__delattr__', '__dict__', '__dir__', '__doc__', '__eq__', '__format__', '__ge__', '__getattribute__', '__gt__', '__hash__', '__init__', '__init_subclass__', '__le__', '__lt__', '__module__', '__ne__', '__new__', '__reduce__', '__reduce_ex__', '__repr__', '__setattr__', '__sizeof__', '__str__', '__subclasshook__', '__weakref__', 'email', 'name', 'power', 'sign_in']\n"
     ]
    }
   ],
   "source": [
    "print(dir(wizard1))"
   ]
  },
  {
   "cell_type": "markdown",
   "id": "2bb1f8da",
   "metadata": {},
   "source": [
    "This gives us all the methods and attributes that an instant might have, in this case the instance of the Wizard class."
   ]
  },
  {
   "cell_type": "markdown",
   "id": "63cb0fa4",
   "metadata": {},
   "source": [
    "## Dunder Methods"
   ]
  },
  {
   "cell_type": "markdown",
   "id": "42816927",
   "metadata": {},
   "source": [
    "These are special methods."
   ]
  },
  {
   "cell_type": "code",
   "execution_count": 70,
   "id": "278052d9",
   "metadata": {},
   "outputs": [],
   "source": [
    "class Toy():\n",
    "    def __init__(self, color, age):\n",
    "        self.color = color\n",
    "        self.age = age"
   ]
  },
  {
   "cell_type": "code",
   "execution_count": 71,
   "id": "3d3fa08f",
   "metadata": {},
   "outputs": [],
   "source": [
    "action_figure = Toy('red', 0)"
   ]
  },
  {
   "cell_type": "code",
   "execution_count": 72,
   "id": "fc73b785",
   "metadata": {},
   "outputs": [
    {
     "name": "stdout",
     "output_type": "stream",
     "text": [
      "<__main__.Toy object at 0x000001F7E507ECA0>\n"
     ]
    }
   ],
   "source": [
    "print(action_figure.__str__())"
   ]
  },
  {
   "cell_type": "code",
   "execution_count": 73,
   "id": "03eb246d",
   "metadata": {},
   "outputs": [
    {
     "name": "stdout",
     "output_type": "stream",
     "text": [
      "<__main__.Toy object at 0x000001F7E507ECA0>\n"
     ]
    }
   ],
   "source": [
    "print(str(action_figure))"
   ]
  },
  {
   "cell_type": "markdown",
   "id": "00b1062b",
   "metadata": {},
   "source": [
    "The two above will generate the same thing - in the first we use the method that the instance of the Toy class has access to. In the second, we call the str function to act on the variable/instance 'action_figure'."
   ]
  },
  {
   "cell_type": "markdown",
   "id": "785e7620",
   "metadata": {},
   "source": [
    "We can also customise these dunder methods if we so wish to."
   ]
  },
  {
   "cell_type": "code",
   "execution_count": 88,
   "id": "da95aa30",
   "metadata": {},
   "outputs": [],
   "source": [
    "class Toy():\n",
    "    def __init__(self, color, age):\n",
    "        self.color = color\n",
    "        self.age = age\n",
    "        self.my_dict = {'name': 'Yoyo', 'has_pets': False}\n",
    "        \n",
    "    def __str__(self):\n",
    "        return f'{self.color}'\n",
    "    \n",
    "    def __len__(self):\n",
    "        return 5\n",
    "    \n",
    "    def __call__(self):\n",
    "        return('yes??')\n",
    "    \n",
    "    def __getitem__(self, i):\n",
    "        return self.my_dict[i]"
   ]
  },
  {
   "cell_type": "code",
   "execution_count": 89,
   "id": "68822f04",
   "metadata": {},
   "outputs": [
    {
     "name": "stdout",
     "output_type": "stream",
     "text": [
      "red\n",
      "5\n"
     ]
    }
   ],
   "source": [
    "action_figure = Toy('red', 0)\n",
    "print(action_figure.__str__())\n",
    "print(len(action_figure))"
   ]
  },
  {
   "cell_type": "markdown",
   "id": "23d2176b",
   "metadata": {},
   "source": [
    "There are special cases where you want your class to behave a certain way, so you are allowed to modify these dunder methods."
   ]
  },
  {
   "cell_type": "markdown",
   "id": "55c7ac48",
   "metadata": {},
   "source": [
    "Under the hood, call is how one can make an object callable, so now if we try to run our instance and then call it via double brackets:"
   ]
  },
  {
   "cell_type": "markdown",
   "id": "931f25e4",
   "metadata": {},
   "source": [
    "#### Call Dunder Method"
   ]
  },
  {
   "cell_type": "code",
   "execution_count": 90,
   "id": "195d20ca",
   "metadata": {},
   "outputs": [
    {
     "name": "stdout",
     "output_type": "stream",
     "text": [
      "yes??\n"
     ]
    }
   ],
   "source": [
    "action_figure = Toy('red', 0)\n",
    "print(action_figure())"
   ]
  },
  {
   "cell_type": "markdown",
   "id": "d4aeb908",
   "metadata": {},
   "source": [
    "#### Getitem Dunder Method"
   ]
  },
  {
   "cell_type": "code",
   "execution_count": 92,
   "id": "9dfb9be2",
   "metadata": {},
   "outputs": [
    {
     "name": "stdout",
     "output_type": "stream",
     "text": [
      "Yoyo\n"
     ]
    }
   ],
   "source": [
    "print(action_figure['name'])"
   ]
  },
  {
   "cell_type": "markdown",
   "id": "9669e363",
   "metadata": {},
   "source": [
    "## Exercise"
   ]
  },
  {
   "cell_type": "markdown",
   "id": "0b0d6d89",
   "metadata": {},
   "source": [
    "Create a \"Super List\". Allows us to access items through index etc... But the difference is that the SuperList is going to have a special Dunder Method, i.e.<br>\n",
    "len dunder method no matter what would return 1000"
   ]
  },
  {
   "cell_type": "code",
   "execution_count": 94,
   "id": "ca8cae19",
   "metadata": {},
   "outputs": [],
   "source": [
    "class SuperList(list):\n",
    "    def __len__(self):\n",
    "        return 1000"
   ]
  },
  {
   "cell_type": "code",
   "execution_count": 97,
   "id": "5c95ef76",
   "metadata": {},
   "outputs": [],
   "source": [
    "super_list1 = SuperList()"
   ]
  },
  {
   "cell_type": "code",
   "execution_count": 98,
   "id": "aa216bda",
   "metadata": {},
   "outputs": [
    {
     "data": {
      "text/plain": [
       "1000"
      ]
     },
     "execution_count": 98,
     "metadata": {},
     "output_type": "execute_result"
    }
   ],
   "source": [
    "len(super_list1)"
   ]
  },
  {
   "cell_type": "code",
   "execution_count": 104,
   "id": "d2ad1853",
   "metadata": {},
   "outputs": [
    {
     "name": "stdout",
     "output_type": "stream",
     "text": [
      "True\n",
      "True\n"
     ]
    }
   ],
   "source": [
    "print(issubclass(SuperList, list))\n",
    "print(issubclass(list, object))"
   ]
  },
  {
   "cell_type": "markdown",
   "id": "9992f08c",
   "metadata": {},
   "source": [
    "## Multiple Inheritance"
   ]
  },
  {
   "cell_type": "code",
   "execution_count": 113,
   "id": "e00fd533",
   "metadata": {},
   "outputs": [],
   "source": [
    "class User:\n",
    "    def sign_in(self):\n",
    "        print('logged in')\n",
    "    \n",
    "class Wizard(User):\n",
    "    def __init__(self, name, power):\n",
    "        self.name = name\n",
    "        self.power = power\n",
    "        \n",
    "    def attack(self):\n",
    "        print(f'{self.name} is attacking with power of {self.power}')\n",
    "\n",
    "class Archer(User):\n",
    "    def __init__(self, name, arrows): \n",
    "        self.name = name\n",
    "        self.arrows = arrows\n",
    "        \n",
    "    def check_arrows(self):\n",
    "        print(f'{self.arrows} remaining.')\n",
    "     \n",
    "    def run(self):\n",
    "        print('Ran really fast.')"
   ]
  },
  {
   "cell_type": "markdown",
   "id": "0e7be029",
   "metadata": {},
   "source": [
    "We want to create a new character of which inherits both the attack of a Wizard and that of an Archer, so inheriting methods from two subclasses of User."
   ]
  },
  {
   "cell_type": "code",
   "execution_count": 114,
   "id": "6da171a4",
   "metadata": {},
   "outputs": [],
   "source": [
    "class HybridBorg(Wizard, Archer):\n",
    "    pass"
   ]
  },
  {
   "cell_type": "code",
   "execution_count": 117,
   "id": "b0f7b80b",
   "metadata": {},
   "outputs": [
    {
     "name": "stdout",
     "output_type": "stream",
     "text": [
      "Ran really fast.\n",
      "None\n"
     ]
    }
   ],
   "source": [
    "hb1 = HybridBorg('borgie', 50)\n",
    "print(hb1.run())"
   ]
  },
  {
   "cell_type": "markdown",
   "id": "736dc268",
   "metadata": {},
   "source": [
    "Now, what if we use the check_arrows method from Archer:"
   ]
  },
  {
   "cell_type": "code",
   "execution_count": 119,
   "id": "8f8cf876",
   "metadata": {},
   "outputs": [],
   "source": [
    "#print(hb1.check_arrows())\n",
    "#---------------------------------------------------------------------------\n",
    "#AttributeError                            Traceback (most recent call last)\n",
    "#~\\AppData\\Local\\Temp\\ipykernel_21192\\3047496413.py in <module>\n",
    "#----> 1 print(hb1.check_arrows())\n",
    "#\n",
    "#~\\AppData\\Local\\Temp\\ipykernel_21192\\2345618992.py in check_arrows(self)\n",
    "#     17 \n",
    "#     18     def check_arrows(self):\n",
    "#---> 19         print(f'{self.arrows} remaining.')\n",
    "#     20 \n",
    "#     21     def run(self):\n",
    "#\n",
    "#AttributeError: 'HybridBorg' object has no attribute 'arrows'"
   ]
  },
  {
   "cell_type": "markdown",
   "id": "f7ea1413",
   "metadata": {},
   "source": [
    "This happens because, our class is inheriting from 'Wizard' first. As such, we've defined 'name' and 'power' under Wizard but not 'name' and 'check_arrows' under Archer."
   ]
  },
  {
   "cell_type": "markdown",
   "id": "17b12c8a",
   "metadata": {},
   "source": [
    "Things get a little tricky with multiple inheratences - this is why some programming languages do not allow this."
   ]
  },
  {
   "cell_type": "code",
   "execution_count": 127,
   "id": "7fa0acd2",
   "metadata": {},
   "outputs": [],
   "source": [
    "class HybridBorg(Wizard, Archer):\n",
    "    def __init__(self, name, power, arrows):\n",
    "        Archer.__init__(self, name, arrows)\n",
    "        Wizard.__init__(self, name, power)"
   ]
  },
  {
   "cell_type": "code",
   "execution_count": 129,
   "id": "be139073",
   "metadata": {},
   "outputs": [
    {
     "name": "stdout",
     "output_type": "stream",
     "text": [
      "logged in\n",
      "None\n",
      "100 remaining.\n",
      "None\n",
      "borgie is attacking with power of 50\n",
      "None\n"
     ]
    }
   ],
   "source": [
    "hb1 = HybridBorg('borgie', 50, 100)\n",
    "print(hb1.sign_in())\n",
    "print(hb1.check_arrows())\n",
    "print(hb1.attack())"
   ]
  },
  {
   "cell_type": "markdown",
   "id": "4bde5481",
   "metadata": {},
   "source": [
    "## Method Resolution Order"
   ]
  },
  {
   "cell_type": "code",
   "execution_count": 138,
   "id": "08a02608",
   "metadata": {},
   "outputs": [],
   "source": [
    "class A:\n",
    "    num = 10\n",
    "    \n",
    "class B(A):\n",
    "    pass\n",
    "\n",
    "class C(A):\n",
    "    num = 1\n",
    "    \n",
    "class D(B, C):\n",
    "    pass"
   ]
  },
  {
   "cell_type": "markdown",
   "id": "dd46f5c9",
   "metadata": {},
   "source": [
    "When dealing with more complex inheritance structures like the one above, Python has a specific order of resolving each step, i.e. do this, then this, then finally this etc."
   ]
  },
  {
   "cell_type": "code",
   "execution_count": 137,
   "id": "7be09c6e",
   "metadata": {},
   "outputs": [
    {
     "name": "stdout",
     "output_type": "stream",
     "text": [
      "2\n"
     ]
    }
   ],
   "source": [
    "print(D.num)"
   ]
  },
  {
   "cell_type": "code",
   "execution_count": 135,
   "id": "1b249de7",
   "metadata": {},
   "outputs": [
    {
     "name": "stdout",
     "output_type": "stream",
     "text": [
      "[<class '__main__.D'>, <class '__main__.B'>, <class '__main__.C'>, <class '__main__.A'>, <class 'object'>]\n"
     ]
    }
   ],
   "source": [
    "print(D.mro())"
   ]
  },
  {
   "cell_type": "markdown",
   "id": "f5442782",
   "metadata": {},
   "source": [
    "**You need to be conscious and careful of MRO and potentially avoid such situations in your own code**"
   ]
  },
  {
   "cell_type": "code",
   "execution_count": 139,
   "id": "0b8d0d01",
   "metadata": {},
   "outputs": [
    {
     "name": "stdout",
     "output_type": "stream",
     "text": [
      "(<class '__main__.M'>, <class '__main__.B'>, <class '__main__.A'>, <class '__main__.X'>, <class '__main__.Y'>, <class '__main__.Z'>, <class 'object'>)\n"
     ]
    }
   ],
   "source": [
    "class X: pass\n",
    "class Y: pass\n",
    "class Z: pass\n",
    "class A(X,Y): pass\n",
    "class B(Y,Z): pass\n",
    "class M(B,A,Z): pass\n",
    "\n",
    "print(M.__mro__)"
   ]
  },
  {
   "cell_type": "markdown",
   "id": "cc4620bf",
   "metadata": {},
   "source": [
    "<font color='red'> Make  note of Depth First Search </font>"
   ]
  }
 ],
 "metadata": {
  "kernelspec": {
   "display_name": "Python 3 (ipykernel)",
   "language": "python",
   "name": "python3"
  },
  "language_info": {
   "codemirror_mode": {
    "name": "ipython",
    "version": 3
   },
   "file_extension": ".py",
   "mimetype": "text/x-python",
   "name": "python",
   "nbconvert_exporter": "python",
   "pygments_lexer": "ipython3",
   "version": "3.9.13"
  }
 },
 "nbformat": 4,
 "nbformat_minor": 5
}
