{
 "cells": [
  {
   "cell_type": "markdown",
   "id": "9573f8a5",
   "metadata": {},
   "source": [
    "# Video # 1"
   ]
  },
  {
   "cell_type": "markdown",
   "id": "78ea06a1",
   "metadata": {},
   "source": [
    "## When to use Python List Comprehension"
   ]
  },
  {
   "cell_type": "code",
   "execution_count": 2,
   "id": "7daa5b79",
   "metadata": {},
   "outputs": [],
   "source": [
    "nums = [1, 2, 3, 4 ,5, 6]\n",
    "\n",
    "results = []\n",
    "for i in nums:\n",
    "    i = i * 2\n",
    "    results.append(i)"
   ]
  },
  {
   "cell_type": "markdown",
   "id": "cb1e9393",
   "metadata": {},
   "source": [
    "This is a traditional for loop.<br>\n",
    "This is fine to do, but it is taking us too many lines of code to do a simple multiplication of all values in an existing list."
   ]
  },
  {
   "cell_type": "markdown",
   "id": "180c2204",
   "metadata": {},
   "source": [
    "**Easier Method**"
   ]
  },
  {
   "cell_type": "code",
   "execution_count": 3,
   "id": "a69d7868",
   "metadata": {},
   "outputs": [],
   "source": [
    "results = [i * 2 for i in nums]"
   ]
  },
  {
   "cell_type": "markdown",
   "id": "dd195cb1",
   "metadata": {},
   "source": [
    "### Another Example"
   ]
  },
  {
   "cell_type": "code",
   "execution_count": 4,
   "id": "7e477280",
   "metadata": {},
   "outputs": [],
   "source": [
    "strings = [\"intro\", \"to\", \"list\", \"comprehension\"]\n",
    "\n",
    "results = []\n",
    "for i in strings:\n",
    "    i = i.upper()\n",
    "    results.append(i)"
   ]
  },
  {
   "cell_type": "code",
   "execution_count": 5,
   "id": "6983424b",
   "metadata": {},
   "outputs": [],
   "source": [
    "results = [i.upper() for i in strings]"
   ]
  },
  {
   "cell_type": "markdown",
   "id": "90ea6cc8",
   "metadata": {},
   "source": [
    "## Key Features of List Comprehension"
   ]
  },
  {
   "cell_type": "markdown",
   "id": "60db2fae",
   "metadata": {},
   "source": [
    "- Returns a list <br>\n",
    "- Contains an expression and an iterable , **[ <font color='red'>Expression</font> for <font color='red'>member</font> in <font color='red'>Iterable</font> ]**"
   ]
  },
  {
   "cell_type": "markdown",
   "id": "ec208ceb",
   "metadata": {},
   "source": [
    "## Functions with List Comprehension"
   ]
  },
  {
   "cell_type": "code",
   "execution_count": 6,
   "id": "24baaf89",
   "metadata": {},
   "outputs": [],
   "source": [
    "def timesFive(num):\n",
    "    return num * 5"
   ]
  },
  {
   "cell_type": "code",
   "execution_count": 7,
   "id": "2b7cd862",
   "metadata": {},
   "outputs": [
    {
     "name": "stdout",
     "output_type": "stream",
     "text": [
      "i 5\n",
      "i 10\n",
      "i 15\n",
      "i 20\n",
      "i 25\n",
      "i 30\n"
     ]
    }
   ],
   "source": [
    "nums = [1, 2, 3, 4 ,5, 6]\n",
    "results = []\n",
    "\n",
    "for i in nums:\n",
    "    i = timesFive(i)\n",
    "    print(\"i\", i)\n",
    "    results.append(i)"
   ]
  },
  {
   "cell_type": "code",
   "execution_count": 9,
   "id": "7a5d0b27",
   "metadata": {},
   "outputs": [
    {
     "data": {
      "text/plain": [
       "[5, 10, 15, 20, 25, 30]"
      ]
     },
     "execution_count": 9,
     "metadata": {},
     "output_type": "execute_result"
    }
   ],
   "source": [
    "new_nums = [timesFive(i) for i in nums]\n",
    "new_nums"
   ]
  },
  {
   "cell_type": "markdown",
   "id": "0522ab80",
   "metadata": {},
   "source": [
    "### Conditional List Comprehension"
   ]
  },
  {
   "cell_type": "code",
   "execution_count": 10,
   "id": "3eef7311",
   "metadata": {},
   "outputs": [
    {
     "data": {
      "text/plain": [
       "[15, 20, 25, 30]"
      ]
     },
     "execution_count": 10,
     "metadata": {},
     "output_type": "execute_result"
    }
   ],
   "source": [
    "new_nums = [timesFive(i) for i in nums if i > 2]\n",
    "new_nums"
   ]
  },
  {
   "cell_type": "markdown",
   "id": "0172dc3f",
   "metadata": {},
   "source": [
    "### Another Example - List of Dictionairies"
   ]
  },
  {
   "cell_type": "code",
   "execution_count": 11,
   "id": "af8bfd55",
   "metadata": {},
   "outputs": [],
   "source": [
    "dicts = [{\"name\": \"John\"}, {\"name\": \"Matt\"}]"
   ]
  },
  {
   "cell_type": "code",
   "execution_count": 20,
   "id": "e2082f27",
   "metadata": {},
   "outputs": [
    {
     "data": {
      "text/plain": [
       "['John', 'Matt']"
      ]
     },
     "execution_count": 20,
     "metadata": {},
     "output_type": "execute_result"
    }
   ],
   "source": [
    "names = [i['name'] for i in dicts]\n",
    "names"
   ]
  },
  {
   "cell_type": "markdown",
   "id": "f4e8a74c",
   "metadata": {},
   "source": [
    "# Video 2"
   ]
  },
  {
   "cell_type": "markdown",
   "id": "5f0be785",
   "metadata": {},
   "source": [
    "## Conditional List Comprehension - If / Else"
   ]
  },
  {
   "cell_type": "code",
   "execution_count": 28,
   "id": "f40d3862",
   "metadata": {},
   "outputs": [
    {
     "data": {
      "text/plain": [
       "[2, 4, 15]"
      ]
     },
     "execution_count": 28,
     "metadata": {},
     "output_type": "execute_result"
    }
   ],
   "source": [
    "list1 = [1, 2, 3]\n",
    "\n",
    "[i * 5 if i == 3 else i * 2 for i in list1]"
   ]
  },
  {
   "cell_type": "markdown",
   "id": "f3062b56",
   "metadata": {},
   "source": [
    "### Right Side IF Statements vs Left Side IF Statements"
   ]
  },
  {
   "cell_type": "markdown",
   "id": "58309bdd",
   "metadata": {},
   "source": [
    "Above was a right side IF statement in a list comprehension.<br>\n",
    "Below is that of Right Side IF Statement"
   ]
  },
  {
   "cell_type": "code",
   "execution_count": 29,
   "id": "b019329e",
   "metadata": {},
   "outputs": [
    {
     "data": {
      "text/plain": [
       "[15]"
      ]
     },
     "execution_count": 29,
     "metadata": {},
     "output_type": "execute_result"
    }
   ],
   "source": [
    "list1 = [1, 2, 3]\n",
    "\n",
    "[i * 5 for i in list1 if i == 3]"
   ]
  },
  {
   "cell_type": "markdown",
   "id": "fe956107",
   "metadata": {},
   "source": [
    "You can combine the two types within a List Comprehension. <br><br>\n",
    "The Right Side, as the second example can be thought as a filter, the \"first line of defence\".<br>\n",
    "This would action first before the \"If / Else\" or \"Left Side\" would take effect."
   ]
  },
  {
   "cell_type": "code",
   "execution_count": 31,
   "id": "022d6e31",
   "metadata": {},
   "outputs": [
    {
     "data": {
      "text/plain": [
       "[4, 15]"
      ]
     },
     "execution_count": 31,
     "metadata": {},
     "output_type": "execute_result"
    }
   ],
   "source": [
    "list1 = [1, 2, 3]\n",
    "\n",
    "[i * 5 if i == 3 else i * 2 for i in list1 if i > 1]"
   ]
  },
  {
   "cell_type": "markdown",
   "id": "12ef52f8",
   "metadata": {},
   "source": [
    "## Thinking of List Comprehension in terms of Lambda"
   ]
  },
  {
   "cell_type": "markdown",
   "id": "fadfb7da",
   "metadata": {},
   "source": [
    "Take,"
   ]
  },
  {
   "cell_type": "code",
   "execution_count": 34,
   "id": "b7e40745",
   "metadata": {},
   "outputs": [],
   "source": [
    "# [a if condition1 else b for i in list1 if condition2]"
   ]
  },
  {
   "cell_type": "markdown",
   "id": "089d149b",
   "metadata": {},
   "source": [
    "These two conditionals can be broken down as such,"
   ]
  },
  {
   "cell_type": "code",
   "execution_count": 35,
   "id": "82b19bbb",
   "metadata": {},
   "outputs": [],
   "source": [
    "# lambda x: a if condition1 else b\n",
    "\n",
    "# lambda x: condition2"
   ]
  },
  {
   "cell_type": "markdown",
   "id": "f668afca",
   "metadata": {},
   "source": [
    "You can think of the whole of list comprehension as a combination of **map** and **filter**"
   ]
  },
  {
   "cell_type": "code",
   "execution_count": null,
   "id": "2210b321",
   "metadata": {},
   "outputs": [],
   "source": []
  }
 ],
 "metadata": {
  "kernelspec": {
   "display_name": "Python 3 (ipykernel)",
   "language": "python",
   "name": "python3"
  },
  "language_info": {
   "codemirror_mode": {
    "name": "ipython",
    "version": 3
   },
   "file_extension": ".py",
   "mimetype": "text/x-python",
   "name": "python",
   "nbconvert_exporter": "python",
   "pygments_lexer": "ipython3",
   "version": "3.9.13"
  }
 },
 "nbformat": 4,
 "nbformat_minor": 5
}
