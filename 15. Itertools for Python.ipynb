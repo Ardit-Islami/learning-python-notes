{
 "cells": [
  {
   "cell_type": "markdown",
   "id": "miniature-honduras",
   "metadata": {},
   "source": [
    "Itertool provides a method for a quick and efficient way of creating iterators."
   ]
  },
  {
   "cell_type": "code",
   "execution_count": 1,
   "id": "removable-intervention",
   "metadata": {},
   "outputs": [],
   "source": [
    "import itertools"
   ]
  },
  {
   "cell_type": "markdown",
   "id": "athletic-quantity",
   "metadata": {},
   "source": [
    "## Infinite Iterators"
   ]
  },
  {
   "cell_type": "markdown",
   "id": "bacterial-novel",
   "metadata": {},
   "source": [
    "### Count"
   ]
  },
  {
   "cell_type": "markdown",
   "id": "trained-retrieval",
   "metadata": {},
   "source": [
    "Will behave as a counter, to iterate over and will infinitely continue doing so."
   ]
  },
  {
   "cell_type": "code",
   "execution_count": 7,
   "id": "embedded-spread",
   "metadata": {},
   "outputs": [
    {
     "name": "stdout",
     "output_type": "stream",
     "text": [
      "10\n",
      "12\n",
      "14\n",
      "16\n",
      "18\n",
      "20\n"
     ]
    }
   ],
   "source": [
    "counter = itertools.count(10, 2)\n",
    "for i in counter:\n",
    "    print(i)\n",
    "    \n",
    "    if i == 20:\n",
    "        break"
   ]
  },
  {
   "cell_type": "markdown",
   "id": "driven-tourism",
   "metadata": {},
   "source": [
    "So above, we placed in a starting value of 10 and a step of 20, as such when we print each i in our counter, we can see it print 10 to 20 with a step of 2.<br>\n",
    "We have to place in a manual break as the counter will infinitely continue from 10 with a step of 2."
   ]
  },
  {
   "cell_type": "markdown",
   "id": "governing-valve",
   "metadata": {},
   "source": [
    "### Cycle"
   ]
  },
  {
   "cell_type": "markdown",
   "id": "later-bahrain",
   "metadata": {},
   "source": [
    "Infinitely loop/iterate over the iterable as many times as we require it."
   ]
  },
  {
   "cell_type": "code",
   "execution_count": 8,
   "id": "romance-receiver",
   "metadata": {},
   "outputs": [],
   "source": [
    "l = ['A', 'B', 'C']\n",
    "cycler = itertools.cycle(l)"
   ]
  },
  {
   "cell_type": "markdown",
   "id": "pleased-spank",
   "metadata": {},
   "source": [
    "The cycle function will take that list and make an infinite loop with it. Which means, we can iterate over it as many times as we want."
   ]
  },
  {
   "cell_type": "code",
   "execution_count": 9,
   "id": "discrete-childhood",
   "metadata": {},
   "outputs": [
    {
     "name": "stdout",
     "output_type": "stream",
     "text": [
      "0: A\n",
      "1: B\n",
      "2: C\n",
      "3: A\n",
      "4: B\n",
      "5: C\n",
      "6: A\n",
      "7: B\n",
      "8: C\n",
      "9: A\n",
      "10: B\n",
      "11: C\n",
      "12: A\n",
      "13: B\n",
      "14: C\n",
      "15: A\n",
      "16: B\n",
      "17: C\n",
      "18: A\n",
      "19: B\n",
      "20: C\n"
     ]
    }
   ],
   "source": [
    "for i, letter in enumerate(cycler):\n",
    "    print(i, letter, sep=': ')\n",
    "    \n",
    "    if i == 20:\n",
    "        break"
   ]
  },
  {
   "cell_type": "markdown",
   "id": "liquid-answer",
   "metadata": {},
   "source": [
    "### Repeat"
   ]
  },
  {
   "cell_type": "markdown",
   "id": "studied-metropolitan",
   "metadata": {},
   "source": [
    "Repeat a given iterable as many times as required and can create a list with repeated iterable."
   ]
  },
  {
   "cell_type": "code",
   "execution_count": 14,
   "id": "subsequent-split",
   "metadata": {},
   "outputs": [],
   "source": [
    "string = 'String'\n",
    "repeater = itertools.repeat(string, 10)\n",
    "#print(list(repeater))"
   ]
  },
  {
   "cell_type": "code",
   "execution_count": 15,
   "id": "acoustic-austin",
   "metadata": {},
   "outputs": [
    {
     "name": "stdout",
     "output_type": "stream",
     "text": [
      "String\n",
      "String\n",
      "String\n",
      "String\n",
      "String\n",
      "String\n",
      "String\n",
      "String\n",
      "String\n",
      "String\n"
     ]
    }
   ],
   "source": [
    "for string in repeater:\n",
    "    print(string)"
   ]
  },
  {
   "cell_type": "markdown",
   "id": "qualified-algorithm",
   "metadata": {},
   "source": [
    "**The above 3 were the three infinite iterators that come with ITERTOOLS**"
   ]
  },
  {
   "cell_type": "markdown",
   "id": "pressed-above",
   "metadata": {},
   "source": [
    "## Shortest Input Sequence Iterators"
   ]
  },
  {
   "cell_type": "markdown",
   "id": "resistant-disability",
   "metadata": {},
   "source": [
    "<font color='blue'>Below are iterators that terminate on the shortest input sequence</font>"
   ]
  },
  {
   "cell_type": "markdown",
   "id": "abandoned-bread",
   "metadata": {},
   "source": [
    "### Accumulate"
   ]
  },
  {
   "cell_type": "code",
   "execution_count": 18,
   "id": "hollywood-substance",
   "metadata": {},
   "outputs": [],
   "source": [
    "numbers = [1,2,3,4,5]\n",
    "accumulation = itertools.accumulate(numbers)"
   ]
  },
  {
   "cell_type": "code",
   "execution_count": 20,
   "id": "spectacular-luther",
   "metadata": {},
   "outputs": [
    {
     "name": "stdout",
     "output_type": "stream",
     "text": [
      "[1, 3, 6, 10, 15]\n"
     ]
    }
   ],
   "source": [
    "print(list(accumulation))"
   ]
  },
  {
   "cell_type": "markdown",
   "id": "answering-order",
   "metadata": {},
   "source": [
    "To take this a step further:"
   ]
  },
  {
   "cell_type": "code",
   "execution_count": 21,
   "id": "textile-terminology",
   "metadata": {},
   "outputs": [
    {
     "name": "stdout",
     "output_type": "stream",
     "text": [
      "[1, 2, 6, 24, 120]\n"
     ]
    }
   ],
   "source": [
    "import operator\n",
    "accumulation = itertools.accumulate(numbers, operator.mul) # Changing the base method of accumulate which is addition\n",
    "print(list(accumulation))"
   ]
  },
  {
   "cell_type": "markdown",
   "id": "inappropriate-architecture",
   "metadata": {},
   "source": [
    "### Chain"
   ]
  },
  {
   "cell_type": "code",
   "execution_count": 22,
   "id": "sapphire-laugh",
   "metadata": {},
   "outputs": [
    {
     "name": "stdout",
     "output_type": "stream",
     "text": [
      "[1, 2, 3, 'a', 'b', 'c']\n"
     ]
    }
   ],
   "source": [
    "a = [1,2,3]\n",
    "b = ['a', 'b', 'c']\n",
    "\n",
    "combined = itertools.chain(a, b)\n",
    "print(list(combined))"
   ]
  },
  {
   "cell_type": "markdown",
   "id": "therapeutic-dollar",
   "metadata": {},
   "source": [
    "You can duplicate them over as such:"
   ]
  },
  {
   "cell_type": "code",
   "execution_count": 23,
   "id": "impressed-experiment",
   "metadata": {},
   "outputs": [
    {
     "name": "stdout",
     "output_type": "stream",
     "text": [
      "[1, 2, 3, 'a', 'b', 'c', 1, 2, 3]\n"
     ]
    }
   ],
   "source": [
    "combined = itertools.chain(a, b, a)\n",
    "print(list(combined))"
   ]
  },
  {
   "cell_type": "markdown",
   "id": "nominated-selection",
   "metadata": {},
   "source": [
    "### Compress"
   ]
  },
  {
   "cell_type": "code",
   "execution_count": 24,
   "id": "iraqi-citizen",
   "metadata": {},
   "outputs": [
    {
     "name": "stdout",
     "output_type": "stream",
     "text": [
      "['b', 'c']\n"
     ]
    }
   ],
   "source": [
    "l = ['a', 'b', 'c', 'd']\n",
    "selectors = [0, 1, 1, 0]\n",
    "\n",
    "compressed = itertools.compress(l, selectors)\n",
    "print(list(compressed))"
   ]
  },
  {
   "cell_type": "markdown",
   "id": "republican-netscape",
   "metadata": {},
   "source": [
    "The selectors, which is treated as a list of boolean True or False values will decide what to return.<br>\n",
    "In this case, Index 1 and 2 are valued as True in the selector, so our itertools.compressed will return Index 1 and 2 from our chosen list. "
   ]
  },
  {
   "cell_type": "markdown",
   "id": "naked-canada",
   "metadata": {},
   "source": [
    "### Dropwhile"
   ]
  },
  {
   "cell_type": "code",
   "execution_count": 27,
   "id": "hearing-midwest",
   "metadata": {},
   "outputs": [
    {
     "name": "stdout",
     "output_type": "stream",
     "text": [
      "[3, 4, 5, 6, 7]\n"
     ]
    }
   ],
   "source": [
    "l = [1, 2, 3, 4, 5, 6, 7]\n",
    "\n",
    "remaining = itertools.dropwhile(lambda n: n < 3, l)\n",
    "print(list(remaining))"
   ]
  },
  {
   "cell_type": "markdown",
   "id": "suspected-crash",
   "metadata": {},
   "source": [
    "But as the name suggest, it will only drop WHILE it holds True. Once the next iterable evaluates as False, no matter how many more evaluate as True, it will then not drop anything else."
   ]
  },
  {
   "cell_type": "code",
   "execution_count": 28,
   "id": "combined-editor",
   "metadata": {},
   "outputs": [
    {
     "name": "stdout",
     "output_type": "stream",
     "text": [
      "[3, 4, 5, 6, 7, 1, 2]\n"
     ]
    }
   ],
   "source": [
    "l = [1, 2, 3, 4, 5, 6, 7, 1, 2]\n",
    "\n",
    "remaining = itertools.dropwhile(lambda n: n < 3, l)\n",
    "print(list(remaining))"
   ]
  },
  {
   "cell_type": "markdown",
   "id": "worse-soviet",
   "metadata": {},
   "source": [
    "### Filterfalse"
   ]
  },
  {
   "cell_type": "code",
   "execution_count": 29,
   "id": "subject-trust",
   "metadata": {},
   "outputs": [
    {
     "name": "stdout",
     "output_type": "stream",
     "text": [
      "[0, 10, 20, 30, 40, 50, 60, 70, 80, 90]\n"
     ]
    }
   ],
   "source": [
    "l = range(100)\n",
    "\n",
    "filtered = itertools.filterfalse(lambda n: n % 10, l)\n",
    "print(list(filtered))"
   ]
  },
  {
   "cell_type": "markdown",
   "id": "geographic-prediction",
   "metadata": {},
   "source": [
    "Everything that evaluates as False, it will return it in the list"
   ]
  },
  {
   "cell_type": "markdown",
   "id": "certain-premium",
   "metadata": {},
   "source": [
    "### Groupby"
   ]
  },
  {
   "cell_type": "markdown",
   "id": "japanese-keyboard",
   "metadata": {},
   "source": [
    "Allows us to group consecutive keys into a new iterable."
   ]
  },
  {
   "cell_type": "code",
   "execution_count": 44,
   "id": "documentary-caribbean",
   "metadata": {},
   "outputs": [
    {
     "name": "stdout",
     "output_type": "stream",
     "text": [
      "a: [('a', 1), ('a', 2), ('a', 3)]\n",
      "b: [('b', 4), ('b', 5)]\n",
      "c: [('c', 6)]\n"
     ]
    }
   ],
   "source": [
    "l = [('a', 1), ('a', 2), ('a', 3), ('b', 4), ('b', 5), ('c', 6)]\n",
    "\n",
    "grouped = itertools.groupby(l, lambda k: k[0])\n",
    "\n",
    "for key, values in grouped:\n",
    "    print(key, list(values), sep=': ')"
   ]
  },
  {
   "cell_type": "markdown",
   "id": "flexible-regulation",
   "metadata": {},
   "source": [
    "The above was a basic method of usage."
   ]
  },
  {
   "cell_type": "markdown",
   "id": "central-cradle",
   "metadata": {},
   "source": [
    "<font color='blue'>Another Example</font>"
   ]
  },
  {
   "cell_type": "code",
   "execution_count": 42,
   "id": "ranking-triple",
   "metadata": {},
   "outputs": [
    {
     "name": "stdout",
     "output_type": "stream",
     "text": [
      "[[1], [2, 2, 2, 2, 2], [3, 3, 3, 3], [2, 2]]\n"
     ]
    }
   ],
   "source": [
    "l = [1, 2, 2, 2, 2, 2, 3, 3, 3, 3, 2, 2]\n",
    "\n",
    "example = [list(g) for k, g in itertools.groupby(l)]\n",
    "print(example)"
   ]
  },
  {
   "cell_type": "markdown",
   "id": "special-courage",
   "metadata": {},
   "source": [
    "Unlike SQLs GroupBy, itertool groups by whatever is consecutive.<br>\n",
    "So as you can see there is a second group of 2, this is because this second group is not in consecutive order with the other 2 values."
   ]
  },
  {
   "cell_type": "markdown",
   "id": "chinese-shift",
   "metadata": {},
   "source": [
    "### iSlice"
   ]
  },
  {
   "cell_type": "markdown",
   "id": "unusual-freedom",
   "metadata": {},
   "source": [
    "This is a way of slicing lists into iterables."
   ]
  },
  {
   "cell_type": "code",
   "execution_count": 46,
   "id": "naughty-universal",
   "metadata": {},
   "outputs": [
    {
     "name": "stdout",
     "output_type": "stream",
     "text": [
      "['c', 'd', 'e', 'f']\n",
      "['a', 'b']\n"
     ]
    }
   ],
   "source": [
    "l = ['a', 'b', 'c', 'd', 'e', 'f']\n",
    "\n",
    "sliced = itertools.islice(l, 2, None)\n",
    "print(list(sliced))\n",
    "\n",
    "sliced = itertools.islice(l, 2) # If limit is not provided either as None or a valid limit, then:\n",
    "print(list(sliced))"
   ]
  },
  {
   "cell_type": "markdown",
   "id": "fluid-newport",
   "metadata": {},
   "source": [
    "You can easily use normal array slicing, but if you want to create an iterable, use the islice."
   ]
  },
  {
   "cell_type": "markdown",
   "id": "neither-seeker",
   "metadata": {},
   "source": [
    "### Pairwise"
   ]
  },
  {
   "cell_type": "code",
   "execution_count": 55,
   "id": "protective-fabric",
   "metadata": {},
   "outputs": [],
   "source": [
    "# Function doesn't exist\n",
    "# Needs to be fixed."
   ]
  },
  {
   "cell_type": "markdown",
   "id": "duplicate-stamp",
   "metadata": {},
   "source": [
    "### Starmap"
   ]
  },
  {
   "cell_type": "code",
   "execution_count": 58,
   "id": "occasional-shadow",
   "metadata": {},
   "outputs": [
    {
     "name": "stdout",
     "output_type": "stream",
     "text": [
      "[8, 16, 32]\n"
     ]
    }
   ],
   "source": [
    "from operator import pow\n",
    "\n",
    "l = [(2, 3), (2, 4), (2, 5)]\n",
    "\n",
    "starmapped = itertools.starmap(pow, l)\n",
    "\n",
    "print(list(starmapped))"
   ]
  },
  {
   "cell_type": "markdown",
   "id": "immune-filling",
   "metadata": {},
   "source": [
    "What the above does is that it places each of our values from the iterable and run it through a given function. It takes a list of tuples, separating the values and running it through the function.<br><br>\n",
    "\n",
    "Another example would be if instead used operator.mul, which then would return each multiplication, i.e (2,3)->2*3==6"
   ]
  },
  {
   "cell_type": "markdown",
   "id": "unsigned-strip",
   "metadata": {},
   "source": [
    "<font color='blue'>Another Example</font>"
   ]
  },
  {
   "cell_type": "code",
   "execution_count": 59,
   "id": "automatic-short",
   "metadata": {},
   "outputs": [
    {
     "name": "stdout",
     "output_type": "stream",
     "text": [
      "[['2X', '3X', '1X'], ['2X', '4X'], ['2X', '5X']]\n"
     ]
    }
   ],
   "source": [
    "l = [(2, 3, 1), (2, 4), (2, 5)]\n",
    "\n",
    "def example(*args):\n",
    "    temp = []\n",
    "    for arg in args:\n",
    "        temp.append(f'{arg}X')\n",
    "    return temp\n",
    "\n",
    "starmapped = itertools.starmap(example, l)\n",
    "\n",
    "print(list(starmapped))"
   ]
  },
  {
   "cell_type": "markdown",
   "id": "complicated-sacrifice",
   "metadata": {},
   "source": [
    "### Takewhile"
   ]
  },
  {
   "cell_type": "markdown",
   "id": "amber-three",
   "metadata": {},
   "source": [
    "Opposite of dropwhile.<br>\n",
    "Creates an iterator that returns elements from the iterator, as long as the predicate is true."
   ]
  },
  {
   "cell_type": "code",
   "execution_count": 73,
   "id": "hawaiian-candidate",
   "metadata": {},
   "outputs": [
    {
     "name": "stdout",
     "output_type": "stream",
     "text": [
      "[1, 2, 3]\n"
     ]
    }
   ],
   "source": [
    "l = [1, 2, 3, 4, 5, 6, 1]\n",
    "\n",
    "taken = itertools.takewhile(lambda a: a < 4, l)\n",
    "print(list(taken))"
   ]
  },
  {
   "cell_type": "markdown",
   "id": "touched-lease",
   "metadata": {},
   "source": [
    "While if it is false from the very beginning..."
   ]
  },
  {
   "cell_type": "code",
   "execution_count": 74,
   "id": "russian-cartoon",
   "metadata": {},
   "outputs": [
    {
     "name": "stdout",
     "output_type": "stream",
     "text": [
      "[]\n"
     ]
    }
   ],
   "source": [
    "l = [4, 1, 2, 3, 4, 5, 6, 1]\n",
    "\n",
    "taken = itertools.takewhile(lambda a: a < 4, l)\n",
    "print(list(taken))"
   ]
  },
  {
   "cell_type": "markdown",
   "id": "known-means",
   "metadata": {},
   "source": [
    "### Tee"
   ]
  },
  {
   "cell_type": "code",
   "execution_count": 75,
   "id": "constitutional-automation",
   "metadata": {},
   "outputs": [
    {
     "name": "stdout",
     "output_type": "stream",
     "text": [
      "[1, 2, 3, 'a', 'b', 'c']\n",
      "[1, 2, 3, 'a', 'b', 'c']\n",
      "[1, 2, 3, 'a', 'b', 'c']\n"
     ]
    }
   ],
   "source": [
    "l = [1, 2, 3, 'a', 'b', 'c']\n",
    "\n",
    "tee = itertools.tee(l, 3)\n",
    "\n",
    "for it in tee:\n",
    "    print(list(it))"
   ]
  },
  {
   "cell_type": "markdown",
   "id": "changing-november",
   "metadata": {},
   "source": [
    "So in this case we have created a duplicate of the iterable, in this case we have an iterable of 3 copies of our original iterable."
   ]
  },
  {
   "cell_type": "code",
   "execution_count": 76,
   "id": "living-mumbai",
   "metadata": {},
   "outputs": [
    {
     "name": "stdout",
     "output_type": "stream",
     "text": [
      "['t', 'e', 's', 't', 'i', 'n', 'g']\n",
      "['t', 'e', 's', 't', 'i', 'n', 'g']\n",
      "['t', 'e', 's', 't', 'i', 'n', 'g']\n"
     ]
    }
   ],
   "source": [
    "l = 'testing'\n",
    "\n",
    "tee = itertools.tee(l, 3)\n",
    "\n",
    "for it in tee:\n",
    "    print(list(it))"
   ]
  },
  {
   "cell_type": "markdown",
   "id": "biblical-worcester",
   "metadata": {},
   "source": [
    "### Zip_longest"
   ]
  },
  {
   "cell_type": "markdown",
   "id": "herbal-shopper",
   "metadata": {},
   "source": [
    "**This is one of the most commonly used itertool functions**"
   ]
  },
  {
   "cell_type": "code",
   "execution_count": 86,
   "id": "moved-milan",
   "metadata": {},
   "outputs": [
    {
     "name": "stdout",
     "output_type": "stream",
     "text": [
      "1 - a - True\n",
      "2 - b - False\n",
      "3 - c - None\n",
      "4 - None - None\n",
      "5 - None - None\n"
     ]
    }
   ],
   "source": [
    "a = [1, 2, 3, 4, 5]\n",
    "b = ['a', 'b', 'c']\n",
    "c = [True, False]\n",
    "\n",
    "zipped = itertools.zip_longest(a, b, c)\n",
    "\n",
    "for a, b, c in zipped:\n",
    "    print(a, b, c, sep = ' - ')"
   ]
  },
  {
   "cell_type": "markdown",
   "id": "republican-constitution",
   "metadata": {},
   "source": [
    "While normal zip function will go no further than the list with the lowest amount of elements:"
   ]
  },
  {
   "cell_type": "code",
   "execution_count": 90,
   "id": "extended-column",
   "metadata": {},
   "outputs": [
    {
     "name": "stdout",
     "output_type": "stream",
     "text": [
      "1 - a - True\n",
      "2 - b - False\n"
     ]
    }
   ],
   "source": [
    "a = [1, 2, 3, 4, 5]\n",
    "b = ['a', 'b', 'c']\n",
    "c = [True, False]\n",
    "\n",
    "zipped = zip(a, b, c)\n",
    "\n",
    "for a, b, c in zipped:\n",
    "    print(a, b, c, sep = ' - ')"
   ]
  },
  {
   "cell_type": "markdown",
   "id": "prescription-generic",
   "metadata": {},
   "source": [
    "You can also provide a fill value:"
   ]
  },
  {
   "cell_type": "code",
   "execution_count": 91,
   "id": "understanding-suicide",
   "metadata": {},
   "outputs": [
    {
     "name": "stdout",
     "output_type": "stream",
     "text": [
      "1 - a - True\n",
      "2 - b - False\n",
      "3 - c - X\n",
      "4 - X - X\n",
      "5 - X - X\n"
     ]
    }
   ],
   "source": [
    "a = [1, 2, 3, 4, 5]\n",
    "b = ['a', 'b', 'c']\n",
    "c = [True, False]\n",
    "\n",
    "zipped = itertools.zip_longest(a, b, c, fillvalue='X')\n",
    "\n",
    "for a, b, c in zipped:\n",
    "    print(a, b, c, sep = ' - ')"
   ]
  },
  {
   "cell_type": "markdown",
   "id": "cleared-nightmare",
   "metadata": {},
   "source": [
    "## Combinatoric Iterators"
   ]
  },
  {
   "cell_type": "markdown",
   "id": "casual-nursing",
   "metadata": {},
   "source": [
    "These following functions will usually be the ones that you see the most used out of itertool functions."
   ]
  },
  {
   "cell_type": "markdown",
   "id": "egyptian-minimum",
   "metadata": {},
   "source": [
    "## Product"
   ]
  },
  {
   "cell_type": "code",
   "execution_count": 92,
   "id": "artistic-dividend",
   "metadata": {},
   "outputs": [
    {
     "name": "stdout",
     "output_type": "stream",
     "text": [
      "(1, 'a')\n",
      "(1, 'b')\n",
      "(1, 'c')\n",
      "(2, 'a')\n",
      "(2, 'b')\n",
      "(2, 'c')\n",
      "(3, 'a')\n",
      "(3, 'b')\n",
      "(3, 'c')\n"
     ]
    }
   ],
   "source": [
    "a = [1, 2, 3]\n",
    "b = ['a', 'b', 'c']\n",
    "\n",
    "output = itertools.product(a,b)\n",
    "\n",
    "for t in list(output):\n",
    "    print(t)"
   ]
  },
  {
   "cell_type": "markdown",
   "id": "instant-password",
   "metadata": {},
   "source": [
    "So product creates a tuple of each equal index from two lists."
   ]
  },
  {
   "cell_type": "code",
   "execution_count": 95,
   "id": "considerable-baltimore",
   "metadata": {
    "scrolled": true
   },
   "outputs": [
    {
     "name": "stdout",
     "output_type": "stream",
     "text": [
      "(1, 'a', 1, 'a')\n",
      "(1, 'a', 1, 'b')\n",
      "(1, 'a', 1, 'c')\n",
      "(1, 'a', 2, 'a')\n",
      "(1, 'a', 2, 'b')\n",
      "(1, 'a', 2, 'c')\n",
      "(1, 'a', 3, 'a')\n",
      "(1, 'a', 3, 'b')\n",
      "(1, 'a', 3, 'c')\n",
      "(1, 'b', 1, 'a')\n",
      "(1, 'b', 1, 'b')\n",
      "(1, 'b', 1, 'c')\n",
      "(1, 'b', 2, 'a')\n",
      "(1, 'b', 2, 'b')\n",
      "(1, 'b', 2, 'c')\n",
      "(1, 'b', 3, 'a')\n",
      "(1, 'b', 3, 'b')\n",
      "(1, 'b', 3, 'c')\n",
      "(1, 'c', 1, 'a')\n",
      "(1, 'c', 1, 'b')\n",
      "(1, 'c', 1, 'c')\n",
      "(1, 'c', 2, 'a')\n",
      "(1, 'c', 2, 'b')\n",
      "(1, 'c', 2, 'c')\n",
      "(1, 'c', 3, 'a')\n",
      "(1, 'c', 3, 'b')\n",
      "(1, 'c', 3, 'c')\n",
      "(2, 'a', 1, 'a')\n",
      "(2, 'a', 1, 'b')\n",
      "(2, 'a', 1, 'c')\n",
      "(2, 'a', 2, 'a')\n",
      "(2, 'a', 2, 'b')\n",
      "(2, 'a', 2, 'c')\n",
      "(2, 'a', 3, 'a')\n",
      "(2, 'a', 3, 'b')\n",
      "(2, 'a', 3, 'c')\n",
      "(2, 'b', 1, 'a')\n",
      "(2, 'b', 1, 'b')\n",
      "(2, 'b', 1, 'c')\n",
      "(2, 'b', 2, 'a')\n",
      "(2, 'b', 2, 'b')\n",
      "(2, 'b', 2, 'c')\n",
      "(2, 'b', 3, 'a')\n",
      "(2, 'b', 3, 'b')\n",
      "(2, 'b', 3, 'c')\n",
      "(2, 'c', 1, 'a')\n",
      "(2, 'c', 1, 'b')\n",
      "(2, 'c', 1, 'c')\n",
      "(2, 'c', 2, 'a')\n",
      "(2, 'c', 2, 'b')\n",
      "(2, 'c', 2, 'c')\n",
      "(2, 'c', 3, 'a')\n",
      "(2, 'c', 3, 'b')\n",
      "(2, 'c', 3, 'c')\n",
      "(3, 'a', 1, 'a')\n",
      "(3, 'a', 1, 'b')\n",
      "(3, 'a', 1, 'c')\n",
      "(3, 'a', 2, 'a')\n",
      "(3, 'a', 2, 'b')\n",
      "(3, 'a', 2, 'c')\n",
      "(3, 'a', 3, 'a')\n",
      "(3, 'a', 3, 'b')\n",
      "(3, 'a', 3, 'c')\n",
      "(3, 'b', 1, 'a')\n",
      "(3, 'b', 1, 'b')\n",
      "(3, 'b', 1, 'c')\n",
      "(3, 'b', 2, 'a')\n",
      "(3, 'b', 2, 'b')\n",
      "(3, 'b', 2, 'c')\n",
      "(3, 'b', 3, 'a')\n",
      "(3, 'b', 3, 'b')\n",
      "(3, 'b', 3, 'c')\n",
      "(3, 'c', 1, 'a')\n",
      "(3, 'c', 1, 'b')\n",
      "(3, 'c', 1, 'c')\n",
      "(3, 'c', 2, 'a')\n",
      "(3, 'c', 2, 'b')\n",
      "(3, 'c', 2, 'c')\n",
      "(3, 'c', 3, 'a')\n",
      "(3, 'c', 3, 'b')\n",
      "(3, 'c', 3, 'c')\n"
     ]
    }
   ],
   "source": [
    "a = [1, 2, 3]\n",
    "b = ['a', 'b', 'c']\n",
    "\n",
    "output = itertools.product(a, b, repeat = 2)\n",
    "\n",
    "for t in list(output):\n",
    "    print(t)"
   ]
  },
  {
   "cell_type": "markdown",
   "id": "static-government",
   "metadata": {},
   "source": [
    "The difference from zip is that, product is used to compute the Cartesian product of input iterables. It's equivalent to nested for-loops."
   ]
  },
  {
   "cell_type": "markdown",
   "id": "korean-switch",
   "metadata": {},
   "source": [
    "### Permutations"
   ]
  },
  {
   "cell_type": "code",
   "execution_count": 96,
   "id": "apparent-niagara",
   "metadata": {},
   "outputs": [
    {
     "name": "stdout",
     "output_type": "stream",
     "text": [
      "A B C\n",
      "A C B\n",
      "B A C\n",
      "B C A\n",
      "C A B\n",
      "C B A\n"
     ]
    }
   ],
   "source": [
    "l = ['A', 'B', 'C']\n",
    "\n",
    "permutations = itertools.permutations(l)\n",
    "\n",
    "for g in list(permutations):\n",
    "    print(*g, sep = ' ')"
   ]
  },
  {
   "cell_type": "code",
   "execution_count": null,
   "id": "patient-practitioner",
   "metadata": {},
   "outputs": [],
   "source": []
  }
 ],
 "metadata": {
  "kernelspec": {
   "display_name": "Python 3",
   "language": "python",
   "name": "python3"
  },
  "language_info": {
   "codemirror_mode": {
    "name": "ipython",
    "version": 3
   },
   "file_extension": ".py",
   "mimetype": "text/x-python",
   "name": "python",
   "nbconvert_exporter": "python",
   "pygments_lexer": "ipython3",
   "version": "3.9.2"
  }
 },
 "nbformat": 4,
 "nbformat_minor": 5
}
