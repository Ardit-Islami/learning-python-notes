{
 "cells": [
  {
   "cell_type": "markdown",
   "id": "0115653d",
   "metadata": {},
   "source": [
    "# Abstract Data Structure 1 - Stack"
   ]
  },
  {
   "cell_type": "markdown",
   "id": "0406d7b8",
   "metadata": {},
   "source": [
    "Imagine in this scenario where each time we have a new data entry into this data structure, we **Push** the item into our structure.<br>\n",
    "Making this new item exist at the <font color='green'>top</font> of this structure and pushing any existing items towards the <font color='green'>bottom</font>"
   ]
  },
  {
   "cell_type": "markdown",
   "id": "929069d1",
   "metadata": {},
   "source": [
    "Then when we wish to retrieve an item, whatever item is at the top is the first time that is available for us to retrieve. Meaning if our data structure contained one item originally and we inserted 3 more items into the structure...\n",
    "\n",
    "Then we need **Pop** three items before we can access the original item once more."
   ]
  },
  {
   "cell_type": "markdown",
   "id": "26a6bf2a",
   "metadata": {},
   "source": [
    "This concepts is called LIFO.\n",
    "\n",
    "<font color='red'>Last In First Out</font>"
   ]
  },
  {
   "cell_type": "markdown",
   "id": "8c3efd2d",
   "metadata": {},
   "source": [
    "Another way to think about it is... After having washed a stack of dishes, the last dish that you washed will be at the top of this stack and also the first that you will dry with a towel."
   ]
  },
  {
   "cell_type": "markdown",
   "id": "29ce59e4",
   "metadata": {},
   "source": [
    "#### Order of Operation for Push/Pop"
   ]
  },
  {
   "cell_type": "markdown",
   "id": "63c118bc",
   "metadata": {},
   "source": [
    "Push/Pop element: O(1)<br>\n",
    "Search Element by Value: O(n)"
   ]
  },
  {
   "cell_type": "markdown",
   "id": "040ac5be",
   "metadata": {},
   "source": [
    "### Use Cases for Stack"
   ]
  },
  {
   "cell_type": "markdown",
   "id": "79ce6889",
   "metadata": {},
   "source": [
    "- Function calling in any language is managed using a stack.\n",
    "- Undo functionality is actyally using stack to track down the last set of operations"
   ]
  },
  {
   "cell_type": "markdown",
   "id": "3cfd73bd",
   "metadata": {},
   "source": [
    "### Example"
   ]
  },
  {
   "cell_type": "markdown",
   "id": "88acee58",
   "metadata": {},
   "source": [
    "A good example of this is the following challenge code:"
   ]
  },
  {
   "cell_type": "code",
   "execution_count": 1,
   "id": "0dbea766",
   "metadata": {},
   "outputs": [],
   "source": [
    "opposite = {'NORTH': 'SOUTH', 'EAST': 'WEST', 'SOUTH': 'NORTH', 'WEST': 'EAST'}\n",
    "\n",
    "def dirReduc(plan):\n",
    "    new_plan = []\n",
    "    for d in plan:\n",
    "        if new_plan and new_plan[-1] == opposite[d]:\n",
    "            new_plan.pop()\n",
    "        else:\n",
    "            new_plan.append(d)\n",
    "    return new_plan"
   ]
  },
  {
   "cell_type": "markdown",
   "id": "5ba7501d",
   "metadata": {},
   "source": [
    "This is a good example of making use of stack data structure concept.<br>\n",
    "Our new_plan is where the stack process occurs.\n",
    "Where we \"Push\" and \"Pop\" depending on our conditions.\n",
    "\n",
    "Here ammend to new_plan if new_plan is not empty and when the last item is the opposite of the key.<br>\n",
    "This is done to simulate the fact that North is opposite of South and South is opposite of North.\n",
    "\n",
    "We are using the stack concept to always have a comparison of the last appended item and a new item that is compared against conditions to see if we need to \"Push\" it into our structure or if we need \"Pop\" the previously added item, again based on whatever conditions we are setting above."
   ]
  },
  {
   "cell_type": "markdown",
   "id": "e2ad94b5",
   "metadata": {},
   "source": [
    "### Regarding the Function Stack"
   ]
  },
  {
   "cell_type": "markdown",
   "id": "50630555",
   "metadata": {},
   "source": [
    "In Python, the concept of a function stack is slightly different from languages like C or C++. Python uses a call stack similar to other languages, but it’s not directly exposed for you to interact with. However, you can see its effects.\n",
    "\n",
    "When you call a function in Python, a new stack frame is created. This frame contains information about the function called, its arguments, local variables, and where to return when the function completes. Once the function finishes execution, its stack frame is discarded."
   ]
  },
  {
   "cell_type": "code",
   "execution_count": 2,
   "id": "1ed446f4",
   "metadata": {},
   "outputs": [
    {
     "name": "stdout",
     "output_type": "stream",
     "text": [
      "Hello, Alice\n",
      "Hello, Bob\n"
     ]
    }
   ],
   "source": [
    "def greet(name):\n",
    "    message = \"Hello, \" + name\n",
    "    print(message)\n",
    "\n",
    "def main():\n",
    "    greet(\"Alice\")\n",
    "    greet(\"Bob\")\n",
    "\n",
    "main()"
   ]
  },
  {
   "cell_type": "markdown",
   "id": "56283bbb",
   "metadata": {},
   "source": [
    "When main() is called, a stack frame is created for it. Inside main(), when greet(\"Alice\") is called, a new stack frame is created for the greet() function. This frame contains the name argument and the message local variable. After greet(\"Alice\") finishes, its stack frame is discarded. The same process happens for greet(\"Bob\").\n",
    "\n",
    "Python also uses a data structure called a stack for managing recursive function calls. Each time a recursive call is made, a new stack frame is created and pushed onto the call stack. When the recursive call returns, its stack frame is popped from the call stack."
   ]
  },
  {
   "cell_type": "markdown",
   "id": "a187844d",
   "metadata": {},
   "source": [
    "#### Implementing Stack"
   ]
  },
  {
   "cell_type": "markdown",
   "id": "68663a51",
   "metadata": {},
   "source": [
    "There are 3 classes you can use in Python for Stack data structure<br>\n",
    "- list\n",
    "- collections.deque\n",
    "- queue.LifoQueue"
   ]
  },
  {
   "cell_type": "markdown",
   "id": "a2eefc84",
   "metadata": {},
   "source": [
    "### Recommended Approach for using Stack"
   ]
  },
  {
   "cell_type": "markdown",
   "id": "e9081392",
   "metadata": {},
   "source": [
    "First and foremost, using a list to execute your Stack data structure is only really viable with a small data set.<br>\n",
    "\n",
    "The reason for this is because, let's say we have an array with a capacity of 10 and we wish to \"Push\" an 11th element into this array.<br>\n",
    "Python would then need to create another memory location, e.g. 10x2 in size.<br>\n",
    "Now we have unused space and this only get exemplified let's say if we attempt to introduce/push new entries in a million size entry data structure...<br>\n",
    "It will need to copy all those million elements than the additional ones in a new memory space."
   ]
  },
  {
   "cell_type": "markdown",
   "id": "38af10d0",
   "metadata": {},
   "source": [
    "<font color='blue'>The Better Approach</font>"
   ]
  },
  {
   "cell_type": "markdown",
   "id": "35d169fb",
   "metadata": {},
   "source": [
    "Recommended is collections.deque"
   ]
  },
  {
   "cell_type": "code",
   "execution_count": 4,
   "id": "86400859",
   "metadata": {},
   "outputs": [],
   "source": [
    "from collections import deque\n",
    "\n",
    "stack = deque()"
   ]
  },
  {
   "cell_type": "code",
   "execution_count": 5,
   "id": "ba50b080",
   "metadata": {
    "scrolled": true
   },
   "outputs": [
    {
     "data": {
      "text/plain": [
       "['__add__',\n",
       " '__bool__',\n",
       " '__class__',\n",
       " '__class_getitem__',\n",
       " '__contains__',\n",
       " '__copy__',\n",
       " '__delattr__',\n",
       " '__delitem__',\n",
       " '__dir__',\n",
       " '__doc__',\n",
       " '__eq__',\n",
       " '__format__',\n",
       " '__ge__',\n",
       " '__getattribute__',\n",
       " '__getitem__',\n",
       " '__gt__',\n",
       " '__hash__',\n",
       " '__iadd__',\n",
       " '__imul__',\n",
       " '__init__',\n",
       " '__init_subclass__',\n",
       " '__iter__',\n",
       " '__le__',\n",
       " '__len__',\n",
       " '__lt__',\n",
       " '__mul__',\n",
       " '__ne__',\n",
       " '__new__',\n",
       " '__reduce__',\n",
       " '__reduce_ex__',\n",
       " '__repr__',\n",
       " '__reversed__',\n",
       " '__rmul__',\n",
       " '__setattr__',\n",
       " '__setitem__',\n",
       " '__sizeof__',\n",
       " '__str__',\n",
       " '__subclasshook__',\n",
       " 'append',\n",
       " 'appendleft',\n",
       " 'clear',\n",
       " 'copy',\n",
       " 'count',\n",
       " 'extend',\n",
       " 'extendleft',\n",
       " 'index',\n",
       " 'insert',\n",
       " 'maxlen',\n",
       " 'pop',\n",
       " 'popleft',\n",
       " 'remove',\n",
       " 'reverse',\n",
       " 'rotate']"
      ]
     },
     "execution_count": 5,
     "metadata": {},
     "output_type": "execute_result"
    }
   ],
   "source": [
    "dir(stack)"
   ]
  },
  {
   "cell_type": "code",
   "execution_count": 6,
   "id": "27d48e93",
   "metadata": {},
   "outputs": [],
   "source": [
    "stack.append(\"Item 1\")"
   ]
  },
  {
   "cell_type": "code",
   "execution_count": 8,
   "id": "a49c4edb",
   "metadata": {},
   "outputs": [],
   "source": [
    "stack.append(\"Item 2\")"
   ]
  },
  {
   "cell_type": "code",
   "execution_count": 9,
   "id": "e6648c6f",
   "metadata": {},
   "outputs": [
    {
     "data": {
      "text/plain": [
       "deque(['Item 1', 'Item 2'])"
      ]
     },
     "execution_count": 9,
     "metadata": {},
     "output_type": "execute_result"
    }
   ],
   "source": [
    "stack"
   ]
  },
  {
   "cell_type": "code",
   "execution_count": 10,
   "id": "b115f78e",
   "metadata": {},
   "outputs": [
    {
     "data": {
      "text/plain": [
       "'Item 2'"
      ]
     },
     "execution_count": 10,
     "metadata": {},
     "output_type": "execute_result"
    }
   ],
   "source": [
    "stack.pop()"
   ]
  },
  {
   "cell_type": "code",
   "execution_count": 11,
   "id": "f6da07df",
   "metadata": {},
   "outputs": [
    {
     "data": {
      "text/plain": [
       "deque(['Item 1'])"
      ]
     },
     "execution_count": 11,
     "metadata": {},
     "output_type": "execute_result"
    }
   ],
   "source": [
    "stack"
   ]
  },
  {
   "cell_type": "markdown",
   "id": "a8033959",
   "metadata": {},
   "source": [
    "### Exercise"
   ]
  },
  {
   "cell_type": "code",
   "execution_count": 75,
   "id": "51b71516",
   "metadata": {},
   "outputs": [],
   "source": [
    "class Stack:\n",
    "    def __init__(self):\n",
    "        self.container = deque()\n",
    "\n",
    "    def push(self, val):\n",
    "        self.container.append(val)\n",
    "\n",
    "    def pop(self):\n",
    "        return self.container.pop()\n",
    "\n",
    "    def peek(self):\n",
    "        return self.container[-1]\n",
    "\n",
    "    def is_empty(self):\n",
    "        return len(self.container) == 0\n",
    "\n",
    "    def size(self):\n",
    "        return len(self.container)"
   ]
  },
  {
   "cell_type": "markdown",
   "id": "033277cd",
   "metadata": {},
   "source": [
    "Write function that reverses string using stack data structure and using self created stack class above"
   ]
  },
  {
   "cell_type": "code",
   "execution_count": 81,
   "id": "82b3fd9b",
   "metadata": {},
   "outputs": [],
   "source": [
    "def reverse_string(sentence):\n",
    "    queueObj = Stack()\n",
    "    for ch in sentence:\n",
    "        queueObj.push(ch)\n",
    "    \n",
    "    reversal = ''\n",
    "    while queueObj.size()!=0:\n",
    "        reversal += queueObj.pop()\n",
    "        \n",
    "    return reversal"
   ]
  },
  {
   "cell_type": "code",
   "execution_count": 82,
   "id": "c6c51907",
   "metadata": {
    "scrolled": true
   },
   "outputs": [
    {
     "data": {
      "text/plain": [
       "'91-DIVOC ereuqnoc lliw eW'"
      ]
     },
     "execution_count": 82,
     "metadata": {},
     "output_type": "execute_result"
    }
   ],
   "source": [
    "reverse_string('We will conquere COVID-19')"
   ]
  },
  {
   "cell_type": "code",
   "execution_count": null,
   "id": "8505323f",
   "metadata": {},
   "outputs": [],
   "source": []
  }
 ],
 "metadata": {
  "kernelspec": {
   "display_name": "Python 3 (ipykernel)",
   "language": "python",
   "name": "python3"
  },
  "language_info": {
   "codemirror_mode": {
    "name": "ipython",
    "version": 3
   },
   "file_extension": ".py",
   "mimetype": "text/x-python",
   "name": "python",
   "nbconvert_exporter": "python",
   "pygments_lexer": "ipython3",
   "version": "3.9.13"
  }
 },
 "nbformat": 4,
 "nbformat_minor": 5
}
